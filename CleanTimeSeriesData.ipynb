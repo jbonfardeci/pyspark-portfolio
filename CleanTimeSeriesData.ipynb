{
 "cells": [
  {
   "cell_type": "markdown",
   "id": "fa52cd69-6994-46e3-886a-c23cf5a421a4",
   "metadata": {},
   "source": [
    "# Extract Time Series Data from MIA/KIA Data\n",
    "John Bonfardeci<br/>\n",
    "2021-02-02"
   ]
  },
  {
   "cell_type": "code",
   "execution_count": 27,
   "id": "b8fa722a-d991-4c78-b3e9-f5ca96369a49",
   "metadata": {},
   "outputs": [],
   "source": [
    "from pyspark.sql import SparkSession, SQLContext\n",
    "spark = SparkSession.builder.appName('dpaa').getOrCreate()"
   ]
  },
  {
   "cell_type": "code",
   "execution_count": 28,
   "id": "residential-badge",
   "metadata": {},
   "outputs": [
    {
     "data": {
      "text/html": [
       "\n",
       "            <div>\n",
       "                <p><b>SparkSession - in-memory</b></p>\n",
       "                \n",
       "        <div>\n",
       "            <p><b>SparkContext</b></p>\n",
       "\n",
       "            <p><a href=\"http://172.19.135.51:4040\">Spark UI</a></p>\n",
       "\n",
       "            <dl>\n",
       "              <dt>Version</dt>\n",
       "                <dd><code>v3.0.1</code></dd>\n",
       "              <dt>Master</dt>\n",
       "                <dd><code>local[*]</code></dd>\n",
       "              <dt>AppName</dt>\n",
       "                <dd><code>dpaa</code></dd>\n",
       "            </dl>\n",
       "        </div>\n",
       "        \n",
       "            </div>\n",
       "        "
      ],
      "text/plain": [
       "<pyspark.sql.session.SparkSession at 0x7f2ff7524100>"
      ]
     },
     "execution_count": 28,
     "metadata": {},
     "output_type": "execute_result"
    }
   ],
   "source": [
    "spark"
   ]
  },
  {
   "cell_type": "code",
   "execution_count": 29,
   "id": "documentary-gnome",
   "metadata": {},
   "outputs": [],
   "source": [
    "sql = SQLContext(spark.sparkContext)"
   ]
  },
  {
   "cell_type": "code",
   "execution_count": 49,
   "id": "floral-business",
   "metadata": {
    "scrolled": true
   },
   "outputs": [],
   "source": [
    "data = spark.read.csv('./dpaa_icf_20210202.csv', header=True, inferSchema=True)\n",
    "df = data.select(['individual_type', 'identified_date'])\n",
    "sql.registerDataFrameAsTable(df, 'dpaa')"
   ]
  },
  {
   "cell_type": "code",
   "execution_count": 50,
   "id": "aggressive-quality",
   "metadata": {},
   "outputs": [
    {
     "name": "stdout",
     "output_type": "stream",
     "text": [
      "+---------------+---+----+---------+\n",
      "|IdentifiedCount| Mn|  Yr|  Monthly|\n",
      "+---------------+---+----+---------+\n",
      "|              3|  1|2010| 1/1/2010|\n",
      "|             10|  2|2010| 2/1/2010|\n",
      "|             15|  3|2010| 3/1/2010|\n",
      "|              4|  4|2010| 4/1/2010|\n",
      "|              6|  5|2010| 5/1/2010|\n",
      "|              2|  6|2010| 6/1/2010|\n",
      "|              9|  8|2010| 8/1/2010|\n",
      "|             12|  9|2010| 9/1/2010|\n",
      "|              8| 10|2010|10/1/2010|\n",
      "|             10| 11|2010|11/1/2010|\n",
      "|             15|  1|2011| 1/1/2011|\n",
      "|              6|  2|2011| 2/1/2011|\n",
      "|              1|  3|2011| 3/1/2011|\n",
      "|              3|  4|2011| 4/1/2011|\n",
      "|              8|  5|2011| 5/1/2011|\n",
      "|              4|  6|2011| 6/1/2011|\n",
      "|              1|  7|2011| 7/1/2011|\n",
      "|             11|  8|2011| 8/1/2011|\n",
      "|             13|  9|2011| 9/1/2011|\n",
      "|              4| 10|2011|10/1/2011|\n",
      "+---------------+---+----+---------+\n",
      "only showing top 20 rows\n",
      "\n"
     ]
    }
   ],
   "source": [
    "identified_count = sql.sql(\"\"\"\n",
    "SELECT \n",
    "    sum(identified) as IdentifiedCount\n",
    "    , MONTH(identified_date) as Mn\n",
    "    , YEAR(identified_date) as Yr\n",
    "    , concat(MONTH(identified_date), '/1/', YEAR(identified_date)) as Monthly\n",
    "FROM (\n",
    "    SELECT\n",
    "        case when \n",
    "            individual_type in ('Accounted for (1941-1973)', 'DoD Identification', 'Non DPAA Resolved') then 1\n",
    "            else 0\n",
    "        end as identified\n",
    "        , cast(identified_date as Date) as identified_date\n",
    "    FROM \n",
    "        dpaa\n",
    "    WHERE\n",
    "        identified_date != 'NULL' AND identified_date IS NOT NULL\n",
    ") as t\n",
    "WHERE identified_date > '2009-12-31'\n",
    "GROUP BY\n",
    "    MONTH(identified_date)\n",
    "    , YEAR(identified_date)\n",
    "ORDER BY Yr, Mn\n",
    "\"\"\")\n",
    "identified_count.show()"
   ]
  },
  {
   "cell_type": "code",
   "execution_count": 51,
   "id": "collected-ozone",
   "metadata": {},
   "outputs": [],
   "source": [
    "identified_count.select(['IdentifiedCount', 'Monthly']) \\\n",
    "    .repartition(1) \\\n",
    "    .write.csv('./dpaa_identified_counts', header=True)"
   ]
  },
  {
   "cell_type": "code",
   "execution_count": 20,
   "id": "monetary-chapter",
   "metadata": {},
   "outputs": [
    {
     "name": "stdout",
     "output_type": "stream",
     "text": [
      "+---------------+----------+\n",
      "|IdentifiedCount|   Monthly|\n",
      "+---------------+----------+\n",
      "|              3|2010-01-01|\n",
      "|             10|2010-02-01|\n",
      "|             15|2010-03-01|\n",
      "|              4|2010-04-01|\n",
      "|              6|2010-05-01|\n",
      "|              2|2010-06-01|\n",
      "|              0|2010-07-01|\n",
      "|              9|2010-08-01|\n",
      "|             12|2010-09-01|\n",
      "|              8|2010-10-01|\n",
      "|             10|2010-11-01|\n",
      "|              0|2010-12-01|\n",
      "|             15|2011-01-01|\n",
      "|              6|2011-02-01|\n",
      "|              1|2011-03-01|\n",
      "|              3|2011-04-01|\n",
      "|              8|2011-05-01|\n",
      "|              4|2011-06-01|\n",
      "|              1|2011-07-01|\n",
      "|             11|2011-08-01|\n",
      "+---------------+----------+\n",
      "only showing top 20 rows\n",
      "\n"
     ]
    }
   ],
   "source": [
    "schema = {}\n",
    "count_data = spark.read.csv('./dpaa_icf_20210202_counts.csv', inferSchema=True, header=True)\n",
    "count_data.show()"
   ]
  },
  {
   "cell_type": "code",
   "execution_count": 5,
   "id": "lined-giving",
   "metadata": {},
   "outputs": [],
   "source": [
    "sql.registerDataFrameAsTable(count_data, 'count_data')"
   ]
  },
  {
   "cell_type": "code",
   "execution_count": 26,
   "id": "present-white",
   "metadata": {},
   "outputs": [
    {
     "name": "stdout",
     "output_type": "stream",
     "text": [
      "+------------------+\n",
      "|        MonthlyAvg|\n",
      "+------------------+\n",
      "|13.865671641791044|\n",
      "+------------------+\n",
      "\n"
     ]
    }
   ],
   "source": [
    "monthly_avg = sql.sql(\"\"\"\n",
    "SELECT AVG(IdentifiedCount) as MonthlyAvg FROM count_data WHERE YEAR(Monthly) >= 2015\n",
    "\"\"\")\n",
    "monthly_avg.show()"
   ]
  },
  {
   "cell_type": "code",
   "execution_count": 34,
   "id": "painted-beverage",
   "metadata": {},
   "outputs": [
    {
     "name": "stdout",
     "output_type": "stream",
     "text": [
      "+-----+----+\n",
      "| Mean|Mnth|\n",
      "+-----+----+\n",
      "| 7.33|   1|\n",
      "| 7.67|   2|\n",
      "| 8.67|   3|\n",
      "|13.83|   4|\n",
      "|10.83|   5|\n",
      "|15.67|   6|\n",
      "| 14.0|   7|\n",
      "| 31.4|   8|\n",
      "| 31.6|   9|\n",
      "|  5.6|  10|\n",
      "|  8.4|  11|\n",
      "| 15.2|  12|\n",
      "+-----+----+\n",
      "\n"
     ]
    }
   ],
   "source": [
    "monthly_avg = sql.sql(\"\"\"\n",
    "SELECT ROUND(AVG(IdentifiedCount), 2) as Mean, MONTH(Monthly) as Mnth \n",
    "FROM count_data \n",
    "WHERE YEAR(Monthly) >= 2015 \n",
    "GROUP BY MONTH(Monthly) \n",
    "ORDER BY Mnth\n",
    "\"\"\")\n",
    "monthly_avg.show()"
   ]
  },
  {
   "cell_type": "code",
   "execution_count": 35,
   "id": "funky-shopping",
   "metadata": {},
   "outputs": [],
   "source": [
    "monthly_avg.repartition(1).write.csv('./monthly_means', header=True)"
   ]
  },
  {
   "cell_type": "code",
   "execution_count": 48,
   "id": "removed-conditions",
   "metadata": {},
   "outputs": [
    {
     "name": "stdout",
     "output_type": "stream",
     "text": [
      "+---------+----+\n",
      "|YrlyTotal|  Yr|\n",
      "+---------+----+\n",
      "|      100|2015|\n",
      "|      147|2016|\n",
      "|      178|2017|\n",
      "|      215|2018|\n",
      "|      214|2019|\n",
      "|       75|2020|\n",
      "+---------+----+\n",
      "\n"
     ]
    }
   ],
   "source": [
    "yearly_totals = sql.sql(\"\"\"\n",
    "SELECT SUM(IdentifiedCount) AS YrlyTotal, YEAR(Monthly) AS Yr\n",
    "FROM count_data \n",
    "WHERE YEAR(Monthly) >= 2015 \n",
    "GROUP BY YEAR(Monthly)\n",
    "ORDER BY Yr\n",
    "\"\"\")\n",
    "yearly_totals.show()"
   ]
  },
  {
   "cell_type": "code",
   "execution_count": 45,
   "id": "postal-teddy",
   "metadata": {},
   "outputs": [],
   "source": [
    "yearly_totals.repartition(1).write.csv('./yearly_totals', header=True)"
   ]
  },
  {
   "cell_type": "code",
   "execution_count": 38,
   "id": "paperback-dublin",
   "metadata": {},
   "outputs": [
    {
     "name": "stdout",
     "output_type": "stream",
     "text": [
      "+------------------+\n",
      "|           YrlyAvg|\n",
      "+------------------+\n",
      "|154.83333333333334|\n",
      "+------------------+\n",
      "\n"
     ]
    }
   ],
   "source": [
    "yearly_avg = sql.sql(\"\"\"\n",
    "SELECT AVG(YrlyTotal) as YrlyAvg FROM (\n",
    "    SELECT SUM(IdentifiedCount) AS YrlyTotal FROM count_data WHERE YEAR(Monthly) >= 2015 GROUP BY YEAR(Monthly)\n",
    ")\n",
    "\"\"\")\n",
    "yearly_avg.show()"
   ]
  },
  {
   "cell_type": "code",
   "execution_count": 47,
   "id": "educational-suite",
   "metadata": {},
   "outputs": [
    {
     "name": "stdout",
     "output_type": "stream",
     "text": [
      "+----------+----+\n",
      "|MonthlyAvg|  Yr|\n",
      "+----------+----+\n",
      "|      8.33|2015|\n",
      "|     12.25|2016|\n",
      "|     14.83|2017|\n",
      "|     17.92|2018|\n",
      "|     17.83|2019|\n",
      "|     10.71|2020|\n",
      "+----------+----+\n",
      "\n"
     ]
    }
   ],
   "source": [
    "monthly_avg_yr = sql.sql(\"\"\"\n",
    "SELECT ROUND(AVG(IdentifiedCount), 2) AS MonthlyAvg, YEAR(Monthly) AS Yr\n",
    "FROM count_data \n",
    "WHERE YEAR(Monthly) >= 2015 \n",
    "GROUP BY YEAR(Monthly)\n",
    "ORDER BY Yr\n",
    "\"\"\")\n",
    "monthly_avg_yr.show()"
   ]
  },
  {
   "cell_type": "code",
   "execution_count": 41,
   "id": "infrared-threshold",
   "metadata": {},
   "outputs": [],
   "source": [
    "monthly_avg_yr.repartition(1).write.csv('./monthly_means_yr', header=True)"
   ]
  }
 ],
 "metadata": {
  "kernelspec": {
   "display_name": "Python 3",
   "language": "python",
   "name": "python3"
  },
  "language_info": {
   "codemirror_mode": {
    "name": "ipython",
    "version": 3
   },
   "file_extension": ".py",
   "mimetype": "text/x-python",
   "name": "python",
   "nbconvert_exporter": "python",
   "pygments_lexer": "ipython3",
   "version": "3.9.1"
  }
 },
 "nbformat": 4,
 "nbformat_minor": 5
}
