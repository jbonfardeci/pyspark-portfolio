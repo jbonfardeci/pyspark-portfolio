{
 "cells": [
  {
   "cell_type": "markdown",
   "metadata": {},
   "source": [
    "# DPAA MIA/KIA Graph Viz\n",
    "Author: John Bonfardeci<br />\n",
    "Last modified: 2021-05-12"
   ]
  },
  {
   "cell_type": "code",
   "execution_count": null,
   "metadata": {
    "scrolled": true
   },
   "outputs": [],
   "source": [
    "import nest_asyncio\n",
    "nest_asyncio.apply()"
   ]
  },
  {
   "cell_type": "code",
   "execution_count": null,
   "metadata": {
    "scrolled": true
   },
   "outputs": [],
   "source": [
    "!conda update -n base -c defaults conda -y"
   ]
  },
  {
   "cell_type": "code",
   "execution_count": null,
   "metadata": {
    "scrolled": true
   },
   "outputs": [],
   "source": [
    "%graph_notebook_version"
   ]
  },
  {
   "cell_type": "code",
   "execution_count": null,
   "metadata": {
    "scrolled": true
   },
   "outputs": [],
   "source": [
    "%graph_notebook_config"
   ]
  },
  {
   "cell_type": "code",
   "execution_count": null,
   "metadata": {
    "scrolled": true
   },
   "outputs": [],
   "source": [
    "%status"
   ]
  },
  {
   "cell_type": "markdown",
   "metadata": {},
   "source": [
    "### List Total Number of People in Database"
   ]
  },
  {
   "cell_type": "code",
   "execution_count": null,
   "metadata": {
    "scrolled": true
   },
   "outputs": [],
   "source": [
    "%%gremlin\n",
    "g.V().hasLabel('person').groupCount().by(label)"
   ]
  },
  {
   "cell_type": "markdown",
   "metadata": {},
   "source": [
    "### Query visualization hints\n",
    "\n",
    "You can specify query visualization hints using either `-p` or `--path-pattern` after the `%%gremin` cell \"magic\". The syntax in general is:\n",
    "\n",
    "`%%gremlin -p | --path-pattern <comma separated hints>`\n",
    "\n",
    " The names of the hints reflect the Gremlin steps most commonly used when traversing between vertices and behave accordingly. The hints used should match the corresponding Gremlin steps used in the query. The hints used can be any combination of those shown in the list below, separated by commas. The list must not contain any spaces between the commas.\n",
    "\n",
    "- v\n",
    "- inv\n",
    "- outv\n",
    "- e\n",
    "- ine\n",
    "- oute\n",
    "\n",
    "\n",
    "\n",
    "We can provide visualization hints for the query shown earlier as follows:\n",
    "\n",
    "`%%gremlin -p v,oute,inv`  \n",
    "`g.V().hasLabel('airport').outE().inV().path().by('code').by('dist').limit(5)`\n",
    "\n",
    "You will find that query in the cell below. Try running it with and without the hints present and observe the differences to the visualization by selecting the `Graph` tab. Notice that without the hint the visualizer is unable to determine if the `dist` property relates to a vertex or an edge and therefore defaults to using a vertex.\n",
    "\n",
    "### Adjusting the visualization layout and other settings\n",
    "You can further adjust many of the visualization settings using the two commands\n",
    "\n",
    "- `%graph_notebook_vis_options`\n",
    "- `%%graph_notebook_vis_options`\n",
    "\n",
    "There are examples of how to use these settings and links to additional documentation at the bottom of this notebook."
   ]
  },
  {
   "cell_type": "code",
   "execution_count": null,
   "metadata": {},
   "outputs": [],
   "source": [
    "%%gremlin -p v,oute,inv\n",
    "g.V().has('person', 'person_id', '0b03d5e1812c4ca9').outE().inV().path().limit(2500)"
   ]
  },
  {
   "cell_type": "markdown",
   "metadata": {},
   "source": [
    "## List all Vertices"
   ]
  },
  {
   "cell_type": "code",
   "execution_count": null,
   "metadata": {
    "scrolled": true
   },
   "outputs": [],
   "source": [
    "%%gremlin\n",
    "g.V().groupCount().by(label).unfold()"
   ]
  },
  {
   "cell_type": "markdown",
   "metadata": {},
   "source": [
    "## List all Edges"
   ]
  },
  {
   "cell_type": "code",
   "execution_count": null,
   "metadata": {},
   "outputs": [],
   "source": [
    "%%gremlin\n",
    "g.E().groupCount().by(label).unfold()"
   ]
  },
  {
   "cell_type": "markdown",
   "metadata": {},
   "source": [
    "## Count of identified = 1/0"
   ]
  },
  {
   "cell_type": "code",
   "execution_count": null,
   "metadata": {
    "scrolled": true
   },
   "outputs": [],
   "source": [
    "%%gremlin\n",
    "g.V().hasLabel('identified').group().by('value').by(in().count()).unfold()"
   ]
  },
  {
   "cell_type": "markdown",
   "metadata": {},
   "source": [
    "### Relationships for First Ten Soldiers in DB"
   ]
  },
  {
   "cell_type": "code",
   "execution_count": null,
   "metadata": {},
   "outputs": [],
   "source": [
    "%%gremlin\n",
    "g.V().hasLabel('person').limit(10)\n",
    "    .outE('served_in', 'served_under', 'has_conflict_status_code', 'has_identified_status')\n",
    "    .inV().values('value')\n",
    "    .path().limit(1000)"
   ]
  },
  {
   "cell_type": "markdown",
   "metadata": {},
   "source": [
    "### Traverse Vietnam War by Person and Identified Status"
   ]
  },
  {
   "cell_type": "code",
   "execution_count": null,
   "metadata": {
    "scrolled": true
   },
   "outputs": [],
   "source": [
    "%%gremlin\n",
    "g.V()\n",
    "    .has('conflict', 'value', 'VIETNAM WAR')\n",
    "    .inE().outV().hasLabel('person')\n",
    "    .outE().inV().hasLabel('identified').values('value')\n",
    "    .path().limit(100)"
   ]
  },
  {
   "cell_type": "code",
   "execution_count": null,
   "metadata": {},
   "outputs": [],
   "source": [
    "%%gremlin\n",
    "g.V()\n",
    "    .has('conflict', 'value', 'VIETNAM WAR')\n",
    "    .inE().outV().hasLabel('person')\n",
    "    .outE().inV().hasLabel('identified').values('value')\n",
    "    .path().limit(100)"
   ]
  },
  {
   "cell_type": "markdown",
   "metadata": {},
   "source": [
    "### Korean War"
   ]
  },
  {
   "cell_type": "code",
   "execution_count": null,
   "metadata": {},
   "outputs": [],
   "source": [
    "%%gremlin\n",
    "g.V()\n",
    "    .has('conflict', 'value', 'KOREAN WAR')\n",
    "    .inE().outV().hasLabel('person').limit(25)\n",
    "    .out()\n",
    "    .path().limit(1000)"
   ]
  },
  {
   "cell_type": "code",
   "execution_count": null,
   "metadata": {
    "scrolled": true
   },
   "outputs": [],
   "source": []
  }
 ],
 "metadata": {
  "kernelspec": {
   "display_name": "Python 3",
   "language": "python",
   "name": "python3"
  },
  "language_info": {
   "codemirror_mode": {
    "name": "ipython",
    "version": 3
   },
   "file_extension": ".py",
   "mimetype": "text/x-python",
   "name": "python",
   "nbconvert_exporter": "python",
   "pygments_lexer": "ipython3",
   "version": "3.9.1"
  }
 },
 "nbformat": 4,
 "nbformat_minor": 4
}
