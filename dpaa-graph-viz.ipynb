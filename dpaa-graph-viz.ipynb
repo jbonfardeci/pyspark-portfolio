{
 "cells": [
  {
   "cell_type": "markdown",
   "metadata": {},
   "source": [
    "# DPAA MIA/KIA Graph Viz\n",
    "Author: John Bonfardeci<br />\n",
    "Last modified: 2021-05-12"
   ]
  },
  {
   "cell_type": "code",
   "execution_count": 1,
   "metadata": {
    "scrolled": true
   },
   "outputs": [],
   "source": [
    "import nest_asyncio\n",
    "nest_asyncio.apply()"
   ]
  },
  {
   "cell_type": "code",
   "execution_count": null,
   "metadata": {
    "scrolled": true
   },
   "outputs": [
    {
     "name": "stdout",
     "output_type": "stream",
     "text": [
      "Collecting package metadata (current_repodata.json): done\n",
      "Solving environment: - \n",
      "The environment is inconsistent, please check the package plan carefully\n",
      "The following packages are causing the inconsistency:\n",
      "\n",
      "  - defaults/noarch::tifffile==2021.1.14=pyhd3eb1b0_1\n",
      "  - defaults/linux-64::numpy-base==1.19.2=py37hfa32c7d_0\n",
      "  - conda-forge/linux-64::numexpr==2.7.3=py37hdc94413_0\n",
      "  - defaults/linux-64::secretstorage==3.3.1=py37h06a4308_0\n",
      "  - defaults/linux-64::bokeh==2.2.3=py37_0\n",
      "  - defaults/linux-64::anaconda-client==1.7.2=py37_0\n",
      "  - defaults/linux-64::bottleneck==1.3.2=py37heb32a55_1\n",
      "  - defaults/linux-64::imagecodecs==2021.1.11=py37h581e88b_1\n",
      "  - defaults/linux-64::keyring==22.0.1=py37h06a4308_0\n",
      "  - defaults/noarch::dask==2021.2.0=pyhd3eb1b0_0\n",
      "  - defaults/linux-64::_anaconda_depends==2020.07=py37_0\n",
      "  - defaults/linux-64::mkl_fft==1.3.0=py37h54f3939_0\n",
      "  - defaults/linux-64::scikit-learn==0.23.2=py37h0573a6f_0\n",
      "  - defaults/linux-64::spyder==4.2.1=py37h06a4308_1\n",
      "  - defaults/linux-64::harfbuzz==2.4.0=hca77d97_1\n",
      "  - defaults/linux-64::pywavelets==1.1.1=py37h7b6447c_2\n",
      "  - defaults/linux-64::pytables==3.6.1=py37h71ec239_0\n",
      "  - defaults/noarch::anaconda-project==0.9.1=pyhd3eb1b0_1\n",
      "  - defaults/linux-64::scipy==1.6.2=py37h91f5cce_0\n",
      "  - defaults/linux-64::cairo==1.14.12=h8948797_3\n",
      "  - defaults/linux-64::pyopenssl==19.1.0=py37_0\n",
      "  - defaults/linux-64::bkcharts==0.2=py37_0\n",
      "  - defaults/noarch::seaborn==0.11.1=pyhd3eb1b0_0\n",
      "  - defaults/linux-64::pango==1.45.3=hd140c19_0\n",
      "  - defaults/linux-64::pandas==1.2.2=py37ha9443f7_0\n",
      "  - defaults/noarch::sphinx==3.5.1=pyhd3eb1b0_0\n",
      "  - defaults/linux-64::mkl_random==1.1.1=py37h0573a6f_0\n",
      "  - defaults/noarch::imageio==2.9.0=py_0\n",
      "  - defaults/linux-64::astropy==4.2=py37h27cfd23_0\n",
      "  - defaults/linux-64::conda==4.8.4=py37_0\n",
      "  - defaults/linux-64::matplotlib-base==3.3.4=py37h62a2d02_0\n",
      "  - defaults/linux-64::matplotlib==3.3.4=py37h06a4308_0\n",
      "  - defaults/linux-64::numba==0.51.2=py37h04863e7_1\n",
      "  - defaults/linux-64::scikit-image==0.17.2=py37hdf5156a_0\n",
      "  - defaults/linux-64::pyerfa==1.7.2=py37h27cfd23_0\n",
      "  - defaults/linux-64::statsmodels==0.12.2=py37h27cfd23_0\n",
      "  - defaults/linux-64::numpy==1.19.2=py37h54aff64_0\n",
      "  - defaults/linux-64::patsy==0.5.1=py37_0\n",
      "  - defaults/noarch::numpydoc==1.1.0=pyhd3eb1b0_1\n",
      "  - defaults/linux-64::h5py==2.10.0=py37h7918eee_0\n",
      "failed with repodata from current_repodata.json, will retry with next repodata source.\n",
      "Solving environment: failed with repodata from current_repodata.json, will retry with next repodata source.\n",
      "Collecting package metadata (repodata.json): done\n",
      "Solving environment: - \n",
      "The environment is inconsistent, please check the package plan carefully\n",
      "The following packages are causing the inconsistency:\n",
      "\n",
      "  - defaults/linux-64::secretstorage==3.3.1=py37h06a4308_0\n",
      "  - defaults/linux-64::anaconda-client==1.7.2=py37_0\n",
      "  - defaults/linux-64::keyring==22.0.1=py37h06a4308_0\n",
      "  - defaults/linux-64::_anaconda_depends==2020.07=py37_0\n",
      "  - defaults/linux-64::spyder==4.2.1=py37h06a4308_1\n",
      "  - defaults/noarch::anaconda-project==0.9.1=pyhd3eb1b0_1\n",
      "  - defaults/linux-64::pyopenssl==19.1.0=py37_0\n",
      "  - defaults/noarch::sphinx==3.5.1=pyhd3eb1b0_0\n",
      "  - defaults/linux-64::conda==4.8.4=py37_0\n",
      "  - defaults/noarch::numpydoc==1.1.0=pyhd3eb1b0_1\n",
      "\\ "
     ]
    }
   ],
   "source": [
    "!conda update -n base -c defaults conda -y"
   ]
  },
  {
   "cell_type": "code",
   "execution_count": 8,
   "metadata": {
    "scrolled": true
   },
   "outputs": [
    {
     "name": "stdout",
     "output_type": "stream",
     "text": [
      "Collecting package metadata (current_repodata.json): done\n",
      "Solving environment: done\n",
      "\n",
      "\n",
      "==> WARNING: A newer version of conda exists. <==\n",
      "  current version: 4.8.4\n",
      "  latest version: 4.10.1\n",
      "\n",
      "Please update conda by running\n",
      "\n",
      "    $ conda update -n base -c defaults conda\n",
      "\n",
      "\n",
      "\n",
      "## Package Plan ##\n",
      "\n",
      "  environment location: /home/ec2-user/anaconda3/envs/JupyterSystemEnv\n",
      "\n",
      "  added / updated specs:\n",
      "    - pyodbc\n",
      "\n",
      "\n",
      "The following packages will be downloaded:\n",
      "\n",
      "    package                    |            build\n",
      "    ---------------------------|-----------------\n",
      "    unixodbc-2.3.9             |       hb166930_0         293 KB  conda-forge\n",
      "    ------------------------------------------------------------\n",
      "                                           Total:         293 KB\n",
      "\n",
      "The following NEW packages will be INSTALLED:\n",
      "\n",
      "  pyodbc             conda-forge/linux-64::pyodbc-4.0.30-py36hc4f0c31_1\n",
      "  unixodbc           conda-forge/linux-64::unixodbc-2.3.9-hb166930_0\n",
      "\n",
      "\n",
      "\n",
      "Downloading and Extracting Packages\n",
      "unixodbc-2.3.9       | 293 KB    | ##################################### | 100% \n",
      "Preparing transaction: done\n",
      "Verifying transaction: done\n",
      "Executing transaction: done\n"
     ]
    }
   ],
   "source": [
    "!conda install pyodbc -y"
   ]
  },
  {
   "cell_type": "code",
   "execution_count": 2,
   "metadata": {
    "scrolled": true
   },
   "outputs": [
    {
     "name": "stdout",
     "output_type": "stream",
     "text": [
      "2.1.2\n"
     ]
    }
   ],
   "source": [
    "%graph_notebook_version"
   ]
  },
  {
   "cell_type": "code",
   "execution_count": 3,
   "metadata": {
    "scrolled": true
   },
   "outputs": [
    {
     "name": "stdout",
     "output_type": "stream",
     "text": [
      "{\n",
      "  \"host\": \"database-1.cluster-cbqe6d3hp7zw.us-east-1.neptune.amazonaws.com\",\n",
      "  \"port\": 8182,\n",
      "  \"auth_mode\": \"DEFAULT\",\n",
      "  \"load_from_s3_arn\": \"\",\n",
      "  \"ssl\": true,\n",
      "  \"aws_region\": \"us-east-1\",\n",
      "  \"sparql\": {\n",
      "    \"path\": \"sparql\"\n",
      "  }\n",
      "}\n"
     ]
    },
    {
     "data": {
      "text/plain": [
       "<graph_notebook.configuration.generate_config.Configuration at 0x7f2759a6a860>"
      ]
     },
     "execution_count": 3,
     "metadata": {},
     "output_type": "execute_result"
    }
   ],
   "source": [
    "%graph_notebook_config"
   ]
  },
  {
   "cell_type": "code",
   "execution_count": 4,
   "metadata": {
    "scrolled": true
   },
   "outputs": [
    {
     "data": {
      "text/plain": [
       "{'status': 'healthy',\n",
       " 'startTime': 'Fri May 14 02:03:27 UTC 2021',\n",
       " 'dbEngineVersion': '1.0.4.1.R4',\n",
       " 'role': 'writer',\n",
       " 'gremlin': {'version': 'tinkerpop-3.4.8'},\n",
       " 'sparql': {'version': 'sparql-1.1'},\n",
       " 'labMode': {'NeptuneML': 'disabled',\n",
       "  'ObjectIndex': 'disabled',\n",
       "  'DFEQueryEngine': 'disabled',\n",
       "  'ReadWriteConflictDetection': 'enabled'}}"
      ]
     },
     "execution_count": 4,
     "metadata": {},
     "output_type": "execute_result"
    }
   ],
   "source": [
    "%status"
   ]
  },
  {
   "cell_type": "markdown",
   "metadata": {},
   "source": [
    "### List Total Number of People in Database"
   ]
  },
  {
   "cell_type": "code",
   "execution_count": 5,
   "metadata": {
    "scrolled": true
   },
   "outputs": [
    {
     "data": {
      "application/vnd.jupyter.widget-view+json": {
       "model_id": "ebe69402240344769962e776782915c5",
       "version_major": 2,
       "version_minor": 0
      },
      "text/plain": [
       "Tab(children=(Output(layout=Layout(max_height='600px', overflow='scroll', width='100%')), Output(layout=Layout…"
      ]
     },
     "metadata": {},
     "output_type": "display_data"
    }
   ],
   "source": [
    "%%gremlin\n",
    "g.V().hasLabel('person').groupCount().by(label)"
   ]
  },
  {
   "cell_type": "markdown",
   "metadata": {},
   "source": [
    "### Query visualization hints\n",
    "\n",
    "You can specify query visualization hints using either `-p` or `--path-pattern` after the `%%gremin` cell \"magic\". The syntax in general is:\n",
    "\n",
    "`%%gremlin -p | --path-pattern <comma separated hints>`\n",
    "\n",
    " The names of the hints reflect the Gremlin steps most commonly used when traversing between vertices and behave accordingly. The hints used should match the corresponding Gremlin steps used in the query. The hints used can be any combination of those shown in the list below, separated by commas. The list must not contain any spaces between the commas.\n",
    "\n",
    "- v\n",
    "- inv\n",
    "- outv\n",
    "- e\n",
    "- ine\n",
    "- oute\n",
    "\n",
    "\n",
    "\n",
    "We can provide visualization hints for the query shown earlier as follows:\n",
    "\n",
    "`%%gremlin -p v,oute,inv`  \n",
    "`g.V().hasLabel('airport').outE().inV().path().by('code').by('dist').limit(5)`\n",
    "\n",
    "You will find that query in the cell below. Try running it with and without the hints present and observe the differences to the visualization by selecting the `Graph` tab. Notice that without the hint the visualizer is unable to determine if the `dist` property relates to a vertex or an edge and therefore defaults to using a vertex.\n",
    "\n",
    "### Adjusting the visualization layout and other settings\n",
    "You can further adjust many of the visualization settings using the two commands\n",
    "\n",
    "- `%graph_notebook_vis_options`\n",
    "- `%%graph_notebook_vis_options`\n",
    "\n",
    "There are examples of how to use these settings and links to additional documentation at the bottom of this notebook."
   ]
  },
  {
   "cell_type": "code",
   "execution_count": 6,
   "metadata": {},
   "outputs": [
    {
     "data": {
      "application/vnd.jupyter.widget-view+json": {
       "model_id": "ab3e202dbcee4f5b8c2287181a1433dd",
       "version_major": 2,
       "version_minor": 0
      },
      "text/plain": [
       "Tab(children=(Output(layout=Layout(max_height='600px', overflow='scroll', width='100%')), Force(network=<graph…"
      ]
     },
     "metadata": {},
     "output_type": "display_data"
    }
   ],
   "source": [
    "%%gremlin -p v,oute,inv\n",
    "g.V().has('person', 'person_id', '0b03d5e1812c4ca9').outE().inV().path().limit(2500)"
   ]
  },
  {
   "cell_type": "markdown",
   "metadata": {},
   "source": [
    "## List all Vertices"
   ]
  },
  {
   "cell_type": "code",
   "execution_count": 7,
   "metadata": {
    "scrolled": true
   },
   "outputs": [
    {
     "data": {
      "application/vnd.jupyter.widget-view+json": {
       "model_id": "5e750e06759a470abe09b5f1320bda45",
       "version_major": 2,
       "version_minor": 0
      },
      "text/plain": [
       "Tab(children=(Output(layout=Layout(max_height='600px', overflow='scroll', width='100%')), Output(layout=Layout…"
      ]
     },
     "metadata": {},
     "output_type": "display_data"
    }
   ],
   "source": [
    "%%gremlin\n",
    "g.V().groupCount().by(label).unfold()"
   ]
  },
  {
   "cell_type": "markdown",
   "metadata": {},
   "source": [
    "## List all Edges"
   ]
  },
  {
   "cell_type": "code",
   "execution_count": 8,
   "metadata": {},
   "outputs": [
    {
     "data": {
      "application/vnd.jupyter.widget-view+json": {
       "model_id": "ed9d2e9fedef4910b71f587e3f842498",
       "version_major": 2,
       "version_minor": 0
      },
      "text/plain": [
       "Tab(children=(Output(layout=Layout(max_height='600px', overflow='scroll', width='100%')), Output(layout=Layout…"
      ]
     },
     "metadata": {},
     "output_type": "display_data"
    }
   ],
   "source": [
    "%%gremlin\n",
    "g.E().groupCount().by(label).unfold()"
   ]
  },
  {
   "cell_type": "markdown",
   "metadata": {},
   "source": [
    "## Count of identified = 1/0"
   ]
  },
  {
   "cell_type": "code",
   "execution_count": 9,
   "metadata": {
    "scrolled": true
   },
   "outputs": [
    {
     "data": {
      "application/vnd.jupyter.widget-view+json": {
       "model_id": "6bb20a0919f14bc6bc3de44f9f8185b7",
       "version_major": 2,
       "version_minor": 0
      },
      "text/plain": [
       "Tab(children=(Output(layout=Layout(max_height='600px', overflow='scroll', width='100%')), Output(layout=Layout…"
      ]
     },
     "metadata": {},
     "output_type": "display_data"
    }
   ],
   "source": [
    "%%gremlin\n",
    "g.V().hasLabel('identified').group().by('value').by(in().count()).unfold()"
   ]
  },
  {
   "cell_type": "markdown",
   "metadata": {},
   "source": [
    "### Relationships for First Ten Soldiers in DB"
   ]
  },
  {
   "cell_type": "code",
   "execution_count": 10,
   "metadata": {},
   "outputs": [
    {
     "name": "stderr",
     "output_type": "stream",
     "text": [
      "ERROR:asyncio:Task was destroyed but it is pending!\n",
      "task: <Task pending coro=<WebSocketProtocol13._receive_frame_loop() done, defined at /home/ec2-user/anaconda3/envs/JupyterSystemEnv/lib/python3.6/site-packages/tornado/websocket.py:1113> wait_for=<Future pending cb=[Task._wakeup()]> cb=[IOLoop.add_future.<locals>.<lambda>() at /home/ec2-user/anaconda3/envs/JupyterSystemEnv/lib/python3.6/site-packages/tornado/ioloop.py:688]>\n"
     ]
    },
    {
     "data": {
      "application/vnd.jupyter.widget-view+json": {
       "model_id": "d777131279764a98a720eebcaad51460",
       "version_major": 2,
       "version_minor": 0
      },
      "text/plain": [
       "Tab(children=(Output(layout=Layout(max_height='600px', overflow='scroll', width='100%')), Force(network=<graph…"
      ]
     },
     "metadata": {},
     "output_type": "display_data"
    }
   ],
   "source": [
    "%%gremlin\n",
    "g.V().hasLabel('person').limit(10)\n",
    "    .outE('served_in', 'served_under', 'has_conflict_status_code', 'has_identified_status')\n",
    "    .inV().values('value')\n",
    "    .path().limit(1000)"
   ]
  },
  {
   "cell_type": "markdown",
   "metadata": {},
   "source": [
    "### Traverse Vietnam War by Person and Identified Status"
   ]
  },
  {
   "cell_type": "code",
   "execution_count": 11,
   "metadata": {
    "scrolled": true
   },
   "outputs": [
    {
     "name": "stderr",
     "output_type": "stream",
     "text": [
      "ERROR:asyncio:Task was destroyed but it is pending!\n",
      "task: <Task pending coro=<WebSocketProtocol13._receive_frame_loop() running at /home/ec2-user/anaconda3/envs/JupyterSystemEnv/lib/python3.6/site-packages/tornado/websocket.py:1116> wait_for=<Future pending cb=[Task._wakeup()]> cb=[IOLoop.add_future.<locals>.<lambda>() at /home/ec2-user/anaconda3/envs/JupyterSystemEnv/lib/python3.6/site-packages/tornado/ioloop.py:688]>\n",
      "ERROR:asyncio:Task was destroyed but it is pending!\n",
      "task: <Task pending coro=<WebSocketProtocol13._receive_frame_loop() running at /home/ec2-user/anaconda3/envs/JupyterSystemEnv/lib/python3.6/site-packages/tornado/websocket.py:1116> wait_for=<Future pending cb=[Task._wakeup()]> cb=[IOLoop.add_future.<locals>.<lambda>() at /home/ec2-user/anaconda3/envs/JupyterSystemEnv/lib/python3.6/site-packages/tornado/ioloop.py:688]>\n",
      "ERROR:asyncio:Task was destroyed but it is pending!\n",
      "task: <Task pending coro=<WebSocketProtocol13._receive_frame_loop() running at /home/ec2-user/anaconda3/envs/JupyterSystemEnv/lib/python3.6/site-packages/tornado/websocket.py:1116> wait_for=<Future pending cb=[Task._wakeup()]> cb=[IOLoop.add_future.<locals>.<lambda>() at /home/ec2-user/anaconda3/envs/JupyterSystemEnv/lib/python3.6/site-packages/tornado/ioloop.py:688]>\n",
      "ERROR:asyncio:Task was destroyed but it is pending!\n",
      "task: <Task pending coro=<WebSocketProtocol13._receive_frame_loop() running at /home/ec2-user/anaconda3/envs/JupyterSystemEnv/lib/python3.6/site-packages/tornado/websocket.py:1116> wait_for=<Future pending cb=[Task._wakeup()]> cb=[IOLoop.add_future.<locals>.<lambda>() at /home/ec2-user/anaconda3/envs/JupyterSystemEnv/lib/python3.6/site-packages/tornado/ioloop.py:688]>\n"
     ]
    },
    {
     "data": {
      "application/vnd.jupyter.widget-view+json": {
       "model_id": "f49a39c449dd4c1da80c0599819753c2",
       "version_major": 2,
       "version_minor": 0
      },
      "text/plain": [
       "Tab(children=(Output(layout=Layout(max_height='600px', overflow='scroll', width='100%')), Force(network=<graph…"
      ]
     },
     "metadata": {},
     "output_type": "display_data"
    }
   ],
   "source": [
    "%%gremlin\n",
    "g.V()\n",
    "    .has('conflict', 'value', 'VIETNAM WAR')\n",
    "    .inE().outV().hasLabel('person')\n",
    "    .outE().inV().hasLabel('identified').values('value')\n",
    "    .path().limit(100)"
   ]
  },
  {
   "cell_type": "code",
   "execution_count": 16,
   "metadata": {},
   "outputs": [
    {
     "data": {
      "application/vnd.jupyter.widget-view+json": {
       "model_id": "9365293457d64256acdea8a181535517",
       "version_major": 2,
       "version_minor": 0
      },
      "text/plain": [
       "Tab(children=(Output(layout=Layout(max_height='600px', overflow='scroll', width='100%')), Force(network=<graph…"
      ]
     },
     "metadata": {},
     "output_type": "display_data"
    }
   ],
   "source": [
    "%%gremlin\n",
    "g.V()\n",
    "    .has('conflict', 'value', 'VIETNAM WAR')\n",
    "    .inE().outV().hasLabel('person')\n",
    "    .outE().inV().hasLabel('identified').values('value')\n",
    "    .path().limit(100)"
   ]
  },
  {
   "cell_type": "markdown",
   "metadata": {},
   "source": [
    "### Korean War"
   ]
  },
  {
   "cell_type": "code",
   "execution_count": 7,
   "metadata": {},
   "outputs": [
    {
     "name": "stderr",
     "output_type": "stream",
     "text": [
      "ERROR:asyncio:Task was destroyed but it is pending!\n",
      "task: <Task pending coro=<WebSocketProtocol13._receive_frame_loop() running at /home/ec2-user/anaconda3/envs/JupyterSystemEnv/lib/python3.6/site-packages/tornado/websocket.py:1116> wait_for=<Future pending cb=[Task._wakeup()]> cb=[IOLoop.add_future.<locals>.<lambda>() at /home/ec2-user/anaconda3/envs/JupyterSystemEnv/lib/python3.6/site-packages/tornado/ioloop.py:688]>\n"
     ]
    },
    {
     "data": {
      "application/vnd.jupyter.widget-view+json": {
       "model_id": "b0156acc8b5f418d84757b77d340a416",
       "version_major": 2,
       "version_minor": 0
      },
      "text/plain": [
       "Tab(children=(Output(layout=Layout(max_height='600px', overflow='scroll', width='100%')), Force(network=<graph…"
      ]
     },
     "metadata": {},
     "output_type": "display_data"
    }
   ],
   "source": [
    "%%gremlin\n",
    "g.V()\n",
    "    .has('conflict', 'value', 'KOREAN WAR')\n",
    "    .inE().outV().hasLabel('person').limit(25)\n",
    "    .out()\n",
    "    .path().limit(1000)"
   ]
  },
  {
   "cell_type": "code",
   "execution_count": null,
   "metadata": {
    "scrolled": true
   },
   "outputs": [],
   "source": []
  }
 ],
 "metadata": {
  "kernelspec": {
   "display_name": "Python 3",
   "language": "python",
   "name": "python3"
  },
  "language_info": {
   "codemirror_mode": {
    "name": "ipython",
    "version": 3
   },
   "file_extension": ".py",
   "mimetype": "text/x-python",
   "name": "python",
   "nbconvert_exporter": "python",
   "pygments_lexer": "ipython3",
   "version": "3.9.1"
  }
 },
 "nbformat": 4,
 "nbformat_minor": 4
}
