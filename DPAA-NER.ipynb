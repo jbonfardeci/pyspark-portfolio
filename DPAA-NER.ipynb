{
 "cells": [
  {
   "cell_type": "markdown",
   "id": "a02aa179-a9b9-418d-829c-d381eafa9fe3",
   "metadata": {},
   "source": [
    "# Spark NER with John Snow Labs\n",
    "Author: John Bonfardeci<br/>\n",
    "Last Modified: 2021-05-25<br/>\n",
    "This notebook documents the experiments and results of various methods for named entity recognition (NER) and the spellchecking of entities identified in a sample DPAA document."
   ]
  },
  {
   "cell_type": "code",
   "execution_count": 5,
   "id": "hundred-assumption",
   "metadata": {},
   "outputs": [
    {
     "data": {
      "text/html": [
       "\n",
       "            <div>\n",
       "                <p><b>SparkSession - in-memory</b></p>\n",
       "                \n",
       "        <div>\n",
       "            <p><b>SparkContext</b></p>\n",
       "\n",
       "            <p><a href=\"http://172.21.207.82:4040\">Spark UI</a></p>\n",
       "\n",
       "            <dl>\n",
       "              <dt>Version</dt>\n",
       "                <dd><code>v3.1.1</code></dd>\n",
       "              <dt>Master</dt>\n",
       "                <dd><code>local[*]</code></dd>\n",
       "              <dt>AppName</dt>\n",
       "                <dd><code>DPAA NLP</code></dd>\n",
       "            </dl>\n",
       "        </div>\n",
       "        \n",
       "            </div>\n",
       "        "
      ],
      "text/plain": [
       "<pyspark.sql.session.SparkSession at 0x7f6d0c8d3910>"
      ]
     },
     "execution_count": 5,
     "metadata": {},
     "output_type": "execute_result"
    }
   ],
   "source": [
    "import os\n",
    "import re\n",
    "import json\n",
    "import numpy as np\n",
    "import pandas as pd\n",
    "import pickle\n",
    "\n",
    "from sparknlp.base import *\n",
    "from sparknlp.annotator import *              \n",
    "from sparknlp.pretrained import PretrainedPipeline\n",
    "from sparknlp.common import *\n",
    "from sparknlp.base import *\n",
    "from sparknlp import Finisher\n",
    "import sparknlp\n",
    "\n",
    "from pyspark.ml import Pipeline\n",
    "from pyspark.ml.pipeline import PipelineModel\n",
    "from pyspark.ml.feature import StopWordsRemover\n",
    "from pyspark.sql import SparkSession, SQLContext\n",
    "from pyspark.sql.types import *\n",
    "from pyspark.sql import functions as F\n",
    "\n",
    "spark = SparkSession.builder \\\n",
    "    .appName(\"DPAA NLP\") \\\n",
    "    .master(\"local[*]\") \\\n",
    "    .config(\"spark.driver.memory\",\"32G\") \\\n",
    "    .config(\"spark.driver.maxResultSize\", \"0\") \\\n",
    "    .config(\"spark.kryoserializer.buffer.max\", \"2000M\") \\\n",
    "    .config(\"spark.jars.packages\", \"com.johnsnowlabs.nlp:spark-nlp_2.12:3.0.3\") \\\n",
    "    .getOrCreate()\n",
    "\n",
    "#sql_ctx = SQLContext(spark.sparkContext)\n",
    "\n",
    "sparknlp.start()"
   ]
  },
  {
   "cell_type": "code",
   "execution_count": 6,
   "id": "2f857cc9-92ce-45ae-8ebd-60fe72174e41",
   "metadata": {},
   "outputs": [
    {
     "data": {
      "text/plain": [
       "'3.0.3'"
      ]
     },
     "execution_count": 6,
     "metadata": {},
     "output_type": "execute_result"
    }
   ],
   "source": [
    "sparknlp.version()"
   ]
  },
  {
   "cell_type": "markdown",
   "id": "96226dfa-498a-4a71-a2bc-c03087dd46e4",
   "metadata": {},
   "source": [
    "## Spark OCR\n",
    "https://github.com/JohnSnowLabs/spark-nlp-workshop/blob/master/tutorials/Certification_Trainings/Healthcare/5.Spark_OCR.ipynb"
   ]
  },
  {
   "cell_type": "code",
   "execution_count": null,
   "id": "09992911-c26e-483e-b28f-81c04ccdf2d1",
   "metadata": {},
   "outputs": [],
   "source": [
    "with open('../spark_ocr.json') as f:\n",
    "    license_keys = json.load(f)\n",
    "\n",
    "os.environ['JSL_OCR_LICENSE'] = license_keys['SPARK_OCR_LICENSE']\n",
    "ocr_license = license_keys['SPARK_OCR_LICENSE']\n",
    "ocr_secret = license_keys['JSL_OCR_SECRET'] \n",
    "ocr_version = license_keys['OCR_VERSION']\n",
    "\n",
    "! pip install --upgrade spark-ocr==$ocr_version --user --extra-index-url=https://pypi.johnsnowlabs.com/$ocr_license"
   ]
  },
  {
   "cell_type": "code",
   "execution_count": null,
   "id": "441476ed-05db-462d-ba06-ad38edac5ca6",
   "metadata": {},
   "outputs": [],
   "source": [
    "# Necessary imports from Spark OCR library\n",
    "from sparkocr import start\n",
    "from sparkocr.transformers import *\n",
    "from sparkocr.enums import *\n",
    "from sparkocr.utils import display_image, to_pil_image\n",
    "from sparkocr.metrics import score\n",
    "import pkg_resources"
   ]
  },
  {
   "cell_type": "markdown",
   "id": "bb6fa105-33ea-4548-9d18-59022c235fae",
   "metadata": {},
   "source": [
    "## Import and Clean Sample Document"
   ]
  },
  {
   "cell_type": "code",
   "execution_count": 360,
   "id": "respiratory-binding",
   "metadata": {},
   "outputs": [
    {
     "name": "stdout",
     "output_type": "stream",
     "text": [
      "+--------------------+\n",
      "|                text|\n",
      "+--------------------+\n",
      "|searchable_pdf/do...|\n",
      "+--------------------+\n",
      "\n"
     ]
    }
   ],
   "source": [
    "SAMPLE_DATA_PATH = './ner/abella_nicanor_066458_idpf_complete_399571.pdf_Output.pdf_debug.txt'\n",
    "sample_text = open(SAMPLE_DATA_PATH, 'r').read()\n",
    "sample_text = re.sub(r'(\\r\\n|\\n)', ' ', sample_text)\n",
    "sample_text = re.sub(r',', '; ', sample_text)\n",
    "sample_text = re.sub(r'\\s+', ' ', sample_text)\n",
    "sample_text = re.sub(r'(?<=[^\\d])\\-(\\s+|)(?=[^\\d])', '', sample_text)\n",
    "df= pd.DataFrame({'text': sample_text}, index=[0])\n",
    "spark_df = spark.createDataFrame(df)\n",
    "spark_df.show()"
   ]
  },
  {
   "cell_type": "code",
   "execution_count": 361,
   "id": "88aff234-d36b-4d8f-b9a1-c467e7b63f27",
   "metadata": {
    "scrolled": true,
    "tags": []
   },
   "outputs": [
    {
     "name": "stdout",
     "output_type": "stream",
     "text": [
      "searchable_pdf/documents/abella_nicanor_066458_idpf_complete_399571.pdf_Output.pdf; 91.66537 8097; 89799-0; 'H HONODIN VITEV C63; CAUTION: THESE RECORDS WILL BE USED; FOR OFFICIAL PURPLSES ONLY. DO NOT; NO.A; 1827115; REMOVE PAPERS NOT REVEAL CONTENTS; TRANSFER SLIP; DATE OF REQUEST; TO PERSON CONCERNED. RETURN THE; PROMPTLY.; 1509; RECORDS; 201 FILE; ENL REC; EFF REP; MED REC; LETTER; IND; MEMO; RADIO; OTHER (Specify); LAST DATE; DESIRED; FILE OR; REQUESTED; SERIAL; PAPERS; NUMBER; AND; SUBJECT; 293; abilla uano; NOT IN FILE; NAME AND EXTENSION OFPERSON REQUESTING FILE; DIVISION. BRANCH; SECTION; BUILDING AND ROOM NUMBER; TO; Basis; Lommes; To; DATE RETURNED; RETURN; TO RETURN FILE; INITIAL HEP; Departmental Records Bro AGU; TO; 219 North Lee Street; INSTRUCTIONS; Alezandris; When Wbrenpirgnsferring nsferring file to another person; complete selfaddressed transfer coupon below; detach; stitch; to; paper and place in outgoing mail service.; LO; TRANSFER COUPO N; LO; TO:; FILE; 05; NOPE THAT; nicane; TRANSFERRED; TO:; WNome; BEEN; TRANSF; N; HAS; ROOM; NO.; BUILDING; AND; 00; SECTION; ; BRANCH; DIVISION.; 4; S1; GNATURE; DATE; austed.; LELIORIAL DIVISION; PEPATRIATION HECORDS BRANCH; RECORDS SECTION; DATE; 7 Feb 49; 31; 1o; Wame or Decedent; ABELLA. Nicanor F.; 20 Citizenship; Filipino; 3.; Status at Tine of Death; Phil Army; 4. Original Burial Location:; USAF LEYTE; Fil; 75; Nane of Ceretery; Plot; Row; Grave; 5.; Disposition of Remains:; Released to Phil Army; Offi e of the Q 17 Apr 48; Reburied in Mt. Samat Cemetery; Pilar; Bataan; 6.; Next of Kin:; Name; Francisco Pajado; Maasin; Iloilo; P.I.; Address; Mother; Relationship; 7. A11 reconds have been annotated to show disnosition of subject renains per; authority contained on Roster subnitted by Philrycom 21 Ausust 1918.; SILE; BCOROS; DATE; MAME; BRe; 17 Jamary 1947; Mzrs. Francisca Pajado; Maasin; Iloilo; Philippine Islands; Dear Mrg. Pajado:; The War Department is most desirous that you be furnished infor; mation regarding the burial location of your som; the Late Private; First Class Nicanor F. Abella; A.S.N. 066 458.; The records of this office disclose that his remaine are interred; in the U. S. Axed Forces Cemetery; Leyto; #l; ave 75. You may be; assured that the identification and interment have been accomplished; with fitting dignity and solemmity; ; This cemetery is Located just outside the toun of Palo; appraxi; mately eight miles south of Tacloben; Leyte Island; Philippine Islands; ; and is under the constant cave and supervision of United States mlli; tary personnel.; The Wary Department has now been authorized to comply; at Govern; ment expense; with the feasible wishes of the nat of kin regarding; final interment; here OR abroad; of the remains of your loved one. At; a later date; this office will; without any action on your part; pro; vide 911 legal next of kin with full information ana Solicit the de; tailed desires.; Please accept my Bincere sympathy in your great Los6.; Sincerely yours; ; T. B. LARKM; Major General; The Quartermaster General; lhc; Ges; RESTRICTED; A 645; bst; wD QMMC FORM 1042; DATE OF REPORT; (Rev. 1 Apr. 1945); REPORT OF INTERMENT STORAEE; (Supersedes GRS Form 1); (AR 30-1810 and AR 30-1815); 8 Dec 47; Impiint Identification Tad If Possible.; Section IDENTIFICATION.; DO NOT TYPE; NAME (Last; first; middle initial); SERIAL No.; ABELLA; Nicanor F.; 066458; GRADE; ORGANIZATION; BRANCH OF SERVICE; Pfe; Co D; lst Fil Repl Bn; Army; RACE; RELIGION; IF OTHER THAN U. S. DEAD. GIVE; NAME OF COUNTRY; Catholio; PLACE OF DEATH; CAUSE OF DEATH; DATE OF DEATH; Telegrafo; Leyte; P.I.; 118th Gen Hospital; Tuberculosis; Pul.; 26 Sept 1945; EMERGENCY ADDRESSEE (Name; relationship; and address); Mrs. Francisca Pajado (M); Maasin; Iloilo; P.I.; IDENTIFICATION TAGS FOUND ON BODY; IF NO TAGS FOUND ON BODY DESCRIBE MEANS OF IDENTIFICATION (If unidentified; fill in section 3 07 reverse); (1; 2; or none); None; Identified by hospi tal records.; WERE SUBSTITUTE TAGS PROVIDED?(Y or no); Yes; LIST PERSONAL EFFECTS FOUND ON BODY AND DISPOSITION OF SAME; None; Section 2-BURIAL If othor than in established cometory; furnish aketch and znap coordinates on reverse.; NAME; NUMBER. COORDINATES. AND LOCATION OF CEMETERY; AGRS MAUSOLEUM; MANILA Pal.; DATE OF BURIAL; HOUR; BURIED IN (Shroud; blanket; or nam16 of other); TYPE OF GRAVE; PLOT No.; ROW No.; GRAVE No.; STORED; MARKER; STORAG; HANGER; AY; GRYPY; 22 Nov 47; 1000; Casket; None; 810; H; 2528; WAS THIS A REBURIAL?; IF A REBURIAL; INDICATE NAME; NUMCET COORDINATES OF PREVIOUS CEMETERY. AND LOCATION OF GRAVE; (Yes or n0); RESTORED; PLOT No.; ROW No.; GRAVE No.; Yes; USAF Cemetery #l; Leyte; P.I. (PAFS); 75; TYPE OF RELIGIOUS; PERSON CONDUCTING BURIAL RITES; IF IDENTIFICATION TAGS NOT USED. DESCRIBE HDENTIFICATION DATA AND; CEREMONY; CONTAINERS BURIED WITH BODY; IDENTIFICATION TAG BURIED WITH; IDENTIFICATION TAG ATTACHED TO; BODY (Yee or 790); MARKER (Yes or n0); Yes; Yes; BODY BURIED ON DECEASED LEFT. NAME (Last; first; middle initial); RANK; SERIAL No.; ORGANIZATION; GRAVE No.; STORED; 2 Bn; 111; CRAPT; PABLO; Alinob; Pfc; 135978; Inf )PA); 2530; BODY BURIED ON DECEASED RIGHT. NAME (Last; first; middle initial); RANK; SERIAL No.; ORGANIZATION; GRAVE No.; 2nd Repl Co; ; MONTOYAg Florentino; Pfc; Unknown; 1; Repl Bn PA; 2526; SIGNATURE OF PERSON PREPARING REPORT; SIGNATURE OF GRS OFFICER VERIFYING REPORT; R. R. ACIERTO; Pvt.; L.S. PANOPIO; 2nd Lt. INE.; DISTRIBUTION CF REPORT: Signed original for U. S. and allied dead; signed original and one copy for enemy dead; to the Quartermaster General; through Headquarters GRS Officer. Copies for retention in theater as prescribed by theater commandor.; 1857; RESTRICTED; RESTRICTED; Section 3.; NiDENTIFIED REMAINS.; INSTRUCTONS:; (a) Great care will be taken to record the most minute clues for the future identity of unidentified re; mains. Fill in anatomical characteristics below; and any other clues under \"Other; such as shoe size; ; social security number: position of body found in airplanes; vehicles; and tanks and serial numbers of air; planes; vehicles; and tanks.; (b) A fingerprint; or prints; are the most valuable of all clues. Imprint all fingers and thumbs in the; chart at left; or as many as possible. If no fingerprint or prints can be secured; the condition of each and; 8cddo; every tooth will be indicated on thetooth chart in accordance with diagram below. Tooth chart will not be; accomplished if one or more fingerprints are secured.; HEIGHT; WEIGHT; COLOR OF EYES; COLOR OF HAIR; BIRTHMARKS. SCARS. OR TATTOOS; WEAPON AND SERIAL NO.; LAUNDRY MARKS; WHERE BODY WAS BURIED OR FOUND; OTHER IDENTIFICATION CLUES; FILLINGS; SILVER FILLING; I; eurooe; GOLD FILLING; 2; 2; 3; 4; 4; 5; CAVITIES; CAVITY; 5; DECAYED; 6; UPPER; 6; 7; 7; 8; 8; MISSING TEETH; FOOTH MISSING; DIAGRAM REPRESENTS THE MOUTH WIDE OPEN; CROWNED TEETH; 16; 16; PORCELAIN CROWN; GOLD CROWN; 15; 15; LOWER; er; 14; 14; 8SS; BRIDGE WORK; 13; 13; ARAO; SW GOLD BRIDGE; 12; 12; 11; 0000; 10 9 9 IO; 1I; FURNISH SKETCH AND MAP REFERENCE AND COORDINATES FOR BURIAL IN OTHER THAN ESTABLISHED CEMETERY; REMARKS:; RESTRICTED; 2047-A G. Printing lant-9-15-45-250M; R/R BRANCH; MEMORIAL DIVISION; OQMG; IDENTIFICATION DENTAL CHART; TO BE USED WITH QMC FORMS NOS. 1042 a 1044 IN PLACE OF CHART THEREON; ; AND TO BE ATTACHED TO AND FORWARDED WITH THESE FORMS WHEN ACCOMPLISHED.; 12/5/47; DATE; ABELLA; Nicanor F.; Pfc; 066458; LAST NAME; FIRST; INITIAL; RANK; SERIAL NO.; Co D lst Fil Repl Bn; 118 Gen Hosp; UNIT felegrafo; ORGANIZATION; AGRS Mausoleum; Leyte P.I.; Manila P.I.; 810; H; 2528; PLACE OF DEATH; PLACE OF BURIAL; PLOT; ROW; GRAVE NO.; SaRAGE; HANGER; BA'T; CRpb; RIGHT; UPPER TEETH; LEFT; 8; 7; 6; 5; 4; 3; 2; 8; I; 2; 3; 4; 5; 6; 7; 8; TYPE; TYPE; e; LOCATION; m; 0; LOCATION; INSIDE LOOKING OUT; RIGHT; LOWER TEETH; LEFT; 16; 15; 14; 13; 12; II; I0; 9; 9; IO; II; 12; 13; 14; 15; 16; TYPE; TYPE; LOCATION; D; 0; 0; LOCATION; KEY OF SYMBOLS TO BE USED ON ABOVE CHART; SYMBOLS; TYPE OF FILLING; LOCATION OF FILLING; IN; IN; IN; WHOLE BOX; UPPER HALF OF BOX; LOWER HALF OFBOX; A; AMALGAM; MESIAL; EXTRACTED; (SILVER); m; (BETWEENTOWAR FRONT); CAVITY. INDICATE; G; OCCLUSAL; GOLD; LOCATION; 0; (BITINO SURFACE BACK TEETH); FIXED BRIDGE; S; SILICATE OR; DISTAL; UINCL. ABUTMENTS); PORCELAIN; d; (BETWEEN TOWARD BACK; TEETH REPLACED; O; OXYPHOSPATE; LINGUAL; BY DENTURE; (CEMENT); 1; (TOWARD TONGUE); POSTHUMOUSLY MSSING; FACIAL; (LOST AFTER DEATH); F; (TOWARD CHEEK); QNC FORM 1045; 5 FEB 46; REVERSE SIDE FOR INSTRUCTIONS; INSTRUCTIONS:; L. ACCURACY AND ATTENTION TO DETAIL IN THE PREPARATION OF THIS CHART ARS OF PARAMOUNT; IMPORTANCE; IF SAME IS TO BE OF MAXIMUM VALUE.; 2. NOTE CAREFULLY THAT: SYMBOLS INDICATING MISSING TEETH; CAVITIES AND BRIDGEWOR ARE; TO BE INSERTED IN WHOLE BOX; SYMBOLS INDICATING TYPE OF FILLING ARE TO BE INSERTED IN; UPPER HALF OF BOX; AND SYMBOLS INDICATING LOGATION QF FILLING ARE TO BE INSERTED; IN LOWER HALF OF BOX.; 3. ANY ABNORMALITIES SUCH AS MALPOSED; MALFORMED OR DISCQLORED TEETH; ETC. SHOULD; BE NOTED. DENTAL WORK NOT COVERED ABOVE WILL BE INDICATED; eg; PORCELAIN CROWNS; GOLD; CROWNS (FULL OR 3/4); 3/4 GOLD CROWN WITH SILICATE WINDOW.; 4. FOR INFORMATION OF STANDARD NUMBERING OF TEETH; SEE DIAGRAM BELOW.; 2; I; 8; 2; 3; 3; RIGHT; 4; 4; LEFT; 5; 5; 6; 6; UPPER; 7; 7; 8; 8; W; DIAGRAM REPRESENTS THE MOUTH WIDE OPEN; 16; 16; 15; LOWER; 15; 14; 14; RIGHT; 13; 13; LEFT; 12; 00O; 12; 0000; II; IO 9 9 IO; 11; REMARKS:; s/ John H. Bennett Jr.; SIGNATURE OF PERSON WHO PREPARED CHART; VERIFIED BY GRS OFFICER; D/ JOHNN H. BENNETT JR.; NAME AND RANK TYPED OR PRINTED; NAME AND RANK TYPED OR PRINTED; 12/5/47; PLACE OR HQ. WHERE THIS FORM ACCOMPLISHED; DATE; 0-PHILRYCOM 4/47-30M; CERTIFIED TRUE COPY:; S. PANOPIO; 2nd Lt; INF; hella; ieuti; ; 666458; ASN; te t; COUNTRY; The Burial Report for above Individual is in the New Cemetery File; ; ROOm 1200; Bldg. Co; Pile; 19/11/95; JoR.S.; ibu; hjt; RESTRICTED; OMC Form; REPORT OF INTERMENT; A 605; No. IGRS; (To be submitted through channels to the Quartermaster General; Washington; D.C.); (Par 21d TM 10-630); ABELIA; ; Nicanor F; 066458; Pfc; Co D; lst Fil FilRepl.Br Bn; Lasf Name); (First); initial); (Serial No.); (Rank); (Organization); Telegrafo; Leyte; P.I.; Ll8th Gen Hosp.; 26 Sept 45; Tuberculosis; Pul.; (Place of Death); (Date of Death); (Cause of Death); 1400; hrs 27 Sept 45; (PAFS) USAF Cemetery; Leyte fl; P.I.; (Time and Date of Burial); (Place of Burial Name and No. of Cemetery if in a cemetery); Buried with body; 75; Reg Cross; Attached to marker; (Grave No.); (Row No.); (Plot No.); (Kind Grave Marker); (ldentification Tags); Protestant; Identified by hospital records; Catholic; Metal tag buried with body and attached to CTOSS; Hebrew; Other pertinent data to enable grave to be located.; (Where necessary sketch to locate grave should be furnished); Mrs. Francisea Pajado (M) Maasin; Iloilo; P.I.; (Name and address of Emergency Addressee); (Name and address of lega next of kin); (7); Fingerprints (right hand) (Required if right hand whr missing ositive furnish identity prints cannot of left otherwise hand. be establinbi d) (Par. 25e (2); TM 10-630); Place X mark; below when; prints are of; left hand; 3; Thumb; I; 2; 3; 4; List of personal effecfs and disposition of same; NONE; (Name; rank; serial number; organization; grave numbers of bodies buried on either side):; On Right; On LeftLANZA Gavino; 067403; Pvt; Co C; 41 Phil Inf; 74; shuLw e. obtrig; S/Sgt John E. Bobis; GRS; anes HANCIS ashon; lst Lt; MC; Signature of Officer or other person reporting Burial.; Verified by Army G.R.S. Officer.; Prepare in triplicatecopy to Army G.R.S. Officercopy to Chief; G.R.S.Original to the O.M.G.; \n"
     ]
    }
   ],
   "source": [
    "print(sample_text)"
   ]
  },
  {
   "cell_type": "code",
   "execution_count": null,
   "id": "950cf03c-eb23-4da0-b8e2-084fab457f44",
   "metadata": {},
   "outputs": [],
   "source": [
    "class Exploder(Transformer):\n",
    "    \"\"\"\n",
    "    A custom transformer that inherits the Transformer class.\n",
    "    This class explodes an array into a Spark dataframe column.\n",
    "    \"\"\"\n",
    "    inputCol=None\n",
    "    outputCol=None\n",
    "    \n",
    "    def __init__(self, inputCol=None, outputCol=None):\n",
    "        super(Transformer).__init__()\n",
    "        self.inputCol = inputCol\n",
    "        self.outputCol = outputCol\n",
    "    \n",
    "    def _transform(self, spark_frame):\n",
    "        col_name = self.inputCol\n",
    "        out_col = self.outputCol\n",
    "        return spark_frame.select([col_name])\\\n",
    "            .withColumn(out_col, F.explode(col_name))"
   ]
  },
  {
   "cell_type": "markdown",
   "id": "c2b28caa-4cf1-4d26-8a1e-db7a2075ee4b",
   "metadata": {},
   "source": [
    "## Language Detection\n",
    "https://nlp.johnsnowlabs.com/2020/12/05/detect_language_21_xx.html"
   ]
  },
  {
   "cell_type": "code",
   "execution_count": 450,
   "id": "b9ea68fe-ee5f-4131-bbb1-d168d2bd8583",
   "metadata": {},
   "outputs": [
    {
     "name": "stdout",
     "output_type": "stream",
     "text": [
      "detect_language_21 download started this may take some time.\n",
      "Approx size to download 7.7 MB\n",
      "[OK!]\n"
     ]
    }
   ],
   "source": [
    "language_detector = PretrainedPipeline(\"detect_language_21\", lang=\"xx\")"
   ]
  },
  {
   "cell_type": "markdown",
   "id": "73049d45-9fce-4117-8d8b-78c46b6a1a0a",
   "metadata": {},
   "source": [
    "## Spellchecker Pipeline\n",
    "https://nlp.johnsnowlabs.com/2021/03/28/spellcheck_dl_en.html<br />\n",
    "https://github.com/JohnSnowLabs/spark-nlp-workshop/blob/master/tutorials/Certification_Trainings/Public/7.Context_Spell_Checker.ipynb\n",
    "<br />\n",
    "While the default pipeline performs well on common English words, the pipeline requires additional training on foreign names and locations. For example, it will correct 'Bataan' (Phillipines) to 'Batman' by mistake."
   ]
  },
  {
   "cell_type": "code",
   "execution_count": 472,
   "id": "f377f5e2-868a-4e69-9d8d-3984abbe4b99",
   "metadata": {},
   "outputs": [
    {
     "name": "stdout",
     "output_type": "stream",
     "text": [
      "spellcheck_dl download started this may take some time.\n",
      "Approximate size to download 111.4 MB\n",
      "[OK!]\n"
     ]
    }
   ],
   "source": [
    "# Experimental training terms.\n",
    "training_terms = {\n",
    "    '_NAME_': [\n",
    "        'time', 'bataan', 'war', 'USAF', 'march', 'death', 'Tacloben',\n",
    "        'tooth', 'nicanor', 'descendent', 'memorial', 'division', 'memorial division'\n",
    "    ],\n",
    "    '_AGE_': [],\n",
    "    '_LOC_': ['philippine', 'cemetery', 'leyte'],\n",
    "    '_DATE_': [],\n",
    "    '_NUM_': []\n",
    "}\n",
    "\n",
    "def get_spellcheck_pipeline(model_name='spellcheck_dl', training_terms=[]):\n",
    "    documentAssembler = DocumentAssembler()\\\n",
    "        .setInputCol(\"text\")\\\n",
    "        .setOutputCol(\"document\")\n",
    "\n",
    "    tokenizer = RecursiveTokenizer()\\\n",
    "        .setInputCols([\"document\"])\\\n",
    "        .setOutputCol(\"token\")\\\n",
    "        .setPrefixes([\"\\\"\", \"(\", \"[\", \"\\n\"])\\\n",
    "        .setSuffixes([\".\", \",\", \"?\", \")\",\"!\", \"'s\"])\n",
    "\n",
    "    spellModel = ContextSpellCheckerModel\\\n",
    "        .pretrained(model_name)\\\n",
    "        .setInputCols(\"token\")\\\n",
    "        .setOutputCol(\"checked\")\\\n",
    "        .setErrorThreshold(4.0)\\\n",
    "        .setTradeoff(6.0)\n",
    "    \n",
    "    # Extend vocabulary of spellchecker.\n",
    "    for en_type in training_terms:\n",
    "        if re.match(r'(_NAME_|_LOC_)', en_type):\n",
    "            spellModel.updateVocabClass(en_type, training_terms[en_type], True)\n",
    "\n",
    "    finisher = Finisher()\\\n",
    "        .setInputCols(\"checked\")\n",
    "\n",
    "    return Pipeline(stages = [\n",
    "        documentAssembler,\n",
    "        tokenizer,\n",
    "        spellModel,\n",
    "        finisher\n",
    "    ])\n",
    "    \n",
    "empty_ds = spark.createDataFrame([[\"\"]]).toDF(\"text\")\n",
    "spellcheck = LightPipeline(get_spellcheck_pipeline('spellcheck_dl', training_terms)\\\n",
    "                           .fit(empty_ds))"
   ]
  },
  {
   "cell_type": "code",
   "execution_count": 473,
   "id": "fcd8451f-d875-4ce7-9eb2-92c3fe9cdc9e",
   "metadata": {},
   "outputs": [
    {
     "data": {
      "text/plain": [
       "{'checked': ['Bataan', 'death', 'march', '.']}"
      ]
     },
     "execution_count": 473,
     "metadata": {},
     "output_type": "execute_result"
    }
   ],
   "source": [
    "# Test\n",
    "spellcheck.annotate(\"Bataan death march.\")"
   ]
  },
  {
   "cell_type": "code",
   "execution_count": 456,
   "id": "6fdd9666-bccb-41e3-ae28-1d52a46e3a7c",
   "metadata": {},
   "outputs": [
    {
     "data": {
      "text/plain": [
       "{'checked': ['The', 'War', 'Department', '.']}"
      ]
     },
     "execution_count": 456,
     "metadata": {},
     "output_type": "execute_result"
    }
   ],
   "source": [
    "spellcheck.annotate(\"The Wary Department.\")"
   ]
  },
  {
   "cell_type": "code",
   "execution_count": 457,
   "id": "1279984b-ffe3-4b99-8334-e444c8668d9a",
   "metadata": {},
   "outputs": [
    {
     "data": {
      "text/plain": [
       "{'checked': ['Status', 'at', 'Time', 'of', 'Death', 'Phil', 'Army']}"
      ]
     },
     "execution_count": 457,
     "metadata": {},
     "output_type": "execute_result"
    }
   ],
   "source": [
    "spellcheck.annotate(\"Status at Tine of Death Phil Army\")"
   ]
  },
  {
   "cell_type": "code",
   "execution_count": 458,
   "id": "3231e8a3-7d40-428c-9439-ec05f79fe2b5",
   "metadata": {},
   "outputs": [
    {
     "data": {
      "text/plain": [
       "{'checked': ['Leyte', 'Island', 'Philipine', 'Islands']}"
      ]
     },
     "execution_count": 458,
     "metadata": {},
     "output_type": "execute_result"
    }
   ],
   "source": [
    "spellcheck.annotate('Leyto Island Philippne Islands')"
   ]
  },
  {
   "cell_type": "code",
   "execution_count": 459,
   "id": "02bc3fe4-fa51-4e76-8823-e164a629aa0a",
   "metadata": {},
   "outputs": [
    {
     "data": {
      "text/plain": [
       "{'checked': ['Tacloben', 'Leyte', 'Island', 'Philippine', 'Islands']}"
      ]
     },
     "execution_count": 459,
     "metadata": {},
     "output_type": "execute_result"
    }
   ],
   "source": [
    "spellcheck.annotate('Tacloben Leyte Island Philippine Islands')"
   ]
  },
  {
   "cell_type": "code",
   "execution_count": 460,
   "id": "12853778-b233-4ecc-b8ea-b400c666b443",
   "metadata": {},
   "outputs": [
    {
     "data": {
      "text/plain": [
       "{'checked': ['USAF']}"
      ]
     },
     "execution_count": 460,
     "metadata": {},
     "output_type": "execute_result"
    }
   ],
   "source": [
    "spellcheck.annotate('USAF')"
   ]
  },
  {
   "cell_type": "code",
   "execution_count": 461,
   "id": "171bd827-0ddd-49be-b4cc-a65e248cb72f",
   "metadata": {},
   "outputs": [
    {
     "data": {
      "text/plain": [
       "{'checked': ['John', 'is', 'a', 'descendent', 'of', 'Tom', '.']}"
      ]
     },
     "execution_count": 461,
     "metadata": {},
     "output_type": "execute_result"
    }
   ],
   "source": [
    "spellcheck.annotate('John is a decedent of Tom.')"
   ]
  },
  {
   "cell_type": "code",
   "execution_count": 474,
   "id": "e2a415df-66e5-458f-968e-aee7fc6af1a5",
   "metadata": {},
   "outputs": [
    {
     "data": {
      "text/plain": [
       "{'checked': ['nicanor', '.']}"
      ]
     },
     "execution_count": 474,
     "metadata": {},
     "output_type": "execute_result"
    }
   ],
   "source": [
    "spellcheck.annotate('Nicanor F')"
   ]
  },
  {
   "cell_type": "code",
   "execution_count": 471,
   "id": "c06d6e38-13e3-43de-a280-60d89a5c1d32",
   "metadata": {},
   "outputs": [
    {
     "data": {
      "text/plain": [
       "{'checked': ['VECTORIAL', 'DIVISION']}"
      ]
     },
     "execution_count": 471,
     "metadata": {},
     "output_type": "execute_result"
    }
   ],
   "source": [
    "spellcheck.annotate('LELIORIAL DIVISION')"
   ]
  },
  {
   "cell_type": "markdown",
   "id": "0afb238e-312f-4df7-862c-651b9b6bd940",
   "metadata": {},
   "source": [
    "## Entity Filter\n",
    "Use to filter out undesired entity types and apply spellchecking."
   ]
  },
  {
   "cell_type": "code",
   "execution_count": 466,
   "id": "9036ad51-c52f-4914-a34b-5722527f5264",
   "metadata": {},
   "outputs": [],
   "source": [
    "def filter_results(ner_results):\n",
    "    entities = []\n",
    "    for row in ner_results:\n",
    "        for meta, res in zip(row.metadata, row.result):\n",
    "            if 'entity' in meta \\\n",
    "                and not re.match(r'(CARDINAL|TIME|QUANTITY|DATE|ORDINAL)', meta['entity']) \\\n",
    "                and len(res) > 2:\n",
    "                entity_type = meta['entity']\n",
    "                language = language_detector.annotate(res)['language'][0]\n",
    "                if language == 'en':\n",
    "                    checked = [w for w in spellcheck.annotate(res)['checked'] if not re.match(r'[\\,\\.\\!\\?\\\"\\']', w)]\n",
    "                    checked = \" \".join(checked)\n",
    "                else:\n",
    "                    checked = res\n",
    "                entities.append({\n",
    "                    'type': entity_type, \n",
    "                    'original': res,\n",
    "                    'checked': checked,\n",
    "                    'language': language\n",
    "                })\n",
    "    return entities"
   ]
  },
  {
   "cell_type": "markdown",
   "id": "54972b25-ce3b-49af-a1c9-07674f434878",
   "metadata": {},
   "source": [
    "## NER Entity Meanings\n",
    "https://colab.research.google.com/github/JohnSnowLabs/spark-nlp-workshop/blob/master/tutorials/streamlit_notebooks/NER_EN.ipynb<br />\n",
    "<table>\n",
    "    <thead><tr><th>NER</th><th>Meaning</th</tr></thead>\n",
    "    <tbody>\n",
    "        <tr><td>PERSON</td><td>People, including fictional.</td></tr>\n",
    "        <tr><td>GPE</td><td>Countries, cities, states</td></tr>\n",
    "        <tr><td>NORP</td><td>Nationalities or religious or political groups</td></tr>\n",
    "        <tr><td>DATE</td><td>Absolute or relative dates or periods</td></tr>\n",
    "        <tr><td>ORG</td><td>Companies, agencies, institutions, etc</td></tr>\n",
    "        <tr><td>CARDINAL</td><td>Numerals that do not fall under another type</td></tr>\n",
    "    </tbody>\n",
    "</table>"
   ]
  },
  {
   "cell_type": "code",
   "execution_count": 398,
   "id": "504bb242-6f6e-4cc9-a9e6-369a154fcaaf",
   "metadata": {},
   "outputs": [],
   "source": [
    "def get_ner_pipeline(model_name:str='onto_100') -> PipelineModel:\n",
    "    documentAssembler = DocumentAssembler() \\\n",
    "        .setInputCol('text') \\\n",
    "        .setOutputCol('document')\n",
    "\n",
    "    tokenizer = Tokenizer() \\\n",
    "        .setInputCols(['document']) \\\n",
    "        .setOutputCol('token')\n",
    "\n",
    "    # ner_dl and onto_100 model are trained with glove_100d, so the embeddings in\n",
    "    # the pipeline should match\n",
    "    embeddings = None\n",
    "    if (model_name == \"ner_dl\") or (model_name == 'onto_100'):\n",
    "        embeddings = WordEmbeddingsModel.pretrained('glove_100d') \\\n",
    "            .setInputCols([\"document\", 'token']) \\\n",
    "            .setOutputCol(\"embeddings\")\n",
    "\n",
    "    # Bert model uses Bert embeddings\n",
    "    elif model_name == 'ner_dl_bert':\n",
    "        embeddings = BertEmbeddings.pretrained(name='bert_base_cased', lang='en') \\\n",
    "            .setInputCols(['document', 'token']) \\\n",
    "            .setOutputCol('embeddings')\n",
    "\n",
    "    ner_model = NerDLModel.pretrained(model_name, 'en') \\\n",
    "        .setInputCols(['document', 'token', 'embeddings']) \\\n",
    "        .setOutputCol('ner')\n",
    "\n",
    "    ner_converter = NerConverter() \\\n",
    "        .setInputCols(['document', 'token', 'ner']) \\\n",
    "        .setOutputCol('ner_chunk')\n",
    "\n",
    "    pipeline = Pipeline(stages=[\n",
    "        documentAssembler, \n",
    "        tokenizer,\n",
    "        embeddings,\n",
    "        ner_model,\n",
    "        ner_converter\n",
    "    ])   \n",
    "    \n",
    "    empty_ds = spark.createDataFrame([[\"\"]]).toDF(\"text\")\n",
    "    return pipeline.fit(empty_ds)"
   ]
  },
  {
   "cell_type": "markdown",
   "id": "20f296fd-4444-4424-9597-ecf883072e5c",
   "metadata": {},
   "source": [
    "## Conclusion\n",
    "<p>From the NER experiments below, ONTO 100 seems to produce the best balance of useful entities with the least noise.</p>\n",
    "<p>Methods:</p>\n",
    "<ol>\n",
    "    <li>ONTO 100</li>\n",
    "    <li>NER DL</li>\n",
    "    <li>Electra</li>\n",
    "    <li>BERT</li>\n",
    "    <li>Recognize Entities DL</li>\n",
    "    <li>Stanford NER (NLTK)</li>\n",
    "</ol>"
   ]
  },
  {
   "cell_type": "markdown",
   "id": "b068540f-7cce-4eb7-abfb-61c18b9ede8e",
   "metadata": {},
   "source": [
    "## ONTO 100\n",
    "ONTO 100 seems to produce just enough entities and very little noise. It produces about twice as many entities as Electra and Stanford NER (133 vs 65 & 79) when applying filters."
   ]
  },
  {
   "cell_type": "code",
   "execution_count": 452,
   "id": "0c746902-ad61-4748-8b5c-1997c15b49da",
   "metadata": {},
   "outputs": [
    {
     "name": "stdout",
     "output_type": "stream",
     "text": [
      "Loaded pipeline from ner/onto_100_pipeline\n"
     ]
    }
   ],
   "source": [
    "onto_pipeline_path = 'ner/onto_100_pipeline'\n",
    "onto_pipeline:PipelineModel = None\n",
    "    \n",
    "if os.path.exists(onto_pipeline_path):\n",
    "    onto_pipeline = PretrainedPipeline.from_disk(onto_pipeline_path)\n",
    "    print('Loaded pipeline from', onto_pipeline_path)\n",
    "else:\n",
    "    onto_pipeline = get_ner_pipeline('onto_100')\n",
    "    onto_pipeline.save(onto_pipeline_path)\n",
    "    print('Pipeline saved to', onto_pipeline_path)\n",
    "    \n",
    "onto_df = nlp_model.transform(spark_df)"
   ]
  },
  {
   "cell_type": "code",
   "execution_count": 467,
   "id": "dec4e0c9-7600-4b48-a3c4-10ef2283cd38",
   "metadata": {
    "scrolled": true,
    "tags": []
   },
   "outputs": [],
   "source": [
    "onto_results = onto_df.select('ner_chunk.metadata', 'ner_chunk.result').collect()\n",
    "pd.DataFrame(filter_results(onto_results)).to_csv('ner/onto_ner_results.csv')"
   ]
  },
  {
   "cell_type": "markdown",
   "id": "ccb59482-5ed5-4244-a50a-84495003a767",
   "metadata": {},
   "source": [
    "## NER DL\n",
    "Produces 208 entities with more noise than ONTO 100."
   ]
  },
  {
   "cell_type": "code",
   "execution_count": 444,
   "id": "60a75cd7-e212-43c6-8161-a2e536235d0e",
   "metadata": {},
   "outputs": [
    {
     "name": "stdout",
     "output_type": "stream",
     "text": [
      "glove_100d download started this may take some time.\n",
      "Approximate size to download 145.3 MB\n",
      "[OK!]\n",
      "ner_dl download started this may take some time.\n",
      "Approximate size to download 13.6 MB\n",
      "[OK!]\n",
      "Pipeline saved to ner/ner_dl_pipeline\n"
     ]
    }
   ],
   "source": [
    "ner_dl_pipeline_path = 'ner/ner_dl_pipeline'\n",
    "ner_dl_pipeline:PipelineModel = None\n",
    "    \n",
    "if os.path.exists(ner_dl_pipeline_path):\n",
    "    ner_dl_pipeline = PretrainedPipeline.from_disk(ner_dl_pipeline_path)\n",
    "    print('Loaded pipeline from', ner_dl_pipeline_path)\n",
    "else:\n",
    "    ner_dl_pipeline = get_ner_pipeline('ner_dl')\n",
    "    ner_dl_pipeline.save(ner_dl_pipeline_path)\n",
    "    print('Pipeline saved to', ner_dl_pipeline_path)\n",
    "    \n",
    "ner_dl_df = ner_dl_pipeline.transform(spark_df)\n",
    "ner_dl_results = ner_dl_df.select('ner_chunk.metadata', 'ner_chunk.result').collect()\n",
    "pd.DataFrame(filter_results(ner_dl_results)).to_csv('ner/ner_dl_results.csv')"
   ]
  },
  {
   "cell_type": "markdown",
   "id": "dcd9743e-b598-492a-b310-85bb52a93cf6",
   "metadata": {},
   "source": [
    "## NER Visualizer"
   ]
  },
  {
   "cell_type": "code",
   "execution_count": 404,
   "id": "a039ff0b-e489-4fff-92ec-293de3b09454",
   "metadata": {
    "scrolled": true,
    "tags": []
   },
   "outputs": [
    {
     "data": {
      "text/html": [
       "\n",
       "<style>\n",
       "    @import url('https://fonts.googleapis.com/css2?family=Montserrat:wght@300;400;500;600;700&display=swap');\n",
       "    @import url('https://fonts.googleapis.com/css2?family=Vistol Regular:wght@300;400;500;600;700&display=swap');\n",
       "    \n",
       "    .spark-nlp-display-scroll-entities {\n",
       "        border: 1px solid #E7EDF0;\n",
       "        border-radius: 3px;\n",
       "        text-align: justify;\n",
       "        \n",
       "    }\n",
       "    .spark-nlp-display-scroll-entities span {  \n",
       "        font-size: 14px;\n",
       "        line-height: 24px;\n",
       "        color: #536B76;\n",
       "        font-family: 'Montserrat', sans-serif !important;\n",
       "    }\n",
       "    \n",
       "    .spark-nlp-display-entity-wrapper{\n",
       "    \n",
       "        display: inline-grid;\n",
       "        text-align: center;\n",
       "        border-radius: 4px;\n",
       "        margin: 0 2px 5px 2px;\n",
       "        padding: 1px\n",
       "    }\n",
       "    .spark-nlp-display-entity-name{\n",
       "        font-size: 14px;\n",
       "        line-height: 24px;\n",
       "        font-family: 'Montserrat', sans-serif !important;\n",
       "        \n",
       "        background: #f1f2f3;\n",
       "        border-width: medium;\n",
       "        text-align: center;\n",
       "        \n",
       "        font-weight: 400;\n",
       "        \n",
       "        border-radius: 5px;\n",
       "        padding: 2px 5px;\n",
       "        display: block;\n",
       "        margin: 3px 2px;\n",
       "    \n",
       "    }\n",
       "    .spark-nlp-display-entity-type{\n",
       "        font-size: 14px;\n",
       "        line-height: 24px;\n",
       "        color: #ffffff;\n",
       "        font-family: 'Montserrat', sans-serif !important;\n",
       "        \n",
       "        text-transform: uppercase;\n",
       "        \n",
       "        font-weight: 500;\n",
       "\n",
       "        display: block;\n",
       "        padding: 3px 5px;\n",
       "    }\n",
       "    \n",
       "    .spark-nlp-display-entity-resolution{\n",
       "        font-size: 14px;\n",
       "        line-height: 24px;\n",
       "        color: #ffffff;\n",
       "        font-family: 'Vistol Regular', sans-serif !important;\n",
       "        \n",
       "        text-transform: uppercase;\n",
       "        \n",
       "        font-weight: 500;\n",
       "\n",
       "        display: block;\n",
       "        padding: 3px 5px;\n",
       "    }\n",
       "    \n",
       "    .spark-nlp-display-others{\n",
       "        font-size: 14px;\n",
       "        line-height: 24px;\n",
       "        font-family: 'Montserrat', sans-serif !important;\n",
       "        \n",
       "        font-weight: 400;\n",
       "    }\n",
       "\n",
       "</style>\n",
       " <span class=\"spark-nlp-display-others\" style=\"background-color: white\">searchable_pdf/documents/abella_nicanor_066458_idpf_complete_399571.pdf_Output.pdf; </span><span class=\"spark-nlp-display-entity-wrapper\" style=\"background-color: #88579C\"><span class=\"spark-nlp-display-entity-name\">91.66537 8097 </span><span class=\"spark-nlp-display-entity-type\">CARDINAL</span></span><span class=\"spark-nlp-display-others\" style=\"background-color: white\">; </span><span class=\"spark-nlp-display-entity-wrapper\" style=\"background-color: #88579C\"><span class=\"spark-nlp-display-entity-name\">89799-0 </span><span class=\"spark-nlp-display-entity-type\">CARDINAL</span></span><span class=\"spark-nlp-display-others\" style=\"background-color: white\">; 'H HONODIN VITEV </span><span class=\"spark-nlp-display-entity-wrapper\" style=\"background-color: #88579C\"><span class=\"spark-nlp-display-entity-name\">C63 </span><span class=\"spark-nlp-display-entity-type\">CARDINAL</span></span><span class=\"spark-nlp-display-others\" style=\"background-color: white\">; CAUTION: THESE RECORDS WILL BE USED; FOR OFFICIAL PURPLSES ONLY. DO NOT; </span><span class=\"spark-nlp-display-entity-wrapper\" style=\"background-color: #88579C\"><span class=\"spark-nlp-display-entity-name\">NO.A </span><span class=\"spark-nlp-display-entity-type\">CARDINAL</span></span><span class=\"spark-nlp-display-others\" style=\"background-color: white\">; </span><span class=\"spark-nlp-display-entity-wrapper\" style=\"background-color: #88579C\"><span class=\"spark-nlp-display-entity-name\">1827115 </span><span class=\"spark-nlp-display-entity-type\">CARDINAL</span></span><span class=\"spark-nlp-display-others\" style=\"background-color: white\">; REMOVE PAPERS NOT REVEAL CONTENTS; TRANSFER SLIP; DATE OF REQUEST; TO PERSON CONCERNED. RETURN THE; PROMPTLY.; </span><span class=\"spark-nlp-display-entity-wrapper\" style=\"background-color: #88579C\"><span class=\"spark-nlp-display-entity-name\">1509 </span><span class=\"spark-nlp-display-entity-type\">CARDINAL</span></span><span class=\"spark-nlp-display-others\" style=\"background-color: white\">; RECORDS; </span><span class=\"spark-nlp-display-entity-wrapper\" style=\"background-color: #88579C\"><span class=\"spark-nlp-display-entity-name\">201 </span><span class=\"spark-nlp-display-entity-type\">CARDINAL</span></span><span class=\"spark-nlp-display-others\" style=\"background-color: white\"> FILE; ENL REC; EFF REP; MED REC; LETTER; IND; </span><span class=\"spark-nlp-display-entity-wrapper\" style=\"background-color: #A125C6\"><span class=\"spark-nlp-display-entity-name\">MEMO </span><span class=\"spark-nlp-display-entity-type\">WORK_OF_ART</span></span><span class=\"spark-nlp-display-others\" style=\"background-color: white\">; RADIO; OTHER (Specify); </span><span class=\"spark-nlp-display-entity-wrapper\" style=\"background-color: #88579C\"><span class=\"spark-nlp-display-entity-name\">LAST </span><span class=\"spark-nlp-display-entity-type\">CARDINAL</span></span><span class=\"spark-nlp-display-others\" style=\"background-color: white\"> DATE; DESIRED; FILE OR; REQUESTED; SERIAL; PAPERS; NUMBER; AND; SUBJECT; </span><span class=\"spark-nlp-display-entity-wrapper\" style=\"background-color: #88579C\"><span class=\"spark-nlp-display-entity-name\">293 </span><span class=\"spark-nlp-display-entity-type\">CARDINAL</span></span><span class=\"spark-nlp-display-others\" style=\"background-color: white\">; abilla uano; NOT IN FILE; NAME AND EXTENSION OFPERSON REQUESTING FILE; DIVISION. BRANCH; SECTION; BUILDING AND ROOM NUMBER; TO; Basis; Lommes; To; DATE RETURNED; RETURN; TO RETURN FILE; INITIAL HEP; Departmental Records Bro AGU; TO; </span><span class=\"spark-nlp-display-entity-wrapper\" style=\"background-color: #88579C\"><span class=\"spark-nlp-display-entity-name\">219 </span><span class=\"spark-nlp-display-entity-type\">CARDINAL</span></span><span class=\"spark-nlp-display-others\" style=\"background-color: white\"> North Lee Street; INSTRUCTIONS; Alezandris; When </span><span class=\"spark-nlp-display-entity-wrapper\" style=\"background-color: #88579C\"><span class=\"spark-nlp-display-entity-name\">Wbrenpirgnsferring </span><span class=\"spark-nlp-display-entity-type\">CARDINAL</span></span><span class=\"spark-nlp-display-others\" style=\"background-color: white\"> nsferring file to another person; complete selfaddressed transfer coupon below; detach; stitch; to; paper and place in outgoing mail service.; </span><span class=\"spark-nlp-display-entity-wrapper\" style=\"background-color: #766EAF\"><span class=\"spark-nlp-display-entity-name\">LO </span><span class=\"spark-nlp-display-entity-type\">PERSON</span></span><span class=\"spark-nlp-display-others\" style=\"background-color: white\">; TRANSFER COUPO N; LO; TO:; FILE; </span><span class=\"spark-nlp-display-entity-wrapper\" style=\"background-color: #88579C\"><span class=\"spark-nlp-display-entity-name\">05 </span><span class=\"spark-nlp-display-entity-type\">CARDINAL</span></span><span class=\"spark-nlp-display-others\" style=\"background-color: white\">; NOPE THAT; nicane; TRANSFERRED; TO:; </span><span class=\"spark-nlp-display-entity-wrapper\" style=\"background-color: #A125C6\"><span class=\"spark-nlp-display-entity-name\">WNome </span><span class=\"spark-nlp-display-entity-type\">WORK_OF_ART</span></span><span class=\"spark-nlp-display-others\" style=\"background-color: white\">; BEEN; TRANSF; N; HAS; ROOM; NO.; BUILDING; AND; 00; SECTION; ; </span><span class=\"spark-nlp-display-entity-wrapper\" style=\"background-color: #A36314\"><span class=\"spark-nlp-display-entity-name\">BRANCH </span><span class=\"spark-nlp-display-entity-type\">ORG</span></span><span class=\"spark-nlp-display-others\" style=\"background-color: white\">; DIVISION.; </span><span class=\"spark-nlp-display-entity-wrapper\" style=\"background-color: #88579C\"><span class=\"spark-nlp-display-entity-name\">4 </span><span class=\"spark-nlp-display-entity-type\">CARDINAL</span></span><span class=\"spark-nlp-display-others\" style=\"background-color: white\">; </span><span class=\"spark-nlp-display-entity-wrapper\" style=\"background-color: #88579C\"><span class=\"spark-nlp-display-entity-name\">S1 </span><span class=\"spark-nlp-display-entity-type\">CARDINAL</span></span><span class=\"spark-nlp-display-others\" style=\"background-color: white\">; GNATURE; DATE; austed.; </span><span class=\"spark-nlp-display-entity-wrapper\" style=\"background-color: #A36314\"><span class=\"spark-nlp-display-entity-name\">LELIORIAL DIVISION </span><span class=\"spark-nlp-display-entity-type\">ORG</span></span><span class=\"spark-nlp-display-others\" style=\"background-color: white\">; PEPATRIATION HECORDS BRANCH; RECORDS SECTION; DATE; </span><span class=\"spark-nlp-display-entity-wrapper\" style=\"background-color: #88579C\"><span class=\"spark-nlp-display-entity-name\">7 Feb 49 </span><span class=\"spark-nlp-display-entity-type\">CARDINAL</span></span><span class=\"spark-nlp-display-others\" style=\"background-color: white\">; </span><span class=\"spark-nlp-display-entity-wrapper\" style=\"background-color: #88579C\"><span class=\"spark-nlp-display-entity-name\">31 </span><span class=\"spark-nlp-display-entity-type\">CARDINAL</span></span><span class=\"spark-nlp-display-others\" style=\"background-color: white\">; </span><span class=\"spark-nlp-display-entity-wrapper\" style=\"background-color: #88579C\"><span class=\"spark-nlp-display-entity-name\">1o </span><span class=\"spark-nlp-display-entity-type\">CARDINAL</span></span><span class=\"spark-nlp-display-others\" style=\"background-color: white\">; </span><span class=\"spark-nlp-display-entity-wrapper\" style=\"background-color: #766EAF\"><span class=\"spark-nlp-display-entity-name\">Wame </span><span class=\"spark-nlp-display-entity-type\">PERSON</span></span><span class=\"spark-nlp-display-others\" style=\"background-color: white\"> or </span><span class=\"spark-nlp-display-entity-wrapper\" style=\"background-color: #766EAF\"><span class=\"spark-nlp-display-entity-name\">Decedent </span><span class=\"spark-nlp-display-entity-type\">PERSON</span></span><span class=\"spark-nlp-display-others\" style=\"background-color: white\">; </span><span class=\"spark-nlp-display-entity-wrapper\" style=\"background-color: #766EAF\"><span class=\"spark-nlp-display-entity-name\">ABELLA </span><span class=\"spark-nlp-display-entity-type\">PERSON</span></span><span class=\"spark-nlp-display-others\" style=\"background-color: white\">. </span><span class=\"spark-nlp-display-entity-wrapper\" style=\"background-color: #766EAF\"><span class=\"spark-nlp-display-entity-name\">Nicanor F </span><span class=\"spark-nlp-display-entity-type\">PERSON</span></span><span class=\"spark-nlp-display-others\" style=\"background-color: white\">.; </span><span class=\"spark-nlp-display-entity-wrapper\" style=\"background-color: #88579C\"><span class=\"spark-nlp-display-entity-name\">20 </span><span class=\"spark-nlp-display-entity-type\">CARDINAL</span></span><span class=\"spark-nlp-display-others\" style=\"background-color: white\"> Citizenship; </span><span class=\"spark-nlp-display-entity-wrapper\" style=\"background-color: #A9456A\"><span class=\"spark-nlp-display-entity-name\">Filipino </span><span class=\"spark-nlp-display-entity-type\">NORP</span></span><span class=\"spark-nlp-display-others\" style=\"background-color: white\">; </span><span class=\"spark-nlp-display-entity-wrapper\" style=\"background-color: #88579C\"><span class=\"spark-nlp-display-entity-name\">3 </span><span class=\"spark-nlp-display-entity-type\">CARDINAL</span></span><span class=\"spark-nlp-display-others\" style=\"background-color: white\">.; </span><span class=\"spark-nlp-display-entity-wrapper\" style=\"background-color: #A36314\"><span class=\"spark-nlp-display-entity-name\">Status </span><span class=\"spark-nlp-display-entity-type\">ORG</span></span><span class=\"spark-nlp-display-others\" style=\"background-color: white\"> at </span><span class=\"spark-nlp-display-entity-wrapper\" style=\"background-color: #766EAF\"><span class=\"spark-nlp-display-entity-name\">Tine </span><span class=\"spark-nlp-display-entity-type\">PERSON</span></span><span class=\"spark-nlp-display-others\" style=\"background-color: white\"> of Death; </span><span class=\"spark-nlp-display-entity-wrapper\" style=\"background-color: #A36314\"><span class=\"spark-nlp-display-entity-name\">Phil Army </span><span class=\"spark-nlp-display-entity-type\">ORG</span></span><span class=\"spark-nlp-display-others\" style=\"background-color: white\">; </span><span class=\"spark-nlp-display-entity-wrapper\" style=\"background-color: #88579C\"><span class=\"spark-nlp-display-entity-name\">4 </span><span class=\"spark-nlp-display-entity-type\">CARDINAL</span></span><span class=\"spark-nlp-display-others\" style=\"background-color: white\">. </span><span class=\"spark-nlp-display-entity-wrapper\" style=\"background-color: #A125C6\"><span class=\"spark-nlp-display-entity-name\">Original Burial Location </span><span class=\"spark-nlp-display-entity-type\">WORK_OF_ART</span></span><span class=\"spark-nlp-display-others\" style=\"background-color: white\">:; </span><span class=\"spark-nlp-display-entity-wrapper\" style=\"background-color: #A36314\"><span class=\"spark-nlp-display-entity-name\">USAF </span><span class=\"spark-nlp-display-entity-type\">ORG</span></span><span class=\"spark-nlp-display-others\" style=\"background-color: white\"> LEYTE; </span><span class=\"spark-nlp-display-entity-wrapper\" style=\"background-color: #766EAF\"><span class=\"spark-nlp-display-entity-name\">Fil </span><span class=\"spark-nlp-display-entity-type\">PERSON</span></span><span class=\"spark-nlp-display-others\" style=\"background-color: white\">; </span><span class=\"spark-nlp-display-entity-wrapper\" style=\"background-color: #88579C\"><span class=\"spark-nlp-display-entity-name\">75 </span><span class=\"spark-nlp-display-entity-type\">CARDINAL</span></span><span class=\"spark-nlp-display-others\" style=\"background-color: white\">; </span><span class=\"spark-nlp-display-entity-wrapper\" style=\"background-color: #766EAF\"><span class=\"spark-nlp-display-entity-name\">Nane </span><span class=\"spark-nlp-display-entity-type\">PERSON</span></span><span class=\"spark-nlp-display-others\" style=\"background-color: white\"> of Ceretery; Plot; </span><span class=\"spark-nlp-display-entity-wrapper\" style=\"background-color: #88579C\"><span class=\"spark-nlp-display-entity-name\">Row </span><span class=\"spark-nlp-display-entity-type\">CARDINAL</span></span><span class=\"spark-nlp-display-others\" style=\"background-color: white\">; Grave; </span><span class=\"spark-nlp-display-entity-wrapper\" style=\"background-color: #88579C\"><span class=\"spark-nlp-display-entity-name\">5 </span><span class=\"spark-nlp-display-entity-type\">CARDINAL</span></span><span class=\"spark-nlp-display-others\" style=\"background-color: white\">.; Disposition of Remains:; Released to </span><span class=\"spark-nlp-display-entity-wrapper\" style=\"background-color: #A36314\"><span class=\"spark-nlp-display-entity-name\">Phil Army </span><span class=\"spark-nlp-display-entity-type\">ORG</span></span><span class=\"spark-nlp-display-others\" style=\"background-color: white\">; Offi e of the Q </span><span class=\"spark-nlp-display-entity-wrapper\" style=\"background-color: #88579C\"><span class=\"spark-nlp-display-entity-name\">17 </span><span class=\"spark-nlp-display-entity-type\">CARDINAL</span></span><span class=\"spark-nlp-display-others\" style=\"background-color: white\"> Apr </span><span class=\"spark-nlp-display-entity-wrapper\" style=\"background-color: #88579C\"><span class=\"spark-nlp-display-entity-name\">48 </span><span class=\"spark-nlp-display-entity-type\">CARDINAL</span></span><span class=\"spark-nlp-display-others\" style=\"background-color: white\">; Reburied in Mt. </span><span class=\"spark-nlp-display-entity-wrapper\" style=\"background-color: #766EAF\"><span class=\"spark-nlp-display-entity-name\">Samat Cemetery </span><span class=\"spark-nlp-display-entity-type\">PERSON</span></span><span class=\"spark-nlp-display-others\" style=\"background-color: white\">; </span><span class=\"spark-nlp-display-entity-wrapper\" style=\"background-color: #766EAF\"><span class=\"spark-nlp-display-entity-name\">Pilar </span><span class=\"spark-nlp-display-entity-type\">PERSON</span></span><span class=\"spark-nlp-display-others\" style=\"background-color: white\">; </span><span class=\"spark-nlp-display-entity-wrapper\" style=\"background-color: #2927AE\"><span class=\"spark-nlp-display-entity-name\">Bataan </span><span class=\"spark-nlp-display-entity-type\">GPE</span></span><span class=\"spark-nlp-display-others\" style=\"background-color: white\">; </span><span class=\"spark-nlp-display-entity-wrapper\" style=\"background-color: #88579C\"><span class=\"spark-nlp-display-entity-name\">6 </span><span class=\"spark-nlp-display-entity-type\">CARDINAL</span></span><span class=\"spark-nlp-display-others\" style=\"background-color: white\">.; Next of </span><span class=\"spark-nlp-display-entity-wrapper\" style=\"background-color: #766EAF\"><span class=\"spark-nlp-display-entity-name\">Kin </span><span class=\"spark-nlp-display-entity-type\">PERSON</span></span><span class=\"spark-nlp-display-others\" style=\"background-color: white\">:; Name; </span><span class=\"spark-nlp-display-entity-wrapper\" style=\"background-color: #766EAF\"><span class=\"spark-nlp-display-entity-name\">Francisco Pajado </span><span class=\"spark-nlp-display-entity-type\">PERSON</span></span><span class=\"spark-nlp-display-others\" style=\"background-color: white\">; </span><span class=\"spark-nlp-display-entity-wrapper\" style=\"background-color: #2927AE\"><span class=\"spark-nlp-display-entity-name\">Maasin </span><span class=\"spark-nlp-display-entity-type\">GPE</span></span><span class=\"spark-nlp-display-others\" style=\"background-color: white\">; </span><span class=\"spark-nlp-display-entity-wrapper\" style=\"background-color: #2927AE\"><span class=\"spark-nlp-display-entity-name\">Iloilo </span><span class=\"spark-nlp-display-entity-type\">GPE</span></span><span class=\"spark-nlp-display-others\" style=\"background-color: white\">; </span><span class=\"spark-nlp-display-entity-wrapper\" style=\"background-color: #A9456A\"><span class=\"spark-nlp-display-entity-name\">P.I </span><span class=\"spark-nlp-display-entity-type\">NORP</span></span><span class=\"spark-nlp-display-others\" style=\"background-color: white\">.; </span><span class=\"spark-nlp-display-entity-wrapper\" style=\"background-color: #A36314\"><span class=\"spark-nlp-display-entity-name\">Address </span><span class=\"spark-nlp-display-entity-type\">ORG</span></span><span class=\"spark-nlp-display-others\" style=\"background-color: white\">; Mother; Relationship; </span><span class=\"spark-nlp-display-entity-wrapper\" style=\"background-color: #88579C\"><span class=\"spark-nlp-display-entity-name\">7 </span><span class=\"spark-nlp-display-entity-type\">CARDINAL</span></span><span class=\"spark-nlp-display-others\" style=\"background-color: white\">. </span><span class=\"spark-nlp-display-entity-wrapper\" style=\"background-color: #88579C\"><span class=\"spark-nlp-display-entity-name\">A11 </span><span class=\"spark-nlp-display-entity-type\">CARDINAL</span></span><span class=\"spark-nlp-display-others\" style=\"background-color: white\"> reconds have been annotated to show disnosition of subject renains per; authority contained on </span><span class=\"spark-nlp-display-entity-wrapper\" style=\"background-color: #A125C6\"><span class=\"spark-nlp-display-entity-name\">Roster </span><span class=\"spark-nlp-display-entity-type\">WORK_OF_ART</span></span><span class=\"spark-nlp-display-others\" style=\"background-color: white\"> subnitted by </span><span class=\"spark-nlp-display-entity-wrapper\" style=\"background-color: #a6b1e1\"><span class=\"spark-nlp-display-entity-name\">Philrycom 21 Ausust 1918 </span><span class=\"spark-nlp-display-entity-type\">DATE</span></span><span class=\"spark-nlp-display-others\" style=\"background-color: white\">.; </span><span class=\"spark-nlp-display-entity-wrapper\" style=\"background-color: #A36314\"><span class=\"spark-nlp-display-entity-name\">SILE </span><span class=\"spark-nlp-display-entity-type\">ORG</span></span><span class=\"spark-nlp-display-others\" style=\"background-color: white\">; BCOROS; DATE; </span><span class=\"spark-nlp-display-entity-wrapper\" style=\"background-color: #766EAF\"><span class=\"spark-nlp-display-entity-name\">MAME </span><span class=\"spark-nlp-display-entity-type\">PERSON</span></span><span class=\"spark-nlp-display-others\" style=\"background-color: white\">; BRe; </span><span class=\"spark-nlp-display-entity-wrapper\" style=\"background-color: #88579C\"><span class=\"spark-nlp-display-entity-name\">17 </span><span class=\"spark-nlp-display-entity-type\">CARDINAL</span></span><span class=\"spark-nlp-display-others\" style=\"background-color: white\"> Jamary </span><span class=\"spark-nlp-display-entity-wrapper\" style=\"background-color: #a6b1e1\"><span class=\"spark-nlp-display-entity-name\">1947 </span><span class=\"spark-nlp-display-entity-type\">DATE</span></span><span class=\"spark-nlp-display-others\" style=\"background-color: white\">; Mzrs. </span><span class=\"spark-nlp-display-entity-wrapper\" style=\"background-color: #766EAF\"><span class=\"spark-nlp-display-entity-name\">Francisca Pajado </span><span class=\"spark-nlp-display-entity-type\">PERSON</span></span><span class=\"spark-nlp-display-others\" style=\"background-color: white\">; </span><span class=\"spark-nlp-display-entity-wrapper\" style=\"background-color: #2927AE\"><span class=\"spark-nlp-display-entity-name\">Maasin </span><span class=\"spark-nlp-display-entity-type\">GPE</span></span><span class=\"spark-nlp-display-others\" style=\"background-color: white\">; </span><span class=\"spark-nlp-display-entity-wrapper\" style=\"background-color: #2927AE\"><span class=\"spark-nlp-display-entity-name\">Iloilo </span><span class=\"spark-nlp-display-entity-type\">GPE</span></span><span class=\"spark-nlp-display-others\" style=\"background-color: white\">; </span><span class=\"spark-nlp-display-entity-wrapper\" style=\"background-color: #A9456A\"><span class=\"spark-nlp-display-entity-name\">Philippine </span><span class=\"spark-nlp-display-entity-type\">NORP</span></span><span class=\"spark-nlp-display-others\" style=\"background-color: white\"> Islands; </span><span class=\"spark-nlp-display-entity-wrapper\" style=\"background-color: #766EAF\"><span class=\"spark-nlp-display-entity-name\">Dear Mrg </span><span class=\"spark-nlp-display-entity-type\">PERSON</span></span><span class=\"spark-nlp-display-others\" style=\"background-color: white\">. </span><span class=\"spark-nlp-display-entity-wrapper\" style=\"background-color: #766EAF\"><span class=\"spark-nlp-display-entity-name\">Pajado </span><span class=\"spark-nlp-display-entity-type\">PERSON</span></span><span class=\"spark-nlp-display-others\" style=\"background-color: white\">:; </span><span class=\"spark-nlp-display-entity-wrapper\" style=\"background-color: #A36314\"><span class=\"spark-nlp-display-entity-name\">The War Department </span><span class=\"spark-nlp-display-entity-type\">ORG</span></span><span class=\"spark-nlp-display-others\" style=\"background-color: white\"> is most desirous that you be furnished infor; mation regarding the burial location of your som; </span><span class=\"spark-nlp-display-entity-wrapper\" style=\"background-color: #A36314\"><span class=\"spark-nlp-display-entity-name\">the Late Private </span><span class=\"spark-nlp-display-entity-type\">ORG</span></span><span class=\"spark-nlp-display-others\" style=\"background-color: white\">; </span><span class=\"spark-nlp-display-entity-wrapper\" style=\"background-color: #766EAF\"><span class=\"spark-nlp-display-entity-name\">First Class Nicanor F </span><span class=\"spark-nlp-display-entity-type\">PERSON</span></span><span class=\"spark-nlp-display-others\" style=\"background-color: white\">. </span><span class=\"spark-nlp-display-entity-wrapper\" style=\"background-color: #766EAF\"><span class=\"spark-nlp-display-entity-name\">Abella </span><span class=\"spark-nlp-display-entity-type\">PERSON</span></span><span class=\"spark-nlp-display-others\" style=\"background-color: white\">; </span><span class=\"spark-nlp-display-entity-wrapper\" style=\"background-color: #A36314\"><span class=\"spark-nlp-display-entity-name\">A.S.N </span><span class=\"spark-nlp-display-entity-type\">ORG</span></span><span class=\"spark-nlp-display-others\" style=\"background-color: white\">. </span><span class=\"spark-nlp-display-entity-wrapper\" style=\"background-color: #88579C\"><span class=\"spark-nlp-display-entity-name\">066 </span><span class=\"spark-nlp-display-entity-type\">CARDINAL</span></span><span class=\"spark-nlp-display-others\" style=\"background-color: white\"> </span><span class=\"spark-nlp-display-entity-wrapper\" style=\"background-color: #88579C\"><span class=\"spark-nlp-display-entity-name\">458 </span><span class=\"spark-nlp-display-entity-type\">CARDINAL</span></span><span class=\"spark-nlp-display-others\" style=\"background-color: white\">.; The records of this office disclose that his remaine are interred; in the U. S. Axed Forces Cemetery; Leyto; </span><span class=\"spark-nlp-display-entity-wrapper\" style=\"background-color: #88579C\"><span class=\"spark-nlp-display-entity-name\">#l </span><span class=\"spark-nlp-display-entity-type\">CARDINAL</span></span><span class=\"spark-nlp-display-others\" style=\"background-color: white\">; ave </span><span class=\"spark-nlp-display-entity-wrapper\" style=\"background-color: #88579C\"><span class=\"spark-nlp-display-entity-name\">75 </span><span class=\"spark-nlp-display-entity-type\">CARDINAL</span></span><span class=\"spark-nlp-display-others\" style=\"background-color: white\">. You may be; assured that the identification and interment have been accomplished; with fitting dignity and solemmity; ; This cemetery is Located just outside the toun of </span><span class=\"spark-nlp-display-entity-wrapper\" style=\"background-color: #2927AE\"><span class=\"spark-nlp-display-entity-name\">Palo </span><span class=\"spark-nlp-display-entity-type\">GPE</span></span><span class=\"spark-nlp-display-others\" style=\"background-color: white\">; appraxi; mately </span><span class=\"spark-nlp-display-entity-wrapper\" style=\"background-color: #030377\"><span class=\"spark-nlp-display-entity-name\">eight miles </span><span class=\"spark-nlp-display-entity-type\">QUANTITY</span></span><span class=\"spark-nlp-display-others\" style=\"background-color: white\"> south of </span><span class=\"spark-nlp-display-entity-wrapper\" style=\"background-color: #2927AE\"><span class=\"spark-nlp-display-entity-name\">Tacloben </span><span class=\"spark-nlp-display-entity-type\">GPE</span></span><span class=\"spark-nlp-display-others\" style=\"background-color: white\">; </span><span class=\"spark-nlp-display-entity-wrapper\" style=\"background-color: #2927AE\"><span class=\"spark-nlp-display-entity-name\">Leyte Island </span><span class=\"spark-nlp-display-entity-type\">GPE</span></span><span class=\"spark-nlp-display-others\" style=\"background-color: white\">; </span><span class=\"spark-nlp-display-entity-wrapper\" style=\"background-color: #2927AE\"><span class=\"spark-nlp-display-entity-name\">Philippine Islands </span><span class=\"spark-nlp-display-entity-type\">GPE</span></span><span class=\"spark-nlp-display-others\" style=\"background-color: white\">; ; and is under the constant cave and supervision of </span><span class=\"spark-nlp-display-entity-wrapper\" style=\"background-color: #2927AE\"><span class=\"spark-nlp-display-entity-name\">United States </span><span class=\"spark-nlp-display-entity-type\">GPE</span></span><span class=\"spark-nlp-display-others\" style=\"background-color: white\"> mlli; tary personnel.; </span><span class=\"spark-nlp-display-entity-wrapper\" style=\"background-color: #A36314\"><span class=\"spark-nlp-display-entity-name\">The Wary Department </span><span class=\"spark-nlp-display-entity-type\">ORG</span></span><span class=\"spark-nlp-display-others\" style=\"background-color: white\"> has now been authorized to comply; at Govern; ment expense; with the feasible wishes of the nat of kin regarding; final interment; here OR abroad; of the remains of your loved one. At; a </span><span class=\"spark-nlp-display-entity-wrapper\" style=\"background-color: #a6b1e1\"><span class=\"spark-nlp-display-entity-name\">later date </span><span class=\"spark-nlp-display-entity-type\">DATE</span></span><span class=\"spark-nlp-display-others\" style=\"background-color: white\">; this office will; without any action on your part; pro; vide </span><span class=\"spark-nlp-display-entity-wrapper\" style=\"background-color: #88579C\"><span class=\"spark-nlp-display-entity-name\">911 </span><span class=\"spark-nlp-display-entity-type\">CARDINAL</span></span><span class=\"spark-nlp-display-others\" style=\"background-color: white\"> legal next of kin with full information ana Solicit the de; tailed desires.; Please accept my </span><span class=\"spark-nlp-display-entity-wrapper\" style=\"background-color: #766EAF\"><span class=\"spark-nlp-display-entity-name\">Bincere </span><span class=\"spark-nlp-display-entity-type\">PERSON</span></span><span class=\"spark-nlp-display-others\" style=\"background-color: white\"> sympathy in your great </span><span class=\"spark-nlp-display-entity-wrapper\" style=\"background-color: #766EAF\"><span class=\"spark-nlp-display-entity-name\">Los6 </span><span class=\"spark-nlp-display-entity-type\">PERSON</span></span><span class=\"spark-nlp-display-others\" style=\"background-color: white\">.; Sincerely yours; ; T. B. LARKM; Major General; The Quartermaster General; lhc; Ges; RESTRICTED; A </span><span class=\"spark-nlp-display-entity-wrapper\" style=\"background-color: #88579C\"><span class=\"spark-nlp-display-entity-name\">645 </span><span class=\"spark-nlp-display-entity-type\">CARDINAL</span></span><span class=\"spark-nlp-display-others\" style=\"background-color: white\">; bst; wD QMMC FORM </span><span class=\"spark-nlp-display-entity-wrapper\" style=\"background-color: #88579C\"><span class=\"spark-nlp-display-entity-name\">1042 </span><span class=\"spark-nlp-display-entity-type\">CARDINAL</span></span><span class=\"spark-nlp-display-others\" style=\"background-color: white\">; DATE OF REPORT; (Rev. </span><span class=\"spark-nlp-display-entity-wrapper\" style=\"background-color: #88579C\"><span class=\"spark-nlp-display-entity-name\">1 Apr </span><span class=\"spark-nlp-display-entity-type\">CARDINAL</span></span><span class=\"spark-nlp-display-others\" style=\"background-color: white\">. </span><span class=\"spark-nlp-display-entity-wrapper\" style=\"background-color: #a6b1e1\"><span class=\"spark-nlp-display-entity-name\">1945 </span><span class=\"spark-nlp-display-entity-type\">DATE</span></span><span class=\"spark-nlp-display-others\" style=\"background-color: white\">); REPORT OF INTERMENT STORAEE; (Supersedes GRS Form </span><span class=\"spark-nlp-display-entity-wrapper\" style=\"background-color: #88579C\"><span class=\"spark-nlp-display-entity-name\">1 </span><span class=\"spark-nlp-display-entity-type\">CARDINAL</span></span><span class=\"spark-nlp-display-others\" style=\"background-color: white\">); (AR </span><span class=\"spark-nlp-display-entity-wrapper\" style=\"background-color: #88579C\"><span class=\"spark-nlp-display-entity-name\">30-1810 </span><span class=\"spark-nlp-display-entity-type\">CARDINAL</span></span><span class=\"spark-nlp-display-others\" style=\"background-color: white\"> and AR </span><span class=\"spark-nlp-display-entity-wrapper\" style=\"background-color: #88579C\"><span class=\"spark-nlp-display-entity-name\">30-1815 </span><span class=\"spark-nlp-display-entity-type\">CARDINAL</span></span><span class=\"spark-nlp-display-others\" style=\"background-color: white\">); </span><span class=\"spark-nlp-display-entity-wrapper\" style=\"background-color: #88579C\"><span class=\"spark-nlp-display-entity-name\">8 Dec 47 </span><span class=\"spark-nlp-display-entity-type\">CARDINAL</span></span><span class=\"spark-nlp-display-others\" style=\"background-color: white\">; Impiint Identification Tad If Possible.; Section IDENTIFICATION.; DO NOT TYPE; NAME (</span><span class=\"spark-nlp-display-entity-wrapper\" style=\"background-color: #88579C\"><span class=\"spark-nlp-display-entity-name\">Last </span><span class=\"spark-nlp-display-entity-type\">CARDINAL</span></span><span class=\"spark-nlp-display-others\" style=\"background-color: white\">; </span><span class=\"spark-nlp-display-entity-wrapper\" style=\"background-color: #5A7DA8\"><span class=\"spark-nlp-display-entity-name\">first </span><span class=\"spark-nlp-display-entity-type\">ORDINAL</span></span><span class=\"spark-nlp-display-others\" style=\"background-color: white\">; middle initial); SERIAL No.; </span><span class=\"spark-nlp-display-entity-wrapper\" style=\"background-color: #766EAF\"><span class=\"spark-nlp-display-entity-name\">ABELLA </span><span class=\"spark-nlp-display-entity-type\">PERSON</span></span><span class=\"spark-nlp-display-others\" style=\"background-color: white\">; </span><span class=\"spark-nlp-display-entity-wrapper\" style=\"background-color: #766EAF\"><span class=\"spark-nlp-display-entity-name\">Nicanor F </span><span class=\"spark-nlp-display-entity-type\">PERSON</span></span><span class=\"spark-nlp-display-others\" style=\"background-color: white\">.; </span><span class=\"spark-nlp-display-entity-wrapper\" style=\"background-color: #88579C\"><span class=\"spark-nlp-display-entity-name\">066458 </span><span class=\"spark-nlp-display-entity-type\">CARDINAL</span></span><span class=\"spark-nlp-display-others\" style=\"background-color: white\">; </span><span class=\"spark-nlp-display-entity-wrapper\" style=\"background-color: #88579C\"><span class=\"spark-nlp-display-entity-name\">GRADE </span><span class=\"spark-nlp-display-entity-type\">CARDINAL</span></span><span class=\"spark-nlp-display-others\" style=\"background-color: white\">; ORGANIZATION; BRANCH OF SERVICE; </span><span class=\"spark-nlp-display-entity-wrapper\" style=\"background-color: #A36314\"><span class=\"spark-nlp-display-entity-name\">Pfe </span><span class=\"spark-nlp-display-entity-type\">ORG</span></span><span class=\"spark-nlp-display-others\" style=\"background-color: white\">; Co D; lst </span><span class=\"spark-nlp-display-entity-wrapper\" style=\"background-color: #766EAF\"><span class=\"spark-nlp-display-entity-name\">Fil Repl Bn </span><span class=\"spark-nlp-display-entity-type\">PERSON</span></span><span class=\"spark-nlp-display-others\" style=\"background-color: white\">; </span><span class=\"spark-nlp-display-entity-wrapper\" style=\"background-color: #A36314\"><span class=\"spark-nlp-display-entity-name\">Army </span><span class=\"spark-nlp-display-entity-type\">ORG</span></span><span class=\"spark-nlp-display-others\" style=\"background-color: white\">; RACE; RELIGION; IF OTHER THAN U. S. DEAD. GIVE; NAME OF COUNTRY; Catholio; PLACE OF DEATH; CAUSE OF DEATH; DATE OF DEATH; </span><span class=\"spark-nlp-display-entity-wrapper\" style=\"background-color: #A9456A\"><span class=\"spark-nlp-display-entity-name\">Telegrafo </span><span class=\"spark-nlp-display-entity-type\">NORP</span></span><span class=\"spark-nlp-display-others\" style=\"background-color: white\">; </span><span class=\"spark-nlp-display-entity-wrapper\" style=\"background-color: #746DB6\"><span class=\"spark-nlp-display-entity-name\">Leyte </span><span class=\"spark-nlp-display-entity-type\">LOC</span></span><span class=\"spark-nlp-display-others\" style=\"background-color: white\">; </span><span class=\"spark-nlp-display-entity-wrapper\" style=\"background-color: #A9456A\"><span class=\"spark-nlp-display-entity-name\">P.I </span><span class=\"spark-nlp-display-entity-type\">NORP</span></span><span class=\"spark-nlp-display-others\" style=\"background-color: white\">.; </span><span class=\"spark-nlp-display-entity-wrapper\" style=\"background-color: #9D1912\"><span class=\"spark-nlp-display-entity-name\">118th Gen Hospital </span><span class=\"spark-nlp-display-entity-type\">FAC</span></span><span class=\"spark-nlp-display-others\" style=\"background-color: white\">; Tuberculosis; </span><span class=\"spark-nlp-display-entity-wrapper\" style=\"background-color: #766EAF\"><span class=\"spark-nlp-display-entity-name\">Pul </span><span class=\"spark-nlp-display-entity-type\">PERSON</span></span><span class=\"spark-nlp-display-others\" style=\"background-color: white\">.; </span><span class=\"spark-nlp-display-entity-wrapper\" style=\"background-color: #a6b1e1\"><span class=\"spark-nlp-display-entity-name\">26 Sept 1945 </span><span class=\"spark-nlp-display-entity-type\">DATE</span></span><span class=\"spark-nlp-display-others\" style=\"background-color: white\">; EMERGENCY ADDRESSEE (Name; relationship; and address); </span><span class=\"spark-nlp-display-entity-wrapper\" style=\"background-color: #766EAF\"><span class=\"spark-nlp-display-entity-name\">Mrs </span><span class=\"spark-nlp-display-entity-type\">PERSON</span></span><span class=\"spark-nlp-display-others\" style=\"background-color: white\">. </span><span class=\"spark-nlp-display-entity-wrapper\" style=\"background-color: #766EAF\"><span class=\"spark-nlp-display-entity-name\">Francisca Pajado </span><span class=\"spark-nlp-display-entity-type\">PERSON</span></span><span class=\"spark-nlp-display-others\" style=\"background-color: white\"> (M); </span><span class=\"spark-nlp-display-entity-wrapper\" style=\"background-color: #2927AE\"><span class=\"spark-nlp-display-entity-name\">Maasin </span><span class=\"spark-nlp-display-entity-type\">GPE</span></span><span class=\"spark-nlp-display-others\" style=\"background-color: white\">; </span><span class=\"spark-nlp-display-entity-wrapper\" style=\"background-color: #2927AE\"><span class=\"spark-nlp-display-entity-name\">Iloilo </span><span class=\"spark-nlp-display-entity-type\">GPE</span></span><span class=\"spark-nlp-display-others\" style=\"background-color: white\">; </span><span class=\"spark-nlp-display-entity-wrapper\" style=\"background-color: #A9456A\"><span class=\"spark-nlp-display-entity-name\">P.I </span><span class=\"spark-nlp-display-entity-type\">NORP</span></span><span class=\"spark-nlp-display-others\" style=\"background-color: white\">.; IDENTIFICATION TAGS FOUND ON BODY; IF NO TAGS FOUND ON BODY DESCRIBE MEANS OF IDENTIFICATION (If unidentified; fill in section </span><span class=\"spark-nlp-display-entity-wrapper\" style=\"background-color: #88579C\"><span class=\"spark-nlp-display-entity-name\">3 07 </span><span class=\"spark-nlp-display-entity-type\">CARDINAL</span></span><span class=\"spark-nlp-display-others\" style=\"background-color: white\"> reverse); (</span><span class=\"spark-nlp-display-entity-wrapper\" style=\"background-color: #88579C\"><span class=\"spark-nlp-display-entity-name\">1 </span><span class=\"spark-nlp-display-entity-type\">CARDINAL</span></span><span class=\"spark-nlp-display-others\" style=\"background-color: white\">; </span><span class=\"spark-nlp-display-entity-wrapper\" style=\"background-color: #88579C\"><span class=\"spark-nlp-display-entity-name\">2 </span><span class=\"spark-nlp-display-entity-type\">CARDINAL</span></span><span class=\"spark-nlp-display-others\" style=\"background-color: white\">; or none); None; Identified by hospi tal records.; WERE SUBSTITUTE TAGS PROVIDED?(Y or no); Yes; LIST PERSONAL EFFECTS FOUND ON BODY AND DISPOSITION OF SAME; None; Section 2-BURIAL If othor than in established cometory; furnish aketch and znap coordinates on reverse.; NAME; NUMBER. COORDINATES. AND LOCATION OF CEMETERY; </span><span class=\"spark-nlp-display-entity-wrapper\" style=\"background-color: #766EAF\"><span class=\"spark-nlp-display-entity-name\">AGRS </span><span class=\"spark-nlp-display-entity-type\">PERSON</span></span><span class=\"spark-nlp-display-others\" style=\"background-color: white\"> MAUSOLEUM; </span><span class=\"spark-nlp-display-entity-wrapper\" style=\"background-color: #766EAF\"><span class=\"spark-nlp-display-entity-name\">MANILA Pal </span><span class=\"spark-nlp-display-entity-type\">PERSON</span></span><span class=\"spark-nlp-display-others\" style=\"background-color: white\">.; DATE OF BURIAL; </span><span class=\"spark-nlp-display-entity-wrapper\" style=\"background-color: #88579C\"><span class=\"spark-nlp-display-entity-name\">HOUR </span><span class=\"spark-nlp-display-entity-type\">CARDINAL</span></span><span class=\"spark-nlp-display-others\" style=\"background-color: white\">; BURIED IN (Shroud; blanket; or nam16 of other); TYPE OF GRAVE; PLOT No.; ROW No.; GRAVE No.; STORED; MARKER; STORAG; HANGER; AY; GRYPY; </span><span class=\"spark-nlp-display-entity-wrapper\" style=\"background-color: #88579C\"><span class=\"spark-nlp-display-entity-name\">22 Nov 47 </span><span class=\"spark-nlp-display-entity-type\">CARDINAL</span></span><span class=\"spark-nlp-display-others\" style=\"background-color: white\">; </span><span class=\"spark-nlp-display-entity-wrapper\" style=\"background-color: #88579C\"><span class=\"spark-nlp-display-entity-name\">1000 </span><span class=\"spark-nlp-display-entity-type\">CARDINAL</span></span><span class=\"spark-nlp-display-others\" style=\"background-color: white\">; Casket; None; </span><span class=\"spark-nlp-display-entity-wrapper\" style=\"background-color: #88579C\"><span class=\"spark-nlp-display-entity-name\">810 </span><span class=\"spark-nlp-display-entity-type\">CARDINAL</span></span><span class=\"spark-nlp-display-others\" style=\"background-color: white\">; H; </span><span class=\"spark-nlp-display-entity-wrapper\" style=\"background-color: #88579C\"><span class=\"spark-nlp-display-entity-name\">2528 </span><span class=\"spark-nlp-display-entity-type\">CARDINAL</span></span><span class=\"spark-nlp-display-others\" style=\"background-color: white\">; WAS THIS A REBURIAL?; IF A REBURIAL; INDICATE NAME; NUMCET COORDINATES OF PREVIOUS CEMETERY. AND LOCATION OF GRAVE; (Yes or </span><span class=\"spark-nlp-display-entity-wrapper\" style=\"background-color: #88579C\"><span class=\"spark-nlp-display-entity-name\">n0 </span><span class=\"spark-nlp-display-entity-type\">CARDINAL</span></span><span class=\"spark-nlp-display-others\" style=\"background-color: white\">); RESTORED; PLOT No.; ROW No.; GRAVE No.; Yes; </span><span class=\"spark-nlp-display-entity-wrapper\" style=\"background-color: #A36314\"><span class=\"spark-nlp-display-entity-name\">USAF </span><span class=\"spark-nlp-display-entity-type\">ORG</span></span><span class=\"spark-nlp-display-others\" style=\"background-color: white\"> Cemetery #l; </span><span class=\"spark-nlp-display-entity-wrapper\" style=\"background-color: #746DB6\"><span class=\"spark-nlp-display-entity-name\">Leyte </span><span class=\"spark-nlp-display-entity-type\">LOC</span></span><span class=\"spark-nlp-display-others\" style=\"background-color: white\">; P.I. (PAFS); </span><span class=\"spark-nlp-display-entity-wrapper\" style=\"background-color: #88579C\"><span class=\"spark-nlp-display-entity-name\">75 </span><span class=\"spark-nlp-display-entity-type\">CARDINAL</span></span><span class=\"spark-nlp-display-others\" style=\"background-color: white\">; TYPE OF RELIGIOUS; PERSON CONDUCTING BURIAL RITES; IF IDENTIFICATION TAGS NOT USED. DESCRIBE HDENTIFICATION DATA AND; CEREMONY; CONTAINERS BURIED WITH BODY; IDENTIFICATION TAG BURIED WITH; IDENTIFICATION TAG ATTACHED TO; BODY (</span><span class=\"spark-nlp-display-entity-wrapper\" style=\"background-color: #766EAF\"><span class=\"spark-nlp-display-entity-name\">Yee </span><span class=\"spark-nlp-display-entity-type\">PERSON</span></span><span class=\"spark-nlp-display-others\" style=\"background-color: white\"> or </span><span class=\"spark-nlp-display-entity-wrapper\" style=\"background-color: #88579C\"><span class=\"spark-nlp-display-entity-name\">790 </span><span class=\"spark-nlp-display-entity-type\">CARDINAL</span></span><span class=\"spark-nlp-display-others\" style=\"background-color: white\">); MARKER (Yes or </span><span class=\"spark-nlp-display-entity-wrapper\" style=\"background-color: #88579C\"><span class=\"spark-nlp-display-entity-name\">n0 </span><span class=\"spark-nlp-display-entity-type\">CARDINAL</span></span><span class=\"spark-nlp-display-others\" style=\"background-color: white\">); Yes; Yes; BODY BURIED ON DECEASED LEFT. NAME (</span><span class=\"spark-nlp-display-entity-wrapper\" style=\"background-color: #88579C\"><span class=\"spark-nlp-display-entity-name\">Last </span><span class=\"spark-nlp-display-entity-type\">CARDINAL</span></span><span class=\"spark-nlp-display-others\" style=\"background-color: white\">; </span><span class=\"spark-nlp-display-entity-wrapper\" style=\"background-color: #5A7DA8\"><span class=\"spark-nlp-display-entity-name\">first </span><span class=\"spark-nlp-display-entity-type\">ORDINAL</span></span><span class=\"spark-nlp-display-others\" style=\"background-color: white\">; middle initial); RANK; SERIAL No.; ORGANIZATION; GRAVE No.; STORED; </span><span class=\"spark-nlp-display-entity-wrapper\" style=\"background-color: #88579C\"><span class=\"spark-nlp-display-entity-name\">2 </span><span class=\"spark-nlp-display-entity-type\">CARDINAL</span></span><span class=\"spark-nlp-display-others\" style=\"background-color: white\"> Bn; </span><span class=\"spark-nlp-display-entity-wrapper\" style=\"background-color: #88579C\"><span class=\"spark-nlp-display-entity-name\">111 </span><span class=\"spark-nlp-display-entity-type\">CARDINAL</span></span><span class=\"spark-nlp-display-others\" style=\"background-color: white\">; CRAPT; </span><span class=\"spark-nlp-display-entity-wrapper\" style=\"background-color: #766EAF\"><span class=\"spark-nlp-display-entity-name\">PABLO </span><span class=\"spark-nlp-display-entity-type\">PERSON</span></span><span class=\"spark-nlp-display-others\" style=\"background-color: white\">; </span><span class=\"spark-nlp-display-entity-wrapper\" style=\"background-color: #88579C\"><span class=\"spark-nlp-display-entity-name\">Alinob </span><span class=\"spark-nlp-display-entity-type\">CARDINAL</span></span><span class=\"spark-nlp-display-others\" style=\"background-color: white\">; </span><span class=\"spark-nlp-display-entity-wrapper\" style=\"background-color: #A36314\"><span class=\"spark-nlp-display-entity-name\">Pfc </span><span class=\"spark-nlp-display-entity-type\">ORG</span></span><span class=\"spark-nlp-display-others\" style=\"background-color: white\">; </span><span class=\"spark-nlp-display-entity-wrapper\" style=\"background-color: #88579C\"><span class=\"spark-nlp-display-entity-name\">135978 </span><span class=\"spark-nlp-display-entity-type\">CARDINAL</span></span><span class=\"spark-nlp-display-others\" style=\"background-color: white\">; </span><span class=\"spark-nlp-display-entity-wrapper\" style=\"background-color: #A36314\"><span class=\"spark-nlp-display-entity-name\">Inf </span><span class=\"spark-nlp-display-entity-type\">ORG</span></span><span class=\"spark-nlp-display-others\" style=\"background-color: white\"> )PA); </span><span class=\"spark-nlp-display-entity-wrapper\" style=\"background-color: #88579C\"><span class=\"spark-nlp-display-entity-name\">2530 </span><span class=\"spark-nlp-display-entity-type\">CARDINAL</span></span><span class=\"spark-nlp-display-others\" style=\"background-color: white\">; BODY BURIED ON DECEASED RIGHT. NAME (</span><span class=\"spark-nlp-display-entity-wrapper\" style=\"background-color: #88579C\"><span class=\"spark-nlp-display-entity-name\">Last </span><span class=\"spark-nlp-display-entity-type\">CARDINAL</span></span><span class=\"spark-nlp-display-others\" style=\"background-color: white\">; </span><span class=\"spark-nlp-display-entity-wrapper\" style=\"background-color: #5A7DA8\"><span class=\"spark-nlp-display-entity-name\">first </span><span class=\"spark-nlp-display-entity-type\">ORDINAL</span></span><span class=\"spark-nlp-display-others\" style=\"background-color: white\">; middle initial); RANK; SERIAL No.; ORGANIZATION; GRAVE No.; </span><span class=\"spark-nlp-display-entity-wrapper\" style=\"background-color: #5A7DA8\"><span class=\"spark-nlp-display-entity-name\">2nd </span><span class=\"spark-nlp-display-entity-type\">ORDINAL</span></span><span class=\"spark-nlp-display-others\" style=\"background-color: white\"> Repl Co; ; MONTOYAg </span><span class=\"spark-nlp-display-entity-wrapper\" style=\"background-color: #766EAF\"><span class=\"spark-nlp-display-entity-name\">Florentino </span><span class=\"spark-nlp-display-entity-type\">PERSON</span></span><span class=\"spark-nlp-display-others\" style=\"background-color: white\">; </span><span class=\"spark-nlp-display-entity-wrapper\" style=\"background-color: #A36314\"><span class=\"spark-nlp-display-entity-name\">Pfc </span><span class=\"spark-nlp-display-entity-type\">ORG</span></span><span class=\"spark-nlp-display-others\" style=\"background-color: white\">; Unknown; </span><span class=\"spark-nlp-display-entity-wrapper\" style=\"background-color: #88579C\"><span class=\"spark-nlp-display-entity-name\">1 </span><span class=\"spark-nlp-display-entity-type\">CARDINAL</span></span><span class=\"spark-nlp-display-others\" style=\"background-color: white\">; </span><span class=\"spark-nlp-display-entity-wrapper\" style=\"background-color: #A36314\"><span class=\"spark-nlp-display-entity-name\">Repl </span><span class=\"spark-nlp-display-entity-type\">ORG</span></span><span class=\"spark-nlp-display-others\" style=\"background-color: white\"> Bn PA; </span><span class=\"spark-nlp-display-entity-wrapper\" style=\"background-color: #88579C\"><span class=\"spark-nlp-display-entity-name\">2526 </span><span class=\"spark-nlp-display-entity-type\">CARDINAL</span></span><span class=\"spark-nlp-display-others\" style=\"background-color: white\">; SIGNATURE OF PERSON PREPARING REPORT; SIGNATURE OF GRS OFFICER VERIFYING REPORT; R. R. ACIERTO; Pvt.; L.S. PANOPIO; </span><span class=\"spark-nlp-display-entity-wrapper\" style=\"background-color: #5A7DA8\"><span class=\"spark-nlp-display-entity-name\">2nd </span><span class=\"spark-nlp-display-entity-type\">ORDINAL</span></span><span class=\"spark-nlp-display-others\" style=\"background-color: white\"> Lt. </span><span class=\"spark-nlp-display-entity-wrapper\" style=\"background-color: #A36314\"><span class=\"spark-nlp-display-entity-name\">INE </span><span class=\"spark-nlp-display-entity-type\">ORG</span></span><span class=\"spark-nlp-display-others\" style=\"background-color: white\">.; DISTRIBUTION CF REPORT: Signed original for U. S. and allied dead; signed original and </span><span class=\"spark-nlp-display-entity-wrapper\" style=\"background-color: #88579C\"><span class=\"spark-nlp-display-entity-name\">one </span><span class=\"spark-nlp-display-entity-type\">CARDINAL</span></span><span class=\"spark-nlp-display-others\" style=\"background-color: white\"> copy for enemy dead; to the Quartermaster General; through </span><span class=\"spark-nlp-display-entity-wrapper\" style=\"background-color: #A36314\"><span class=\"spark-nlp-display-entity-name\">Headquarters </span><span class=\"spark-nlp-display-entity-type\">ORG</span></span><span class=\"spark-nlp-display-others\" style=\"background-color: white\"> GRS Officer. Copies for retention in theater as prescribed by theater commandor.; </span><span class=\"spark-nlp-display-entity-wrapper\" style=\"background-color: #88579C\"><span class=\"spark-nlp-display-entity-name\">1857 </span><span class=\"spark-nlp-display-entity-type\">CARDINAL</span></span><span class=\"spark-nlp-display-others\" style=\"background-color: white\">; RESTRICTED; RESTRICTED; Section </span><span class=\"spark-nlp-display-entity-wrapper\" style=\"background-color: #88579C\"><span class=\"spark-nlp-display-entity-name\">3 </span><span class=\"spark-nlp-display-entity-type\">CARDINAL</span></span><span class=\"spark-nlp-display-others\" style=\"background-color: white\">.; NiDENTIFIED REMAINS.; INSTRUCTONS:; (a) Great care will be taken to record the most minute clues for the future identity of unidentified re; mains. Fill in anatomical characteristics below; and any other clues under \"Other; such as shoe size; ; social security number: position of body found in airplanes; vehicles; and tanks and serial numbers of air; planes; vehicles; and tanks.; (b) A fingerprint; or prints; are the most valuable of all clues. </span><span class=\"spark-nlp-display-entity-wrapper\" style=\"background-color: #A36314\"><span class=\"spark-nlp-display-entity-name\">Imprint </span><span class=\"spark-nlp-display-entity-type\">ORG</span></span><span class=\"spark-nlp-display-others\" style=\"background-color: white\"> all fingers and thumbs in the; chart at left; or as many as possible. If no fingerprint or prints can be secured; the condition of each and; </span><span class=\"spark-nlp-display-entity-wrapper\" style=\"background-color: #88579C\"><span class=\"spark-nlp-display-entity-name\">8cddo </span><span class=\"spark-nlp-display-entity-type\">CARDINAL</span></span><span class=\"spark-nlp-display-others\" style=\"background-color: white\">; every tooth will be indicated on thetooth chart in accordance with diagram below. Tooth chart will not be; accomplished if </span><span class=\"spark-nlp-display-entity-wrapper\" style=\"background-color: #88579C\"><span class=\"spark-nlp-display-entity-name\">one </span><span class=\"spark-nlp-display-entity-type\">CARDINAL</span></span><span class=\"spark-nlp-display-others\" style=\"background-color: white\"> or more fingerprints are secured.; HEIGHT; WEIGHT; COLOR OF EYES; COLOR OF HAIR; BIRTHMARKS. SCARS. OR TATTOOS; WEAPON AND SERIAL NO.; LAUNDRY MARKS; WHERE BODY WAS BURIED OR FOUND; OTHER IDENTIFICATION CLUES; FILLINGS; SILVER FILLING; I; eurooe; GOLD FILLING; </span><span class=\"spark-nlp-display-entity-wrapper\" style=\"background-color: #88579C\"><span class=\"spark-nlp-display-entity-name\">2 </span><span class=\"spark-nlp-display-entity-type\">CARDINAL</span></span><span class=\"spark-nlp-display-others\" style=\"background-color: white\">; </span><span class=\"spark-nlp-display-entity-wrapper\" style=\"background-color: #88579C\"><span class=\"spark-nlp-display-entity-name\">2 </span><span class=\"spark-nlp-display-entity-type\">CARDINAL</span></span><span class=\"spark-nlp-display-others\" style=\"background-color: white\">; </span><span class=\"spark-nlp-display-entity-wrapper\" style=\"background-color: #88579C\"><span class=\"spark-nlp-display-entity-name\">3 </span><span class=\"spark-nlp-display-entity-type\">CARDINAL</span></span><span class=\"spark-nlp-display-others\" style=\"background-color: white\">; </span><span class=\"spark-nlp-display-entity-wrapper\" style=\"background-color: #88579C\"><span class=\"spark-nlp-display-entity-name\">4 </span><span class=\"spark-nlp-display-entity-type\">CARDINAL</span></span><span class=\"spark-nlp-display-others\" style=\"background-color: white\">; </span><span class=\"spark-nlp-display-entity-wrapper\" style=\"background-color: #88579C\"><span class=\"spark-nlp-display-entity-name\">4 </span><span class=\"spark-nlp-display-entity-type\">CARDINAL</span></span><span class=\"spark-nlp-display-others\" style=\"background-color: white\">; </span><span class=\"spark-nlp-display-entity-wrapper\" style=\"background-color: #88579C\"><span class=\"spark-nlp-display-entity-name\">5 </span><span class=\"spark-nlp-display-entity-type\">CARDINAL</span></span><span class=\"spark-nlp-display-others\" style=\"background-color: white\">; CAVITIES; CAVITY; </span><span class=\"spark-nlp-display-entity-wrapper\" style=\"background-color: #88579C\"><span class=\"spark-nlp-display-entity-name\">5 </span><span class=\"spark-nlp-display-entity-type\">CARDINAL</span></span><span class=\"spark-nlp-display-others\" style=\"background-color: white\">; DECAYED; </span><span class=\"spark-nlp-display-entity-wrapper\" style=\"background-color: #88579C\"><span class=\"spark-nlp-display-entity-name\">6 </span><span class=\"spark-nlp-display-entity-type\">CARDINAL</span></span><span class=\"spark-nlp-display-others\" style=\"background-color: white\">; UPPER; </span><span class=\"spark-nlp-display-entity-wrapper\" style=\"background-color: #88579C\"><span class=\"spark-nlp-display-entity-name\">6 </span><span class=\"spark-nlp-display-entity-type\">CARDINAL</span></span><span class=\"spark-nlp-display-others\" style=\"background-color: white\">; </span><span class=\"spark-nlp-display-entity-wrapper\" style=\"background-color: #88579C\"><span class=\"spark-nlp-display-entity-name\">7 </span><span class=\"spark-nlp-display-entity-type\">CARDINAL</span></span><span class=\"spark-nlp-display-others\" style=\"background-color: white\">; </span><span class=\"spark-nlp-display-entity-wrapper\" style=\"background-color: #88579C\"><span class=\"spark-nlp-display-entity-name\">7 </span><span class=\"spark-nlp-display-entity-type\">CARDINAL</span></span><span class=\"spark-nlp-display-others\" style=\"background-color: white\">; </span><span class=\"spark-nlp-display-entity-wrapper\" style=\"background-color: #88579C\"><span class=\"spark-nlp-display-entity-name\">8 </span><span class=\"spark-nlp-display-entity-type\">CARDINAL</span></span><span class=\"spark-nlp-display-others\" style=\"background-color: white\">; </span><span class=\"spark-nlp-display-entity-wrapper\" style=\"background-color: #88579C\"><span class=\"spark-nlp-display-entity-name\">8 </span><span class=\"spark-nlp-display-entity-type\">CARDINAL</span></span><span class=\"spark-nlp-display-others\" style=\"background-color: white\">; MISSING TEETH; FOOTH MISSING; DIAGRAM REPRESENTS THE MOUTH WIDE OPEN; CROWNED TEETH; </span><span class=\"spark-nlp-display-entity-wrapper\" style=\"background-color: #88579C\"><span class=\"spark-nlp-display-entity-name\">16 </span><span class=\"spark-nlp-display-entity-type\">CARDINAL</span></span><span class=\"spark-nlp-display-others\" style=\"background-color: white\">; </span><span class=\"spark-nlp-display-entity-wrapper\" style=\"background-color: #88579C\"><span class=\"spark-nlp-display-entity-name\">16 </span><span class=\"spark-nlp-display-entity-type\">CARDINAL</span></span><span class=\"spark-nlp-display-others\" style=\"background-color: white\">; PORCELAIN CROWN; GOLD CROWN; </span><span class=\"spark-nlp-display-entity-wrapper\" style=\"background-color: #88579C\"><span class=\"spark-nlp-display-entity-name\">15 </span><span class=\"spark-nlp-display-entity-type\">CARDINAL</span></span><span class=\"spark-nlp-display-others\" style=\"background-color: white\">; </span><span class=\"spark-nlp-display-entity-wrapper\" style=\"background-color: #88579C\"><span class=\"spark-nlp-display-entity-name\">15 </span><span class=\"spark-nlp-display-entity-type\">CARDINAL</span></span><span class=\"spark-nlp-display-others\" style=\"background-color: white\">; LOWER; er; </span><span class=\"spark-nlp-display-entity-wrapper\" style=\"background-color: #88579C\"><span class=\"spark-nlp-display-entity-name\">14 </span><span class=\"spark-nlp-display-entity-type\">CARDINAL</span></span><span class=\"spark-nlp-display-others\" style=\"background-color: white\">; </span><span class=\"spark-nlp-display-entity-wrapper\" style=\"background-color: #88579C\"><span class=\"spark-nlp-display-entity-name\">14 </span><span class=\"spark-nlp-display-entity-type\">CARDINAL</span></span><span class=\"spark-nlp-display-others\" style=\"background-color: white\">; </span><span class=\"spark-nlp-display-entity-wrapper\" style=\"background-color: #A36314\"><span class=\"spark-nlp-display-entity-name\">8SS </span><span class=\"spark-nlp-display-entity-type\">ORG</span></span><span class=\"spark-nlp-display-others\" style=\"background-color: white\">; BRIDGE WORK; </span><span class=\"spark-nlp-display-entity-wrapper\" style=\"background-color: #88579C\"><span class=\"spark-nlp-display-entity-name\">13 </span><span class=\"spark-nlp-display-entity-type\">CARDINAL</span></span><span class=\"spark-nlp-display-others\" style=\"background-color: white\">; </span><span class=\"spark-nlp-display-entity-wrapper\" style=\"background-color: #88579C\"><span class=\"spark-nlp-display-entity-name\">13 </span><span class=\"spark-nlp-display-entity-type\">CARDINAL</span></span><span class=\"spark-nlp-display-others\" style=\"background-color: white\">; </span><span class=\"spark-nlp-display-entity-wrapper\" style=\"background-color: #A36314\"><span class=\"spark-nlp-display-entity-name\">ARAO </span><span class=\"spark-nlp-display-entity-type\">ORG</span></span><span class=\"spark-nlp-display-others\" style=\"background-color: white\">; SW GOLD BRIDGE; </span><span class=\"spark-nlp-display-entity-wrapper\" style=\"background-color: #88579C\"><span class=\"spark-nlp-display-entity-name\">12 </span><span class=\"spark-nlp-display-entity-type\">CARDINAL</span></span><span class=\"spark-nlp-display-others\" style=\"background-color: white\">; </span><span class=\"spark-nlp-display-entity-wrapper\" style=\"background-color: #88579C\"><span class=\"spark-nlp-display-entity-name\">12 </span><span class=\"spark-nlp-display-entity-type\">CARDINAL</span></span><span class=\"spark-nlp-display-others\" style=\"background-color: white\">; </span><span class=\"spark-nlp-display-entity-wrapper\" style=\"background-color: #88579C\"><span class=\"spark-nlp-display-entity-name\">11 </span><span class=\"spark-nlp-display-entity-type\">CARDINAL</span></span><span class=\"spark-nlp-display-others\" style=\"background-color: white\">; 0000; </span><span class=\"spark-nlp-display-entity-wrapper\" style=\"background-color: #88579C\"><span class=\"spark-nlp-display-entity-name\">10 </span><span class=\"spark-nlp-display-entity-type\">CARDINAL</span></span><span class=\"spark-nlp-display-others\" style=\"background-color: white\"> </span><span class=\"spark-nlp-display-entity-wrapper\" style=\"background-color: #88579C\"><span class=\"spark-nlp-display-entity-name\">9 </span><span class=\"spark-nlp-display-entity-type\">CARDINAL</span></span><span class=\"spark-nlp-display-others\" style=\"background-color: white\"> </span><span class=\"spark-nlp-display-entity-wrapper\" style=\"background-color: #88579C\"><span class=\"spark-nlp-display-entity-name\">9 </span><span class=\"spark-nlp-display-entity-type\">CARDINAL</span></span><span class=\"spark-nlp-display-others\" style=\"background-color: white\"> IO; </span><span class=\"spark-nlp-display-entity-wrapper\" style=\"background-color: #88579C\"><span class=\"spark-nlp-display-entity-name\">1I </span><span class=\"spark-nlp-display-entity-type\">CARDINAL</span></span><span class=\"spark-nlp-display-others\" style=\"background-color: white\">; FURNISH SKETCH AND MAP REFERENCE AND COORDINATES FOR BURIAL IN OTHER THAN ESTABLISHED CEMETERY; </span><span class=\"spark-nlp-display-entity-wrapper\" style=\"background-color: #766EAF\"><span class=\"spark-nlp-display-entity-name\">REMARKS </span><span class=\"spark-nlp-display-entity-type\">PERSON</span></span><span class=\"spark-nlp-display-others\" style=\"background-color: white\">:; RESTRICTED; </span><span class=\"spark-nlp-display-entity-wrapper\" style=\"background-color: #88579C\"><span class=\"spark-nlp-display-entity-name\">2047-A </span><span class=\"spark-nlp-display-entity-type\">CARDINAL</span></span><span class=\"spark-nlp-display-others\" style=\"background-color: white\"> G. Printing </span><span class=\"spark-nlp-display-entity-wrapper\" style=\"background-color: #88579C\"><span class=\"spark-nlp-display-entity-name\">lant-9-15-45-250M </span><span class=\"spark-nlp-display-entity-type\">CARDINAL</span></span><span class=\"spark-nlp-display-others\" style=\"background-color: white\">; R/R BRANCH; MEMORIAL DIVISION; </span><span class=\"spark-nlp-display-entity-wrapper\" style=\"background-color: #88579C\"><span class=\"spark-nlp-display-entity-name\">OQMG </span><span class=\"spark-nlp-display-entity-type\">CARDINAL</span></span><span class=\"spark-nlp-display-others\" style=\"background-color: white\">; IDENTIFICATION DENTAL CHART; TO BE USED WITH </span><span class=\"spark-nlp-display-entity-wrapper\" style=\"background-color: #A36314\"><span class=\"spark-nlp-display-entity-name\">QMC </span><span class=\"spark-nlp-display-entity-type\">ORG</span></span><span class=\"spark-nlp-display-others\" style=\"background-color: white\"> FORMS NOS. </span><span class=\"spark-nlp-display-entity-wrapper\" style=\"background-color: #88579C\"><span class=\"spark-nlp-display-entity-name\">1042 </span><span class=\"spark-nlp-display-entity-type\">CARDINAL</span></span><span class=\"spark-nlp-display-others\" style=\"background-color: white\"> a </span><span class=\"spark-nlp-display-entity-wrapper\" style=\"background-color: #88579C\"><span class=\"spark-nlp-display-entity-name\">1044 </span><span class=\"spark-nlp-display-entity-type\">CARDINAL</span></span><span class=\"spark-nlp-display-others\" style=\"background-color: white\"> IN PLACE OF CHART THEREON; ; AND TO BE ATTACHED TO AND FORWARDED WITH THESE FORMS WHEN ACCOMPLISHED.; </span><span class=\"spark-nlp-display-entity-wrapper\" style=\"background-color: #88579C\"><span class=\"spark-nlp-display-entity-name\">12/5/47 </span><span class=\"spark-nlp-display-entity-type\">CARDINAL</span></span><span class=\"spark-nlp-display-others\" style=\"background-color: white\">; DATE; </span><span class=\"spark-nlp-display-entity-wrapper\" style=\"background-color: #766EAF\"><span class=\"spark-nlp-display-entity-name\">ABELLA </span><span class=\"spark-nlp-display-entity-type\">PERSON</span></span><span class=\"spark-nlp-display-others\" style=\"background-color: white\">; </span><span class=\"spark-nlp-display-entity-wrapper\" style=\"background-color: #766EAF\"><span class=\"spark-nlp-display-entity-name\">Nicanor F </span><span class=\"spark-nlp-display-entity-type\">PERSON</span></span><span class=\"spark-nlp-display-others\" style=\"background-color: white\">.; </span><span class=\"spark-nlp-display-entity-wrapper\" style=\"background-color: #A36314\"><span class=\"spark-nlp-display-entity-name\">Pfc </span><span class=\"spark-nlp-display-entity-type\">ORG</span></span><span class=\"spark-nlp-display-others\" style=\"background-color: white\">; </span><span class=\"spark-nlp-display-entity-wrapper\" style=\"background-color: #88579C\"><span class=\"spark-nlp-display-entity-name\">066458 </span><span class=\"spark-nlp-display-entity-type\">CARDINAL</span></span><span class=\"spark-nlp-display-others\" style=\"background-color: white\">; </span><span class=\"spark-nlp-display-entity-wrapper\" style=\"background-color: #88579C\"><span class=\"spark-nlp-display-entity-name\">LAST </span><span class=\"spark-nlp-display-entity-type\">CARDINAL</span></span><span class=\"spark-nlp-display-others\" style=\"background-color: white\"> NAME; </span><span class=\"spark-nlp-display-entity-wrapper\" style=\"background-color: #88579C\"><span class=\"spark-nlp-display-entity-name\">FIRST </span><span class=\"spark-nlp-display-entity-type\">CARDINAL</span></span><span class=\"spark-nlp-display-others\" style=\"background-color: white\">; INITIAL; RANK; SERIAL NO.; Co D lst </span><span class=\"spark-nlp-display-entity-wrapper\" style=\"background-color: #A36314\"><span class=\"spark-nlp-display-entity-name\">Fil Repl Bn </span><span class=\"spark-nlp-display-entity-type\">ORG</span></span><span class=\"spark-nlp-display-others\" style=\"background-color: white\">; </span><span class=\"spark-nlp-display-entity-wrapper\" style=\"background-color: #88579C\"><span class=\"spark-nlp-display-entity-name\">118 </span><span class=\"spark-nlp-display-entity-type\">CARDINAL</span></span><span class=\"spark-nlp-display-others\" style=\"background-color: white\"> </span><span class=\"spark-nlp-display-entity-wrapper\" style=\"background-color: #A36314\"><span class=\"spark-nlp-display-entity-name\">Gen Hosp </span><span class=\"spark-nlp-display-entity-type\">ORG</span></span><span class=\"spark-nlp-display-others\" style=\"background-color: white\">; UNIT felegrafo; </span><span class=\"spark-nlp-display-entity-wrapper\" style=\"background-color: #A36314\"><span class=\"spark-nlp-display-entity-name\">ORGANIZATION </span><span class=\"spark-nlp-display-entity-type\">ORG</span></span><span class=\"spark-nlp-display-others\" style=\"background-color: white\">; </span><span class=\"spark-nlp-display-entity-wrapper\" style=\"background-color: #766EAF\"><span class=\"spark-nlp-display-entity-name\">AGRS Mausoleum </span><span class=\"spark-nlp-display-entity-type\">PERSON</span></span><span class=\"spark-nlp-display-others\" style=\"background-color: white\">; </span><span class=\"spark-nlp-display-entity-wrapper\" style=\"background-color: #A36314\"><span class=\"spark-nlp-display-entity-name\">Leyte P.I </span><span class=\"spark-nlp-display-entity-type\">ORG</span></span><span class=\"spark-nlp-display-others\" style=\"background-color: white\">.; </span><span class=\"spark-nlp-display-entity-wrapper\" style=\"background-color: #A36314\"><span class=\"spark-nlp-display-entity-name\">Manila P.I </span><span class=\"spark-nlp-display-entity-type\">ORG</span></span><span class=\"spark-nlp-display-others\" style=\"background-color: white\">.; </span><span class=\"spark-nlp-display-entity-wrapper\" style=\"background-color: #88579C\"><span class=\"spark-nlp-display-entity-name\">810 </span><span class=\"spark-nlp-display-entity-type\">CARDINAL</span></span><span class=\"spark-nlp-display-others\" style=\"background-color: white\">; H; </span><span class=\"spark-nlp-display-entity-wrapper\" style=\"background-color: #88579C\"><span class=\"spark-nlp-display-entity-name\">2528 </span><span class=\"spark-nlp-display-entity-type\">CARDINAL</span></span><span class=\"spark-nlp-display-others\" style=\"background-color: white\">; PLACE OF DEATH; PLACE OF BURIAL; PLOT; ROW; GRAVE NO.; SaRAGE; HANGER; </span><span class=\"spark-nlp-display-entity-wrapper\" style=\"background-color: #88579C\"><span class=\"spark-nlp-display-entity-name\">BA'T </span><span class=\"spark-nlp-display-entity-type\">CARDINAL</span></span><span class=\"spark-nlp-display-others\" style=\"background-color: white\">; </span><span class=\"spark-nlp-display-entity-wrapper\" style=\"background-color: #A36314\"><span class=\"spark-nlp-display-entity-name\">CRpb </span><span class=\"spark-nlp-display-entity-type\">ORG</span></span><span class=\"spark-nlp-display-others\" style=\"background-color: white\">; RIGHT; UPPER TEETH; LEFT; </span><span class=\"spark-nlp-display-entity-wrapper\" style=\"background-color: #88579C\"><span class=\"spark-nlp-display-entity-name\">8 </span><span class=\"spark-nlp-display-entity-type\">CARDINAL</span></span><span class=\"spark-nlp-display-others\" style=\"background-color: white\">; </span><span class=\"spark-nlp-display-entity-wrapper\" style=\"background-color: #88579C\"><span class=\"spark-nlp-display-entity-name\">7 </span><span class=\"spark-nlp-display-entity-type\">CARDINAL</span></span><span class=\"spark-nlp-display-others\" style=\"background-color: white\">; </span><span class=\"spark-nlp-display-entity-wrapper\" style=\"background-color: #88579C\"><span class=\"spark-nlp-display-entity-name\">6 </span><span class=\"spark-nlp-display-entity-type\">CARDINAL</span></span><span class=\"spark-nlp-display-others\" style=\"background-color: white\">; </span><span class=\"spark-nlp-display-entity-wrapper\" style=\"background-color: #88579C\"><span class=\"spark-nlp-display-entity-name\">5 </span><span class=\"spark-nlp-display-entity-type\">CARDINAL</span></span><span class=\"spark-nlp-display-others\" style=\"background-color: white\">; </span><span class=\"spark-nlp-display-entity-wrapper\" style=\"background-color: #88579C\"><span class=\"spark-nlp-display-entity-name\">4 </span><span class=\"spark-nlp-display-entity-type\">CARDINAL</span></span><span class=\"spark-nlp-display-others\" style=\"background-color: white\">; </span><span class=\"spark-nlp-display-entity-wrapper\" style=\"background-color: #88579C\"><span class=\"spark-nlp-display-entity-name\">3 </span><span class=\"spark-nlp-display-entity-type\">CARDINAL</span></span><span class=\"spark-nlp-display-others\" style=\"background-color: white\">; </span><span class=\"spark-nlp-display-entity-wrapper\" style=\"background-color: #88579C\"><span class=\"spark-nlp-display-entity-name\">2 </span><span class=\"spark-nlp-display-entity-type\">CARDINAL</span></span><span class=\"spark-nlp-display-others\" style=\"background-color: white\">; </span><span class=\"spark-nlp-display-entity-wrapper\" style=\"background-color: #88579C\"><span class=\"spark-nlp-display-entity-name\">8 </span><span class=\"spark-nlp-display-entity-type\">CARDINAL</span></span><span class=\"spark-nlp-display-others\" style=\"background-color: white\">; I; </span><span class=\"spark-nlp-display-entity-wrapper\" style=\"background-color: #88579C\"><span class=\"spark-nlp-display-entity-name\">2 </span><span class=\"spark-nlp-display-entity-type\">CARDINAL</span></span><span class=\"spark-nlp-display-others\" style=\"background-color: white\">; </span><span class=\"spark-nlp-display-entity-wrapper\" style=\"background-color: #88579C\"><span class=\"spark-nlp-display-entity-name\">3 </span><span class=\"spark-nlp-display-entity-type\">CARDINAL</span></span><span class=\"spark-nlp-display-others\" style=\"background-color: white\">; </span><span class=\"spark-nlp-display-entity-wrapper\" style=\"background-color: #88579C\"><span class=\"spark-nlp-display-entity-name\">4 </span><span class=\"spark-nlp-display-entity-type\">CARDINAL</span></span><span class=\"spark-nlp-display-others\" style=\"background-color: white\">; </span><span class=\"spark-nlp-display-entity-wrapper\" style=\"background-color: #88579C\"><span class=\"spark-nlp-display-entity-name\">5 </span><span class=\"spark-nlp-display-entity-type\">CARDINAL</span></span><span class=\"spark-nlp-display-others\" style=\"background-color: white\">; </span><span class=\"spark-nlp-display-entity-wrapper\" style=\"background-color: #88579C\"><span class=\"spark-nlp-display-entity-name\">6 </span><span class=\"spark-nlp-display-entity-type\">CARDINAL</span></span><span class=\"spark-nlp-display-others\" style=\"background-color: white\">; </span><span class=\"spark-nlp-display-entity-wrapper\" style=\"background-color: #88579C\"><span class=\"spark-nlp-display-entity-name\">7 </span><span class=\"spark-nlp-display-entity-type\">CARDINAL</span></span><span class=\"spark-nlp-display-others\" style=\"background-color: white\">; </span><span class=\"spark-nlp-display-entity-wrapper\" style=\"background-color: #88579C\"><span class=\"spark-nlp-display-entity-name\">8 </span><span class=\"spark-nlp-display-entity-type\">CARDINAL</span></span><span class=\"spark-nlp-display-others\" style=\"background-color: white\">; TYPE; TYPE; e; LOCATION; m; </span><span class=\"spark-nlp-display-entity-wrapper\" style=\"background-color: #88579C\"><span class=\"spark-nlp-display-entity-name\">0 </span><span class=\"spark-nlp-display-entity-type\">CARDINAL</span></span><span class=\"spark-nlp-display-others\" style=\"background-color: white\">; LOCATION; INSIDE LOOKING OUT; RIGHT; LOWER TEETH; LEFT; </span><span class=\"spark-nlp-display-entity-wrapper\" style=\"background-color: #88579C\"><span class=\"spark-nlp-display-entity-name\">16 </span><span class=\"spark-nlp-display-entity-type\">CARDINAL</span></span><span class=\"spark-nlp-display-others\" style=\"background-color: white\">; </span><span class=\"spark-nlp-display-entity-wrapper\" style=\"background-color: #88579C\"><span class=\"spark-nlp-display-entity-name\">15 </span><span class=\"spark-nlp-display-entity-type\">CARDINAL</span></span><span class=\"spark-nlp-display-others\" style=\"background-color: white\">; </span><span class=\"spark-nlp-display-entity-wrapper\" style=\"background-color: #88579C\"><span class=\"spark-nlp-display-entity-name\">14 </span><span class=\"spark-nlp-display-entity-type\">CARDINAL</span></span><span class=\"spark-nlp-display-others\" style=\"background-color: white\">; </span><span class=\"spark-nlp-display-entity-wrapper\" style=\"background-color: #88579C\"><span class=\"spark-nlp-display-entity-name\">13 </span><span class=\"spark-nlp-display-entity-type\">CARDINAL</span></span><span class=\"spark-nlp-display-others\" style=\"background-color: white\">; </span><span class=\"spark-nlp-display-entity-wrapper\" style=\"background-color: #88579C\"><span class=\"spark-nlp-display-entity-name\">12 </span><span class=\"spark-nlp-display-entity-type\">CARDINAL</span></span><span class=\"spark-nlp-display-others\" style=\"background-color: white\">; </span><span class=\"spark-nlp-display-entity-wrapper\" style=\"background-color: #88579C\"><span class=\"spark-nlp-display-entity-name\">II </span><span class=\"spark-nlp-display-entity-type\">CARDINAL</span></span><span class=\"spark-nlp-display-others\" style=\"background-color: white\">; </span><span class=\"spark-nlp-display-entity-wrapper\" style=\"background-color: #88579C\"><span class=\"spark-nlp-display-entity-name\">I0 </span><span class=\"spark-nlp-display-entity-type\">CARDINAL</span></span><span class=\"spark-nlp-display-others\" style=\"background-color: white\">; </span><span class=\"spark-nlp-display-entity-wrapper\" style=\"background-color: #88579C\"><span class=\"spark-nlp-display-entity-name\">9 </span><span class=\"spark-nlp-display-entity-type\">CARDINAL</span></span><span class=\"spark-nlp-display-others\" style=\"background-color: white\">; </span><span class=\"spark-nlp-display-entity-wrapper\" style=\"background-color: #88579C\"><span class=\"spark-nlp-display-entity-name\">9 </span><span class=\"spark-nlp-display-entity-type\">CARDINAL</span></span><span class=\"spark-nlp-display-others\" style=\"background-color: white\">; IO; </span><span class=\"spark-nlp-display-entity-wrapper\" style=\"background-color: #88579C\"><span class=\"spark-nlp-display-entity-name\">II </span><span class=\"spark-nlp-display-entity-type\">CARDINAL</span></span><span class=\"spark-nlp-display-others\" style=\"background-color: white\">; </span><span class=\"spark-nlp-display-entity-wrapper\" style=\"background-color: #88579C\"><span class=\"spark-nlp-display-entity-name\">12 </span><span class=\"spark-nlp-display-entity-type\">CARDINAL</span></span><span class=\"spark-nlp-display-others\" style=\"background-color: white\">; </span><span class=\"spark-nlp-display-entity-wrapper\" style=\"background-color: #88579C\"><span class=\"spark-nlp-display-entity-name\">13 </span><span class=\"spark-nlp-display-entity-type\">CARDINAL</span></span><span class=\"spark-nlp-display-others\" style=\"background-color: white\">; </span><span class=\"spark-nlp-display-entity-wrapper\" style=\"background-color: #88579C\"><span class=\"spark-nlp-display-entity-name\">14 </span><span class=\"spark-nlp-display-entity-type\">CARDINAL</span></span><span class=\"spark-nlp-display-others\" style=\"background-color: white\">; </span><span class=\"spark-nlp-display-entity-wrapper\" style=\"background-color: #88579C\"><span class=\"spark-nlp-display-entity-name\">15 </span><span class=\"spark-nlp-display-entity-type\">CARDINAL</span></span><span class=\"spark-nlp-display-others\" style=\"background-color: white\">; </span><span class=\"spark-nlp-display-entity-wrapper\" style=\"background-color: #88579C\"><span class=\"spark-nlp-display-entity-name\">16 </span><span class=\"spark-nlp-display-entity-type\">CARDINAL</span></span><span class=\"spark-nlp-display-others\" style=\"background-color: white\">; TYPE; TYPE; LOCATION; D; </span><span class=\"spark-nlp-display-entity-wrapper\" style=\"background-color: #88579C\"><span class=\"spark-nlp-display-entity-name\">0 </span><span class=\"spark-nlp-display-entity-type\">CARDINAL</span></span><span class=\"spark-nlp-display-others\" style=\"background-color: white\">; </span><span class=\"spark-nlp-display-entity-wrapper\" style=\"background-color: #88579C\"><span class=\"spark-nlp-display-entity-name\">0 </span><span class=\"spark-nlp-display-entity-type\">CARDINAL</span></span><span class=\"spark-nlp-display-others\" style=\"background-color: white\">; LOCATION; KEY OF SYMBOLS TO BE USED ON ABOVE CHART; SYMBOLS; TYPE OF FILLING; LOCATION OF FILLING; IN; IN; IN; WHOLE BOX; UPPER </span><span class=\"spark-nlp-display-entity-wrapper\" style=\"background-color: #88579C\"><span class=\"spark-nlp-display-entity-name\">HALF </span><span class=\"spark-nlp-display-entity-type\">CARDINAL</span></span><span class=\"spark-nlp-display-others\" style=\"background-color: white\"> OF BOX; LOWER </span><span class=\"spark-nlp-display-entity-wrapper\" style=\"background-color: #88579C\"><span class=\"spark-nlp-display-entity-name\">HALF </span><span class=\"spark-nlp-display-entity-type\">CARDINAL</span></span><span class=\"spark-nlp-display-others\" style=\"background-color: white\"> OFBOX; A; AMALGAM; MESIAL; EXTRACTED; (SILVER); m; (BETWEENTOWAR FRONT); CAVITY. INDICATE; G; OCCLUSAL; GOLD; LOCATION; </span><span class=\"spark-nlp-display-entity-wrapper\" style=\"background-color: #88579C\"><span class=\"spark-nlp-display-entity-name\">0 </span><span class=\"spark-nlp-display-entity-type\">CARDINAL</span></span><span class=\"spark-nlp-display-others\" style=\"background-color: white\">; (BITINO SURFACE BACK TEETH); FIXED BRIDGE; S; SILICATE OR; DISTAL; UINCL. ABUTMENTS); PORCELAIN; d; (BETWEEN TOWARD BACK; TEETH REPLACED; O; OXYPHOSPATE; </span><span class=\"spark-nlp-display-entity-wrapper\" style=\"background-color: #88579C\"><span class=\"spark-nlp-display-entity-name\">LINGUAL </span><span class=\"spark-nlp-display-entity-type\">CARDINAL</span></span><span class=\"spark-nlp-display-others\" style=\"background-color: white\">; BY DENTURE; (CEMENT); </span><span class=\"spark-nlp-display-entity-wrapper\" style=\"background-color: #88579C\"><span class=\"spark-nlp-display-entity-name\">1 </span><span class=\"spark-nlp-display-entity-type\">CARDINAL</span></span><span class=\"spark-nlp-display-others\" style=\"background-color: white\">; (TOWARD TONGUE); POSTHUMOUSLY MSSING; FACIAL; (LOST AFTER DEATH); F; (TOWARD CHEEK); QNC FORM </span><span class=\"spark-nlp-display-entity-wrapper\" style=\"background-color: #88579C\"><span class=\"spark-nlp-display-entity-name\">1045 </span><span class=\"spark-nlp-display-entity-type\">CARDINAL</span></span><span class=\"spark-nlp-display-others\" style=\"background-color: white\">; </span><span class=\"spark-nlp-display-entity-wrapper\" style=\"background-color: #88579C\"><span class=\"spark-nlp-display-entity-name\">5 FEB 46 </span><span class=\"spark-nlp-display-entity-type\">CARDINAL</span></span><span class=\"spark-nlp-display-others\" style=\"background-color: white\">; REVERSE SIDE FOR INSTRUCTIONS; INSTRUCTIONS:; L. ACCURACY AND ATTENTION TO DETAIL IN THE PREPARATION OF THIS CHART ARS OF PARAMOUNT; IMPORTANCE; IF SAME IS TO BE OF MAXIMUM VALUE.; </span><span class=\"spark-nlp-display-entity-wrapper\" style=\"background-color: #88579C\"><span class=\"spark-nlp-display-entity-name\">2 </span><span class=\"spark-nlp-display-entity-type\">CARDINAL</span></span><span class=\"spark-nlp-display-others\" style=\"background-color: white\">. NOTE CAREFULLY THAT: SYMBOLS INDICATING MISSING TEETH; CAVITIES AND BRIDGEWOR ARE; TO BE INSERTED IN WHOLE BOX; SYMBOLS INDICATING TYPE OF FILLING ARE TO BE INSERTED IN; UPPER </span><span class=\"spark-nlp-display-entity-wrapper\" style=\"background-color: #88579C\"><span class=\"spark-nlp-display-entity-name\">HALF </span><span class=\"spark-nlp-display-entity-type\">CARDINAL</span></span><span class=\"spark-nlp-display-others\" style=\"background-color: white\"> OF BOX; AND SYMBOLS INDICATING LOGATION QF FILLING ARE TO BE INSERTED; IN LOWER </span><span class=\"spark-nlp-display-entity-wrapper\" style=\"background-color: #88579C\"><span class=\"spark-nlp-display-entity-name\">HALF </span><span class=\"spark-nlp-display-entity-type\">CARDINAL</span></span><span class=\"spark-nlp-display-others\" style=\"background-color: white\"> OF BOX.; </span><span class=\"spark-nlp-display-entity-wrapper\" style=\"background-color: #88579C\"><span class=\"spark-nlp-display-entity-name\">3 </span><span class=\"spark-nlp-display-entity-type\">CARDINAL</span></span><span class=\"spark-nlp-display-others\" style=\"background-color: white\">. ANY ABNORMALITIES SUCH AS MALPOSED; MALFORMED OR DISCQLORED TEETH; ETC. SHOULD; BE NOTED. DENTAL WORK NOT COVERED ABOVE WILL BE INDICATED; eg; PORCELAIN CROWNS; GOLD; CROWNS (FULL OR </span><span class=\"spark-nlp-display-entity-wrapper\" style=\"background-color: #88579C\"><span class=\"spark-nlp-display-entity-name\">3/4 </span><span class=\"spark-nlp-display-entity-type\">CARDINAL</span></span><span class=\"spark-nlp-display-others\" style=\"background-color: white\">); </span><span class=\"spark-nlp-display-entity-wrapper\" style=\"background-color: #88579C\"><span class=\"spark-nlp-display-entity-name\">3/4 </span><span class=\"spark-nlp-display-entity-type\">CARDINAL</span></span><span class=\"spark-nlp-display-others\" style=\"background-color: white\"> GOLD CROWN WITH SILICATE WINDOW.; </span><span class=\"spark-nlp-display-entity-wrapper\" style=\"background-color: #88579C\"><span class=\"spark-nlp-display-entity-name\">4 </span><span class=\"spark-nlp-display-entity-type\">CARDINAL</span></span><span class=\"spark-nlp-display-others\" style=\"background-color: white\">. FOR INFORMATION OF STANDARD NUMBERING OF TEETH; SEE DIAGRAM BELOW.; </span><span class=\"spark-nlp-display-entity-wrapper\" style=\"background-color: #88579C\"><span class=\"spark-nlp-display-entity-name\">2 </span><span class=\"spark-nlp-display-entity-type\">CARDINAL</span></span><span class=\"spark-nlp-display-others\" style=\"background-color: white\">; I; </span><span class=\"spark-nlp-display-entity-wrapper\" style=\"background-color: #88579C\"><span class=\"spark-nlp-display-entity-name\">8 </span><span class=\"spark-nlp-display-entity-type\">CARDINAL</span></span><span class=\"spark-nlp-display-others\" style=\"background-color: white\">; </span><span class=\"spark-nlp-display-entity-wrapper\" style=\"background-color: #88579C\"><span class=\"spark-nlp-display-entity-name\">2 </span><span class=\"spark-nlp-display-entity-type\">CARDINAL</span></span><span class=\"spark-nlp-display-others\" style=\"background-color: white\">; </span><span class=\"spark-nlp-display-entity-wrapper\" style=\"background-color: #88579C\"><span class=\"spark-nlp-display-entity-name\">3 </span><span class=\"spark-nlp-display-entity-type\">CARDINAL</span></span><span class=\"spark-nlp-display-others\" style=\"background-color: white\">; </span><span class=\"spark-nlp-display-entity-wrapper\" style=\"background-color: #88579C\"><span class=\"spark-nlp-display-entity-name\">3 </span><span class=\"spark-nlp-display-entity-type\">CARDINAL</span></span><span class=\"spark-nlp-display-others\" style=\"background-color: white\">; RIGHT; </span><span class=\"spark-nlp-display-entity-wrapper\" style=\"background-color: #88579C\"><span class=\"spark-nlp-display-entity-name\">4 </span><span class=\"spark-nlp-display-entity-type\">CARDINAL</span></span><span class=\"spark-nlp-display-others\" style=\"background-color: white\">; </span><span class=\"spark-nlp-display-entity-wrapper\" style=\"background-color: #88579C\"><span class=\"spark-nlp-display-entity-name\">4 </span><span class=\"spark-nlp-display-entity-type\">CARDINAL</span></span><span class=\"spark-nlp-display-others\" style=\"background-color: white\">; LEFT; </span><span class=\"spark-nlp-display-entity-wrapper\" style=\"background-color: #88579C\"><span class=\"spark-nlp-display-entity-name\">5 </span><span class=\"spark-nlp-display-entity-type\">CARDINAL</span></span><span class=\"spark-nlp-display-others\" style=\"background-color: white\">; </span><span class=\"spark-nlp-display-entity-wrapper\" style=\"background-color: #88579C\"><span class=\"spark-nlp-display-entity-name\">5 </span><span class=\"spark-nlp-display-entity-type\">CARDINAL</span></span><span class=\"spark-nlp-display-others\" style=\"background-color: white\">; </span><span class=\"spark-nlp-display-entity-wrapper\" style=\"background-color: #88579C\"><span class=\"spark-nlp-display-entity-name\">6 </span><span class=\"spark-nlp-display-entity-type\">CARDINAL</span></span><span class=\"spark-nlp-display-others\" style=\"background-color: white\">; </span><span class=\"spark-nlp-display-entity-wrapper\" style=\"background-color: #88579C\"><span class=\"spark-nlp-display-entity-name\">6 </span><span class=\"spark-nlp-display-entity-type\">CARDINAL</span></span><span class=\"spark-nlp-display-others\" style=\"background-color: white\">; UPPER; </span><span class=\"spark-nlp-display-entity-wrapper\" style=\"background-color: #88579C\"><span class=\"spark-nlp-display-entity-name\">7 </span><span class=\"spark-nlp-display-entity-type\">CARDINAL</span></span><span class=\"spark-nlp-display-others\" style=\"background-color: white\">; </span><span class=\"spark-nlp-display-entity-wrapper\" style=\"background-color: #88579C\"><span class=\"spark-nlp-display-entity-name\">7 </span><span class=\"spark-nlp-display-entity-type\">CARDINAL</span></span><span class=\"spark-nlp-display-others\" style=\"background-color: white\">; </span><span class=\"spark-nlp-display-entity-wrapper\" style=\"background-color: #88579C\"><span class=\"spark-nlp-display-entity-name\">8 </span><span class=\"spark-nlp-display-entity-type\">CARDINAL</span></span><span class=\"spark-nlp-display-others\" style=\"background-color: white\">; </span><span class=\"spark-nlp-display-entity-wrapper\" style=\"background-color: #88579C\"><span class=\"spark-nlp-display-entity-name\">8 </span><span class=\"spark-nlp-display-entity-type\">CARDINAL</span></span><span class=\"spark-nlp-display-others\" style=\"background-color: white\">; W; DIAGRAM REPRESENTS THE MOUTH WIDE OPEN; </span><span class=\"spark-nlp-display-entity-wrapper\" style=\"background-color: #88579C\"><span class=\"spark-nlp-display-entity-name\">16 </span><span class=\"spark-nlp-display-entity-type\">CARDINAL</span></span><span class=\"spark-nlp-display-others\" style=\"background-color: white\">; </span><span class=\"spark-nlp-display-entity-wrapper\" style=\"background-color: #88579C\"><span class=\"spark-nlp-display-entity-name\">16 </span><span class=\"spark-nlp-display-entity-type\">CARDINAL</span></span><span class=\"spark-nlp-display-others\" style=\"background-color: white\">; </span><span class=\"spark-nlp-display-entity-wrapper\" style=\"background-color: #88579C\"><span class=\"spark-nlp-display-entity-name\">15 </span><span class=\"spark-nlp-display-entity-type\">CARDINAL</span></span><span class=\"spark-nlp-display-others\" style=\"background-color: white\">; LOWER; </span><span class=\"spark-nlp-display-entity-wrapper\" style=\"background-color: #88579C\"><span class=\"spark-nlp-display-entity-name\">15 </span><span class=\"spark-nlp-display-entity-type\">CARDINAL</span></span><span class=\"spark-nlp-display-others\" style=\"background-color: white\">; </span><span class=\"spark-nlp-display-entity-wrapper\" style=\"background-color: #88579C\"><span class=\"spark-nlp-display-entity-name\">14 </span><span class=\"spark-nlp-display-entity-type\">CARDINAL</span></span><span class=\"spark-nlp-display-others\" style=\"background-color: white\">; </span><span class=\"spark-nlp-display-entity-wrapper\" style=\"background-color: #88579C\"><span class=\"spark-nlp-display-entity-name\">14 </span><span class=\"spark-nlp-display-entity-type\">CARDINAL</span></span><span class=\"spark-nlp-display-others\" style=\"background-color: white\">; RIGHT; </span><span class=\"spark-nlp-display-entity-wrapper\" style=\"background-color: #88579C\"><span class=\"spark-nlp-display-entity-name\">13 </span><span class=\"spark-nlp-display-entity-type\">CARDINAL</span></span><span class=\"spark-nlp-display-others\" style=\"background-color: white\">; </span><span class=\"spark-nlp-display-entity-wrapper\" style=\"background-color: #88579C\"><span class=\"spark-nlp-display-entity-name\">13 </span><span class=\"spark-nlp-display-entity-type\">CARDINAL</span></span><span class=\"spark-nlp-display-others\" style=\"background-color: white\">; LEFT; </span><span class=\"spark-nlp-display-entity-wrapper\" style=\"background-color: #88579C\"><span class=\"spark-nlp-display-entity-name\">12 </span><span class=\"spark-nlp-display-entity-type\">CARDINAL</span></span><span class=\"spark-nlp-display-others\" style=\"background-color: white\">; </span><span class=\"spark-nlp-display-entity-wrapper\" style=\"background-color: #88579C\"><span class=\"spark-nlp-display-entity-name\">00O </span><span class=\"spark-nlp-display-entity-type\">CARDINAL</span></span><span class=\"spark-nlp-display-others\" style=\"background-color: white\">; </span><span class=\"spark-nlp-display-entity-wrapper\" style=\"background-color: #88579C\"><span class=\"spark-nlp-display-entity-name\">12 </span><span class=\"spark-nlp-display-entity-type\">CARDINAL</span></span><span class=\"spark-nlp-display-others\" style=\"background-color: white\">; 0000; II; IO </span><span class=\"spark-nlp-display-entity-wrapper\" style=\"background-color: #88579C\"><span class=\"spark-nlp-display-entity-name\">9 9 </span><span class=\"spark-nlp-display-entity-type\">CARDINAL</span></span><span class=\"spark-nlp-display-others\" style=\"background-color: white\"> IO; </span><span class=\"spark-nlp-display-entity-wrapper\" style=\"background-color: #88579C\"><span class=\"spark-nlp-display-entity-name\">11 </span><span class=\"spark-nlp-display-entity-type\">CARDINAL</span></span><span class=\"spark-nlp-display-others\" style=\"background-color: white\">; </span><span class=\"spark-nlp-display-entity-wrapper\" style=\"background-color: #766EAF\"><span class=\"spark-nlp-display-entity-name\">REMARKS </span><span class=\"spark-nlp-display-entity-type\">PERSON</span></span><span class=\"spark-nlp-display-others\" style=\"background-color: white\">:; s/ </span><span class=\"spark-nlp-display-entity-wrapper\" style=\"background-color: #766EAF\"><span class=\"spark-nlp-display-entity-name\">John H </span><span class=\"spark-nlp-display-entity-type\">PERSON</span></span><span class=\"spark-nlp-display-others\" style=\"background-color: white\">. </span><span class=\"spark-nlp-display-entity-wrapper\" style=\"background-color: #766EAF\"><span class=\"spark-nlp-display-entity-name\">Bennett Jr </span><span class=\"spark-nlp-display-entity-type\">PERSON</span></span><span class=\"spark-nlp-display-others\" style=\"background-color: white\">.; SIGNATURE OF PERSON WHO PREPARED CHART; VERIFIED BY </span><span class=\"spark-nlp-display-entity-wrapper\" style=\"background-color: #A36314\"><span class=\"spark-nlp-display-entity-name\">GRS </span><span class=\"spark-nlp-display-entity-type\">ORG</span></span><span class=\"spark-nlp-display-others\" style=\"background-color: white\"> OFFICER; D/ JOHNN H. </span><span class=\"spark-nlp-display-entity-wrapper\" style=\"background-color: #766EAF\"><span class=\"spark-nlp-display-entity-name\">BENNETT JR </span><span class=\"spark-nlp-display-entity-type\">PERSON</span></span><span class=\"spark-nlp-display-others\" style=\"background-color: white\">.; NAME AND RANK TYPED OR PRINTED; NAME AND RANK TYPED OR PRINTED; </span><span class=\"spark-nlp-display-entity-wrapper\" style=\"background-color: #88579C\"><span class=\"spark-nlp-display-entity-name\">12/5/47 </span><span class=\"spark-nlp-display-entity-type\">CARDINAL</span></span><span class=\"spark-nlp-display-others\" style=\"background-color: white\">; PLACE OR HQ. WHERE THIS FORM ACCOMPLISHED; DATE; 0-PHILRYCOM </span><span class=\"spark-nlp-display-entity-wrapper\" style=\"background-color: #88579C\"><span class=\"spark-nlp-display-entity-name\">4/47-30M </span><span class=\"spark-nlp-display-entity-type\">CARDINAL</span></span><span class=\"spark-nlp-display-others\" style=\"background-color: white\">; CERTIFIED TRUE COPY:; S. PANOPIO; </span><span class=\"spark-nlp-display-entity-wrapper\" style=\"background-color: #5A7DA8\"><span class=\"spark-nlp-display-entity-name\">2nd </span><span class=\"spark-nlp-display-entity-type\">ORDINAL</span></span><span class=\"spark-nlp-display-others\" style=\"background-color: white\"> Lt; INF; hella; ieuti; ; </span><span class=\"spark-nlp-display-entity-wrapper\" style=\"background-color: #88579C\"><span class=\"spark-nlp-display-entity-name\">666458 </span><span class=\"spark-nlp-display-entity-type\">CARDINAL</span></span><span class=\"spark-nlp-display-others\" style=\"background-color: white\">; </span><span class=\"spark-nlp-display-entity-wrapper\" style=\"background-color: #A36314\"><span class=\"spark-nlp-display-entity-name\">ASN </span><span class=\"spark-nlp-display-entity-type\">ORG</span></span><span class=\"spark-nlp-display-others\" style=\"background-color: white\">; te t; COUNTRY; </span><span class=\"spark-nlp-display-entity-wrapper\" style=\"background-color: #A125C6\"><span class=\"spark-nlp-display-entity-name\">The Burial Report </span><span class=\"spark-nlp-display-entity-type\">WORK_OF_ART</span></span><span class=\"spark-nlp-display-others\" style=\"background-color: white\"> for above Individual is in the New Cemetery File; ; ROOm </span><span class=\"spark-nlp-display-entity-wrapper\" style=\"background-color: #88579C\"><span class=\"spark-nlp-display-entity-name\">1200 </span><span class=\"spark-nlp-display-entity-type\">CARDINAL</span></span><span class=\"spark-nlp-display-others\" style=\"background-color: white\">; </span><span class=\"spark-nlp-display-entity-wrapper\" style=\"background-color: #A36314\"><span class=\"spark-nlp-display-entity-name\">Bldg. Co </span><span class=\"spark-nlp-display-entity-type\">ORG</span></span><span class=\"spark-nlp-display-others\" style=\"background-color: white\">; </span><span class=\"spark-nlp-display-entity-wrapper\" style=\"background-color: #A125C6\"><span class=\"spark-nlp-display-entity-name\">Pile </span><span class=\"spark-nlp-display-entity-type\">WORK_OF_ART</span></span><span class=\"spark-nlp-display-others\" style=\"background-color: white\">; </span><span class=\"spark-nlp-display-entity-wrapper\" style=\"background-color: #88579C\"><span class=\"spark-nlp-display-entity-name\">19/11/95 </span><span class=\"spark-nlp-display-entity-type\">CARDINAL</span></span><span class=\"spark-nlp-display-others\" style=\"background-color: white\">; </span><span class=\"spark-nlp-display-entity-wrapper\" style=\"background-color: #A36314\"><span class=\"spark-nlp-display-entity-name\">JoR.S </span><span class=\"spark-nlp-display-entity-type\">ORG</span></span><span class=\"spark-nlp-display-others\" style=\"background-color: white\">.; ibu; hjt; RESTRICTED; </span><span class=\"spark-nlp-display-entity-wrapper\" style=\"background-color: #A36314\"><span class=\"spark-nlp-display-entity-name\">OMC Form </span><span class=\"spark-nlp-display-entity-type\">ORG</span></span><span class=\"spark-nlp-display-others\" style=\"background-color: white\">; </span><span class=\"spark-nlp-display-entity-wrapper\" style=\"background-color: #A36314\"><span class=\"spark-nlp-display-entity-name\">REPORT </span><span class=\"spark-nlp-display-entity-type\">ORG</span></span><span class=\"spark-nlp-display-others\" style=\"background-color: white\"> OF INTERMENT; A </span><span class=\"spark-nlp-display-entity-wrapper\" style=\"background-color: #88579C\"><span class=\"spark-nlp-display-entity-name\">605 </span><span class=\"spark-nlp-display-entity-type\">CARDINAL</span></span><span class=\"spark-nlp-display-others\" style=\"background-color: white\">; No. IGRS; (To be submitted through channels to the Quartermaster General; </span><span class=\"spark-nlp-display-entity-wrapper\" style=\"background-color: #2927AE\"><span class=\"spark-nlp-display-entity-name\">Washington </span><span class=\"spark-nlp-display-entity-type\">GPE</span></span><span class=\"spark-nlp-display-others\" style=\"background-color: white\">; </span><span class=\"spark-nlp-display-entity-wrapper\" style=\"background-color: #2927AE\"><span class=\"spark-nlp-display-entity-name\">D.C </span><span class=\"spark-nlp-display-entity-type\">GPE</span></span><span class=\"spark-nlp-display-others\" style=\"background-color: white\">.); (Par </span><span class=\"spark-nlp-display-entity-wrapper\" style=\"background-color: #7E0B72\"><span class=\"spark-nlp-display-entity-name\">21d </span><span class=\"spark-nlp-display-entity-type\">MONEY</span></span><span class=\"spark-nlp-display-others\" style=\"background-color: white\"> TM 10-630); ABELIA; ; </span><span class=\"spark-nlp-display-entity-wrapper\" style=\"background-color: #766EAF\"><span class=\"spark-nlp-display-entity-name\">Nicanor F </span><span class=\"spark-nlp-display-entity-type\">PERSON</span></span><span class=\"spark-nlp-display-others\" style=\"background-color: white\">; </span><span class=\"spark-nlp-display-entity-wrapper\" style=\"background-color: #88579C\"><span class=\"spark-nlp-display-entity-name\">066458 </span><span class=\"spark-nlp-display-entity-type\">CARDINAL</span></span><span class=\"spark-nlp-display-others\" style=\"background-color: white\">; </span><span class=\"spark-nlp-display-entity-wrapper\" style=\"background-color: #A36314\"><span class=\"spark-nlp-display-entity-name\">Pfc </span><span class=\"spark-nlp-display-entity-type\">ORG</span></span><span class=\"spark-nlp-display-others\" style=\"background-color: white\">; Co D; lst </span><span class=\"spark-nlp-display-entity-wrapper\" style=\"background-color: #A36314\"><span class=\"spark-nlp-display-entity-name\">Fil FilRepl.Br Bn </span><span class=\"spark-nlp-display-entity-type\">ORG</span></span><span class=\"spark-nlp-display-others\" style=\"background-color: white\">; </span><span class=\"spark-nlp-display-entity-wrapper\" style=\"background-color: #766EAF\"><span class=\"spark-nlp-display-entity-name\">Lasf Name </span><span class=\"spark-nlp-display-entity-type\">PERSON</span></span><span class=\"spark-nlp-display-others\" style=\"background-color: white\">); (</span><span class=\"spark-nlp-display-entity-wrapper\" style=\"background-color: #5A7DA8\"><span class=\"spark-nlp-display-entity-name\">First </span><span class=\"spark-nlp-display-entity-type\">ORDINAL</span></span><span class=\"spark-nlp-display-others\" style=\"background-color: white\">); initial); (Serial No.); (Rank); (Organization); </span><span class=\"spark-nlp-display-entity-wrapper\" style=\"background-color: #766EAF\"><span class=\"spark-nlp-display-entity-name\">Telegrafo </span><span class=\"spark-nlp-display-entity-type\">PERSON</span></span><span class=\"spark-nlp-display-others\" style=\"background-color: white\">; Leyte; P.I.; Ll8th Gen Hosp.; </span><span class=\"spark-nlp-display-entity-wrapper\" style=\"background-color: #a6b1e1\"><span class=\"spark-nlp-display-entity-name\">26 Sept 45 </span><span class=\"spark-nlp-display-entity-type\">DATE</span></span><span class=\"spark-nlp-display-others\" style=\"background-color: white\">; Tuberculosis; </span><span class=\"spark-nlp-display-entity-wrapper\" style=\"background-color: #766EAF\"><span class=\"spark-nlp-display-entity-name\">Pul </span><span class=\"spark-nlp-display-entity-type\">PERSON</span></span><span class=\"spark-nlp-display-others\" style=\"background-color: white\">.; (Place of Death); (Date of Death); (Cause of Death); </span><span class=\"spark-nlp-display-entity-wrapper\" style=\"background-color: #88579C\"><span class=\"spark-nlp-display-entity-name\">1400 </span><span class=\"spark-nlp-display-entity-type\">CARDINAL</span></span><span class=\"spark-nlp-display-others\" style=\"background-color: white\">; </span><span class=\"spark-nlp-display-entity-wrapper\" style=\"background-color: #1C906C\"><span class=\"spark-nlp-display-entity-name\">hrs 27 Sept 45 </span><span class=\"spark-nlp-display-entity-type\">TIME</span></span><span class=\"spark-nlp-display-others\" style=\"background-color: white\">; (</span><span class=\"spark-nlp-display-entity-wrapper\" style=\"background-color: #A36314\"><span class=\"spark-nlp-display-entity-name\">PAFS </span><span class=\"spark-nlp-display-entity-type\">ORG</span></span><span class=\"spark-nlp-display-others\" style=\"background-color: white\">) </span><span class=\"spark-nlp-display-entity-wrapper\" style=\"background-color: #A36314\"><span class=\"spark-nlp-display-entity-name\">USAF </span><span class=\"spark-nlp-display-entity-type\">ORG</span></span><span class=\"spark-nlp-display-others\" style=\"background-color: white\"> Cemetery; </span><span class=\"spark-nlp-display-entity-wrapper\" style=\"background-color: #746DB6\"><span class=\"spark-nlp-display-entity-name\">Leyte fl </span><span class=\"spark-nlp-display-entity-type\">LOC</span></span><span class=\"spark-nlp-display-others\" style=\"background-color: white\">; P.I.; (Time and Date of Burial); (Place of Burial Name and No. of Cemetery if in a cemetery); Buried with body; </span><span class=\"spark-nlp-display-entity-wrapper\" style=\"background-color: #88579C\"><span class=\"spark-nlp-display-entity-name\">75 </span><span class=\"spark-nlp-display-entity-type\">CARDINAL</span></span><span class=\"spark-nlp-display-others\" style=\"background-color: white\">; Reg Cross; Attached to marker; (Grave No.); (Row No.); (Plot No.); (Kind Grave Marker); (ldentification Tags); </span><span class=\"spark-nlp-display-entity-wrapper\" style=\"background-color: #A9456A\"><span class=\"spark-nlp-display-entity-name\">Protestant </span><span class=\"spark-nlp-display-entity-type\">NORP</span></span><span class=\"spark-nlp-display-others\" style=\"background-color: white\">; Identified by hospital records; </span><span class=\"spark-nlp-display-entity-wrapper\" style=\"background-color: #A9456A\"><span class=\"spark-nlp-display-entity-name\">Catholic </span><span class=\"spark-nlp-display-entity-type\">NORP</span></span><span class=\"spark-nlp-display-others\" style=\"background-color: white\">; Metal tag buried with body and attached to CTOSS; </span><span class=\"spark-nlp-display-entity-wrapper\" style=\"background-color: #1B3A22\"><span class=\"spark-nlp-display-entity-name\">Hebrew </span><span class=\"spark-nlp-display-entity-type\">LANGUAGE</span></span><span class=\"spark-nlp-display-others\" style=\"background-color: white\">; Other pertinent data to enable grave to be located.; (Where necessary sketch to locate grave should be furnished); </span><span class=\"spark-nlp-display-entity-wrapper\" style=\"background-color: #766EAF\"><span class=\"spark-nlp-display-entity-name\">Mrs </span><span class=\"spark-nlp-display-entity-type\">PERSON</span></span><span class=\"spark-nlp-display-others\" style=\"background-color: white\">. </span><span class=\"spark-nlp-display-entity-wrapper\" style=\"background-color: #766EAF\"><span class=\"spark-nlp-display-entity-name\">Francisea Pajado </span><span class=\"spark-nlp-display-entity-type\">PERSON</span></span><span class=\"spark-nlp-display-others\" style=\"background-color: white\"> (M) </span><span class=\"spark-nlp-display-entity-wrapper\" style=\"background-color: #2927AE\"><span class=\"spark-nlp-display-entity-name\">Maasin </span><span class=\"spark-nlp-display-entity-type\">GPE</span></span><span class=\"spark-nlp-display-others\" style=\"background-color: white\">; </span><span class=\"spark-nlp-display-entity-wrapper\" style=\"background-color: #2927AE\"><span class=\"spark-nlp-display-entity-name\">Iloilo </span><span class=\"spark-nlp-display-entity-type\">GPE</span></span><span class=\"spark-nlp-display-others\" style=\"background-color: white\">; </span><span class=\"spark-nlp-display-entity-wrapper\" style=\"background-color: #A9456A\"><span class=\"spark-nlp-display-entity-name\">P.I </span><span class=\"spark-nlp-display-entity-type\">NORP</span></span><span class=\"spark-nlp-display-others\" style=\"background-color: white\">.; (Name and address of Emergency Addressee); (Name and address of lega next of kin); (</span><span class=\"spark-nlp-display-entity-wrapper\" style=\"background-color: #88579C\"><span class=\"spark-nlp-display-entity-name\">7 </span><span class=\"spark-nlp-display-entity-type\">CARDINAL</span></span><span class=\"spark-nlp-display-others\" style=\"background-color: white\">); Fingerprints (right hand) (Required if right hand whr missing ositive furnish identity prints cannot of left otherwise hand. be establinbi d) (Par. </span><span class=\"spark-nlp-display-entity-wrapper\" style=\"background-color: #88579C\"><span class=\"spark-nlp-display-entity-name\">25e </span><span class=\"spark-nlp-display-entity-type\">CARDINAL</span></span><span class=\"spark-nlp-display-others\" style=\"background-color: white\"> (</span><span class=\"spark-nlp-display-entity-wrapper\" style=\"background-color: #88579C\"><span class=\"spark-nlp-display-entity-name\">2 </span><span class=\"spark-nlp-display-entity-type\">CARDINAL</span></span><span class=\"spark-nlp-display-others\" style=\"background-color: white\">); </span><span class=\"spark-nlp-display-entity-wrapper\" style=\"background-color: #88579C\"><span class=\"spark-nlp-display-entity-name\">TM 10-630 </span><span class=\"spark-nlp-display-entity-type\">CARDINAL</span></span><span class=\"spark-nlp-display-others\" style=\"background-color: white\">); Place X mark; below when; prints are of; left hand; </span><span class=\"spark-nlp-display-entity-wrapper\" style=\"background-color: #88579C\"><span class=\"spark-nlp-display-entity-name\">3 </span><span class=\"spark-nlp-display-entity-type\">CARDINAL</span></span><span class=\"spark-nlp-display-others\" style=\"background-color: white\">; </span><span class=\"spark-nlp-display-entity-wrapper\" style=\"background-color: #A9456A\"><span class=\"spark-nlp-display-entity-name\">Thumb </span><span class=\"spark-nlp-display-entity-type\">NORP</span></span><span class=\"spark-nlp-display-others\" style=\"background-color: white\">; I; </span><span class=\"spark-nlp-display-entity-wrapper\" style=\"background-color: #88579C\"><span class=\"spark-nlp-display-entity-name\">2 </span><span class=\"spark-nlp-display-entity-type\">CARDINAL</span></span><span class=\"spark-nlp-display-others\" style=\"background-color: white\">; </span><span class=\"spark-nlp-display-entity-wrapper\" style=\"background-color: #88579C\"><span class=\"spark-nlp-display-entity-name\">3 </span><span class=\"spark-nlp-display-entity-type\">CARDINAL</span></span><span class=\"spark-nlp-display-others\" style=\"background-color: white\">; </span><span class=\"spark-nlp-display-entity-wrapper\" style=\"background-color: #88579C\"><span class=\"spark-nlp-display-entity-name\">4 </span><span class=\"spark-nlp-display-entity-type\">CARDINAL</span></span><span class=\"spark-nlp-display-others\" style=\"background-color: white\">; List of personal effecfs and disposition of same; NONE; (Name; rank; serial number; organization; grave numbers of bodies buried on either side):; On </span><span class=\"spark-nlp-display-entity-wrapper\" style=\"background-color: #A125C6\"><span class=\"spark-nlp-display-entity-name\">Right; On LeftLANZA Gavino </span><span class=\"spark-nlp-display-entity-type\">WORK_OF_ART</span></span><span class=\"spark-nlp-display-others\" style=\"background-color: white\">; </span><span class=\"spark-nlp-display-entity-wrapper\" style=\"background-color: #88579C\"><span class=\"spark-nlp-display-entity-name\">067403 </span><span class=\"spark-nlp-display-entity-type\">CARDINAL</span></span><span class=\"spark-nlp-display-others\" style=\"background-color: white\">; Pvt; </span><span class=\"spark-nlp-display-entity-wrapper\" style=\"background-color: #A36314\"><span class=\"spark-nlp-display-entity-name\">Co C </span><span class=\"spark-nlp-display-entity-type\">ORG</span></span><span class=\"spark-nlp-display-others\" style=\"background-color: white\">; </span><span class=\"spark-nlp-display-entity-wrapper\" style=\"background-color: #88579C\"><span class=\"spark-nlp-display-entity-name\">41 </span><span class=\"spark-nlp-display-entity-type\">CARDINAL</span></span><span class=\"spark-nlp-display-others\" style=\"background-color: white\"> </span><span class=\"spark-nlp-display-entity-wrapper\" style=\"background-color: #A36314\"><span class=\"spark-nlp-display-entity-name\">Phil Inf </span><span class=\"spark-nlp-display-entity-type\">ORG</span></span><span class=\"spark-nlp-display-others\" style=\"background-color: white\">; </span><span class=\"spark-nlp-display-entity-wrapper\" style=\"background-color: #88579C\"><span class=\"spark-nlp-display-entity-name\">74 </span><span class=\"spark-nlp-display-entity-type\">CARDINAL</span></span><span class=\"spark-nlp-display-others\" style=\"background-color: white\">; </span><span class=\"spark-nlp-display-entity-wrapper\" style=\"background-color: #88579C\"><span class=\"spark-nlp-display-entity-name\">shuLw </span><span class=\"spark-nlp-display-entity-type\">CARDINAL</span></span><span class=\"spark-nlp-display-others\" style=\"background-color: white\"> e. obtrig; </span><span class=\"spark-nlp-display-entity-wrapper\" style=\"background-color: #A36314\"><span class=\"spark-nlp-display-entity-name\">S/Sgt John E. Bobis </span><span class=\"spark-nlp-display-entity-type\">ORG</span></span><span class=\"spark-nlp-display-others\" style=\"background-color: white\">; </span><span class=\"spark-nlp-display-entity-wrapper\" style=\"background-color: #A36314\"><span class=\"spark-nlp-display-entity-name\">GRS </span><span class=\"spark-nlp-display-entity-type\">ORG</span></span><span class=\"spark-nlp-display-others\" style=\"background-color: white\">; anes </span><span class=\"spark-nlp-display-entity-wrapper\" style=\"background-color: #A36314\"><span class=\"spark-nlp-display-entity-name\">HANCIS </span><span class=\"spark-nlp-display-entity-type\">ORG</span></span><span class=\"spark-nlp-display-others\" style=\"background-color: white\"> ashon; lst Lt; </span><span class=\"spark-nlp-display-entity-wrapper\" style=\"background-color: #A36314\"><span class=\"spark-nlp-display-entity-name\">MC </span><span class=\"spark-nlp-display-entity-type\">ORG</span></span><span class=\"spark-nlp-display-others\" style=\"background-color: white\">; Signature of Officer or other person reporting </span><span class=\"spark-nlp-display-entity-wrapper\" style=\"background-color: #A125C6\"><span class=\"spark-nlp-display-entity-name\">Burial </span><span class=\"spark-nlp-display-entity-type\">WORK_OF_ART</span></span><span class=\"spark-nlp-display-others\" style=\"background-color: white\">.; Verified by Army G.R.S. Officer.; Prepare in triplicatecopy to Army G.R.S. Officercopy to Chief; G.R.S.Original to the </span><span class=\"spark-nlp-display-entity-wrapper\" style=\"background-color: #2927AE\"><span class=\"spark-nlp-display-entity-name\">O.M.G </span><span class=\"spark-nlp-display-entity-type\">GPE</span></span><span class=\"spark-nlp-display-others\" style=\"background-color: white\">.; </span></div>"
      ],
      "text/plain": [
       "<IPython.core.display.HTML object>"
      ]
     },
     "metadata": {},
     "output_type": "display_data"
    }
   ],
   "source": [
    "from sparknlp_display import NerVisualizer\n",
    "\n",
    "NerVisualizer().display(\n",
    "    result = ner_df.collect()[0],\n",
    "    label_col = 'ner_chunk',\n",
    "    document_col = 'document'\n",
    ")"
   ]
  },
  {
   "cell_type": "markdown",
   "id": "bba102e4-35ca-4a3f-9b82-5c7e1e283594",
   "metadata": {},
   "source": [
    "## ELECTRA\n",
    "https://nlp.johnsnowlabs.com/2021/03/23/onto_recognize_entities_electra_large_en.html\n",
    "Elextra is the most minimalistic of the pretrained pipelines, pruducing very little noise but perhaps not enough entities."
   ]
  },
  {
   "cell_type": "code",
   "execution_count": null,
   "id": "5ff7964e-9add-4dc0-b01f-23c8f85ebe3a",
   "metadata": {},
   "outputs": [],
   "source": [
    "electra = PretrainedPipeline('onto_recognize_entities_electra_large', lang='en')"
   ]
  },
  {
   "cell_type": "code",
   "execution_count": 412,
   "id": "29069210-68f5-4187-a7c6-fde06b20aa12",
   "metadata": {},
   "outputs": [],
   "source": [
    "annotations = electra.fullAnnotate(spark_df, column='text')"
   ]
  },
  {
   "cell_type": "code",
   "execution_count": null,
   "id": "da6d3cde-3830-416d-9016-51b28c3badb7",
   "metadata": {
    "scrolled": true,
    "tags": []
   },
   "outputs": [],
   "source": [
    "electra_results = annotations.select('entities.metadata', 'entities.result').collect()\n",
    "pd.DataFrame(filter_results(electra_results)).to_csv('ner/electra_results.csv')"
   ]
  },
  {
   "cell_type": "code",
   "execution_count": 428,
   "id": "e53d78fa-6ec5-448c-9969-3b9c68e190dc",
   "metadata": {},
   "outputs": [],
   "source": []
  },
  {
   "cell_type": "markdown",
   "id": "c7b0f7c6-7b55-4654-a76a-bd01fe08d4ef",
   "metadata": {},
   "source": [
    "## BERT\n",
    "https://nlp.johnsnowlabs.com/2021/03/23/recognize_entities_bert_en.html<br/>\n",
    "BERT produces the most entities (325 after filtering) but a lot of noise/non-entities."
   ]
  },
  {
   "cell_type": "code",
   "execution_count": 419,
   "id": "3e960d61-86ac-4dad-aa64-c28e21f79606",
   "metadata": {},
   "outputs": [
    {
     "name": "stdout",
     "output_type": "stream",
     "text": [
      "recognize_entities_bert download started this may take some time.\n",
      "Approx size to download 404.6 MB\n",
      "[OK!]\n"
     ]
    }
   ],
   "source": [
    "bert = PretrainedPipeline('recognize_entities_bert', lang='en')\n",
    "bert_annotations = bert.fullAnnotate(spark_df, column='text')"
   ]
  },
  {
   "cell_type": "code",
   "execution_count": null,
   "id": "af3f9181-b651-406b-9e3c-fd61b13affb1",
   "metadata": {
    "scrolled": true,
    "tags": []
   },
   "outputs": [],
   "source": [
    "bert_results = bert_annotations.select('entities.metadata', 'entities.result').collect()\n",
    "pd.DataFrame(filter_results(bert_results)).to_csv('ner/bert_results.csv')"
   ]
  },
  {
   "cell_type": "code",
   "execution_count": 427,
   "id": "fc4b09db-de85-49d9-aca1-55dde9c198f9",
   "metadata": {},
   "outputs": [],
   "source": []
  },
  {
   "cell_type": "markdown",
   "id": "a1394d58-37a1-4801-89a5-fe7b8e6dbaa9",
   "metadata": {},
   "source": [
    "### Recognize Entities DL\n",
    "https://nlp.johnsnowlabs.com/2021/03/23/recognize_entities_dl_en.html<br />\n",
    "Identified 156 entities with filtering. Produces more noise than ONTO 100 but much less than BERT."
   ]
  },
  {
   "cell_type": "code",
   "execution_count": 421,
   "id": "af703c79-a98b-4245-97ec-6f213672c493",
   "metadata": {},
   "outputs": [
    {
     "name": "stdout",
     "output_type": "stream",
     "text": [
      "recognize_entities_dl download started this may take some time.\n",
      "Approx size to download 160.1 MB\n",
      "[OK!]\n"
     ]
    }
   ],
   "source": [
    "recognize = PretrainedPipeline('recognize_entities_dl', lang='en')\n",
    "recognize_annotations = recognize.fullAnnotate(spark_df, column='text')"
   ]
  },
  {
   "cell_type": "code",
   "execution_count": null,
   "id": "6f478d11-2d5f-4ba8-99ee-925189f0bc0e",
   "metadata": {
    "scrolled": true,
    "tags": []
   },
   "outputs": [],
   "source": [
    "recognize_results = recognize_annotations.select('entities.metadata', 'entities.result').collect()\n",
    "pd.DataFrame(filter_results(recognize_results)).to_csv('ner/recognize_entities.csv')"
   ]
  },
  {
   "cell_type": "code",
   "execution_count": 426,
   "id": "d9695ce8-ca92-42b0-9ece-50d999b78c15",
   "metadata": {},
   "outputs": [],
   "source": []
  },
  {
   "cell_type": "markdown",
   "id": "5f12a5a6-e4ef-47d4-8b87-406af0c05590",
   "metadata": {},
   "source": [
    "### Stanford NER with NLTK\n",
    "https://www.pythonprogramming.net/named-entity-recognition-stanford-ner-tagger/<br />\n",
    "Produced 79 entities after filtering out type 'O' entities. It produced only slightly more than Electra but much less then ONTO 100 and seems too minimalistic, but produces very little noise when ignoring type 'O' objects."
   ]
  },
  {
   "cell_type": "code",
   "execution_count": 446,
   "id": "biological-blast",
   "metadata": {
    "scrolled": true,
    "tags": []
   },
   "outputs": [],
   "source": [
    "import nltk\n",
    "from itertools import groupby\n",
    "from nltk.tag import StanfordNERTagger\n",
    "from nltk.tokenize import word_tokenize, sent_tokenize\n",
    "\n",
    "stanford_root = '../stanford-ner-4.2.0/stanford-ner-2020-11-17'\n",
    "\n",
    "st = StanfordNERTagger(stanford_root+'/classifiers/english.all.3class.distsim.crf.ser.gz',\n",
    "                        stanford_root+'/stanford-ner-4.2.0.jar',\n",
    "                        encoding='utf-8')\n",
    "\n",
    "sent_tokens = sent_tokenize(sample_text)\n",
    "sents = [word_tokenize(sent) for sent in sent_tokens]\n",
    "sent_tags = st.tag_sents(sents)\n",
    "nltk_entities = []\n",
    "for sent in sent_tags:\n",
    "    for tag, chunk in groupby(sent, lambda x: x[1]):\n",
    "        en = \" \".join(w for w, t in chunk)\n",
    "        checked = \" \".join( spellcheck.annotate(en) )\n",
    "        if tag == 'O':\n",
    "            continue\n",
    "        nltk_entities.append({\n",
    "            'type': tag,\n",
    "            'original': en,\n",
    "            'checked': checked\n",
    "        })\n",
    "\n",
    "pd.DataFrame(nltk_entities).to_csv('ner/nltk_results.csv')"
   ]
  },
  {
   "cell_type": "code",
   "execution_count": null,
   "id": "a060fa6d-2e0a-47f2-8055-5e1c6896aad0",
   "metadata": {},
   "outputs": [],
   "source": []
  }
 ],
 "metadata": {
  "kernelspec": {
   "display_name": "Python 3",
   "language": "python",
   "name": "python3"
  },
  "language_info": {
   "codemirror_mode": {
    "name": "ipython",
    "version": 3
   },
   "file_extension": ".py",
   "mimetype": "text/x-python",
   "name": "python",
   "nbconvert_exporter": "python",
   "pygments_lexer": "ipython3",
   "version": "3.9.1"
  }
 },
 "nbformat": 4,
 "nbformat_minor": 5
}
