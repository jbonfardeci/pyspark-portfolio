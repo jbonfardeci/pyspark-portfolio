{
 "cells": [
  {
   "cell_type": "markdown",
   "metadata": {},
   "source": [
    "<strong>This notebook attempts to answer the following questions below:</strong>"
   ]
  },
  {
   "cell_type": "markdown",
   "metadata": {},
   "source": [
    "# NASA Satellite Data Analysis\n",
    "John Bonfardeci<br/>\n",
    "2021-01-31"
   ]
  },
  {
   "cell_type": "markdown",
   "metadata": {},
   "source": [
    "# Questions\n",
    "1. Total Number of Satellites.\n",
    "2. Total Active Satellites.\n",
    "3. Number of unique vessels.\n",
    "4. Number of estimated fishing boats.\n",
    "5. Number of vessels missing names or voyage info.\n",
    "6. Number of satellites missing names.\n",
    "7. Number of valid voyages within the Bering Sea area, number outside the Bering Sea.\n",
    "8. Number of vessels that \"seam\" to have satellite tracking capability, i.e. voyages away from shore: \n",
    "9. Number of vessels outside the 48 mile coastline - See #8"
   ]
  },
  {
   "cell_type": "markdown",
   "metadata": {},
   "source": [
    "Apache Spark and access to the AWS Vault S3 bucket, `af-vault` is required."
   ]
  },
  {
   "cell_type": "code",
   "execution_count": 31,
   "metadata": {},
   "outputs": [
    {
     "data": {
      "application/vnd.jupyter.widget-view+json": {
       "model_id": "",
       "version_major": 2,
       "version_minor": 0
      },
      "text/plain": [
       "FloatProgress(value=0.0, bar_style='info', description='Progress:', layout=Layout(height='25px', width='50%'),…"
      ]
     },
     "metadata": {},
     "output_type": "display_data"
    }
   ],
   "source": [
    "# Import Dependencies\n",
    "from pyspark.sql import SparkSession, SQLContext\n",
    "from pyspark.sql.types import *\n",
    "from pyspark.sql import functions as F\n",
    "import numpy as np"
   ]
  },
  {
   "cell_type": "code",
   "execution_count": null,
   "metadata": {},
   "outputs": [],
   "source": [
    "sql = SQLContext(spark.sparkContext)\n",
    "\n",
    "spark = SparkSession.builder \\\n",
    "    .master('local[*]') \\\n",
    "    .appName('DataQuestions') \\\n",
    "    .getOrCreate()"
   ]
  },
  {
   "cell_type": "markdown",
   "metadata": {},
   "source": [
    "## Import AIS Data: Broadcast, Voyage, & Vessel Tables"
   ]
  },
  {
   "cell_type": "code",
   "execution_count": 3,
   "metadata": {},
   "outputs": [
    {
     "data": {
      "application/vnd.jupyter.widget-view+json": {
       "model_id": "",
       "version_major": 2,
       "version_minor": 0
      },
      "text/plain": [
       "FloatProgress(value=0.0, bar_style='info', description='Progress:', layout=Layout(height='25px', width='50%'),…"
      ]
     },
     "metadata": {},
     "output_type": "display_data"
    }
   ],
   "source": [
    "ais_folder = 's3://af-vault/Raw/AIS/extracted/'\n",
    "broadcast = spark.read.csv(ais_folder+'/*.Broadcast.csv', header=True)\n",
    "vessel = spark.read.csv(ais_folder+'/*.Vessel.csv', header=True)\n",
    "voyage = spark.read.csv(ais_folder+'/*.Voyage.csv', header=True)\n",
    "sql.registerDataFrameAsTable(broadcast, 'broadcast')\n",
    "sql.registerDataFrameAsTable(vessel, 'vessel')\n",
    "sql.registerDataFrameAsTable(voyage, 'voyage')"
   ]
  },
  {
   "cell_type": "code",
   "execution_count": 33,
   "metadata": {},
   "outputs": [
    {
     "data": {
      "application/vnd.jupyter.widget-view+json": {
       "model_id": "",
       "version_major": 2,
       "version_minor": 0
      },
      "text/plain": [
       "FloatProgress(value=0.0, bar_style='info', description='Progress:', layout=Layout(height='25px', width='50%'),…"
      ]
     },
     "metadata": {},
     "output_type": "display_data"
    },
    {
     "name": "stdout",
     "output_type": "stream",
     "text": [
      "+--------------------+---+---+-------+---+-------------------+------+--------+---------+------------+----------+\n",
      "|            geometry|SOG|COG|Heading|ROT|       BaseDateTime|Status|VoyageID|     MMSI|ReceiverType|ReceiverID|\n",
      "+--------------------+---+---+-------+---+-------------------+------+--------+---------+------------+----------+\n",
      "|POINT (-122.71500...|  0|199|    511|128|2008-12-31T23:58:59|     0|       1|367047170|           r|   13SCDS1|\n",
      "|POINT (-122.86996...|  0|325|    511|128|2008-12-31T23:58:59|     0|       2|366763770|           r|   13SCDS1|\n",
      "|POINT (-122.33062...|  0|354|    511|128|2008-12-31T23:58:59|     0|       3|368494000|           r|   13RSMT1|\n",
      "|POINT (-122.64572...|  0|345|     55|  0|2008-12-31T23:58:59|     0|       4|366116000|           b| 003669700|\n",
      "|POINT (-123.03351...|  0|172|     96|  0|2008-12-31T23:58:59|    15|       5|316003289|           b| 003669705|\n",
      "+--------------------+---+---+-------+---+-------------------+------+--------+---------+------------+----------+\n",
      "only showing top 5 rows"
     ]
    }
   ],
   "source": [
    "broadcast.show(5)"
   ]
  },
  {
   "cell_type": "code",
   "execution_count": 34,
   "metadata": {},
   "outputs": [
    {
     "data": {
      "application/vnd.jupyter.widget-view+json": {
       "model_id": "",
       "version_major": 2,
       "version_minor": 0
      },
      "text/plain": [
       "FloatProgress(value=0.0, bar_style='info', description='Progress:', layout=Layout(height='25px', width='50%'),…"
      ]
     },
     "metadata": {},
     "output_type": "display_data"
    },
    {
     "name": "stdout",
     "output_type": "stream",
     "text": [
      "+--------+---------+-------+--------+------------------+----------+------+-----+-------------------+\n",
      "|geometry|     MMSI|    IMO|CallSign|              Name|VesselType|Length|Width|DimensionComponents|\n",
      "+--------+---------+-------+--------+------------------+----------+------+-----+-------------------+\n",
      "|    null|367061930|      0|  WX8482|          ROBERT S|         0|    26|    8|           21,5,2,6|\n",
      "|    null|316003349|      0| CFG7268|        CALEDONIAN|        30|    30|    8|          12,18,2,6|\n",
      "|    null|305255000|9366110|   V2DM2|       BBC ORINOCO|        70|   141|   22|       17,124,10,12|\n",
      "|    null|366659730|      0| WCN2606|CHRISTINE ANDERSON|         0|     0|    0|            0,0,0,0|\n",
      "|    null|366986380|      0| WUV6842|     DREDGE OREGON|        33|    61|   18|           9,52,9,9|\n",
      "+--------+---------+-------+--------+------------------+----------+------+-----+-------------------+\n",
      "only showing top 5 rows"
     ]
    }
   ],
   "source": [
    "vessel.show(5)"
   ]
  },
  {
   "cell_type": "code",
   "execution_count": 35,
   "metadata": {},
   "outputs": [
    {
     "data": {
      "application/vnd.jupyter.widget-view+json": {
       "model_id": "",
       "version_major": 2,
       "version_minor": 0
      },
      "text/plain": [
       "FloatProgress(value=0.0, bar_style='info', description='Progress:', layout=Layout(height='25px', width='50%'),…"
      ]
     },
     "metadata": {},
     "output_type": "display_data"
    },
    {
     "name": "stdout",
     "output_type": "stream",
     "text": [
      "+--------+--------+---------------+-----+-------+-------------------+-------------------+-------------------+---------+\n",
      "|geometry|VoyageID|    Destination|Cargo|Draught|                ETA|          StartTime|            EndTime|     MMSI|\n",
      "+--------+--------+---------------+-----+-------+-------------------+-------------------+-------------------+---------+\n",
      "|    null|     109|      TENDERING|    0|      0|               null|2008-12-31T23:59:55|2009-01-14T01:56:57|367061930|\n",
      "|    null|     346|SFO ANCHORAGE 9|   70|     65|2008-01-01T02:00:00|2008-12-31T23:59:55|2009-01-01T11:41:32|305255000|\n",
      "|    null|     261|      SKAMOKAWA|   33|     40|2009-09-08T12:00:00|2009-01-01T00:00:01|               null|366986380|\n",
      "|    null|     451|     BELLINGHAM|   70|     92|2008-07-17T13:30:00|2008-12-31T23:59:58|               null|366604000|\n",
      "|    null|       9|         RCH 11|   52|     40|2009-12-30T13:30:00|2009-01-01T00:00:00|2009-01-25T13:14:09|366763440|\n",
      "+--------+--------+---------------+-----+-------+-------------------+-------------------+-------------------+---------+\n",
      "only showing top 5 rows"
     ]
    }
   ],
   "source": [
    "voyage.show(5)"
   ]
  },
  {
   "cell_type": "markdown",
   "metadata": {},
   "source": [
    "## Fishing Vessels"
   ]
  },
  {
   "cell_type": "code",
   "execution_count": 36,
   "metadata": {},
   "outputs": [
    {
     "data": {
      "application/vnd.jupyter.widget-view+json": {
       "model_id": "",
       "version_major": 2,
       "version_minor": 0
      },
      "text/plain": [
       "FloatProgress(value=0.0, bar_style='info', description='Progress:', layout=Layout(height='25px', width='50%'),…"
      ]
     },
     "metadata": {},
     "output_type": "display_data"
    },
    {
     "name": "stdout",
     "output_type": "stream",
     "text": [
      "+-------+\n",
      "|uniques|\n",
      "+-------+\n",
      "|    431|\n",
      "+-------+"
     ]
    }
   ],
   "source": [
    "fishing_wessels = sql.sql(\"\"\"\n",
    "SELECT count(distinct MMSI) as uniques FROM vessel WHERE cast(VesselType as int) = 30 \n",
    "\"\"\")\n",
    "fishing_wessels.show()"
   ]
  },
  {
   "cell_type": "markdown",
   "metadata": {},
   "source": [
    "## Unique Ship IDS (MMSI)"
   ]
  },
  {
   "cell_type": "code",
   "execution_count": 37,
   "metadata": {},
   "outputs": [
    {
     "data": {
      "application/vnd.jupyter.widget-view+json": {
       "model_id": "",
       "version_major": 2,
       "version_minor": 0
      },
      "text/plain": [
       "FloatProgress(value=0.0, bar_style='info', description='Progress:', layout=Layout(height='25px', width='50%'),…"
      ]
     },
     "metadata": {},
     "output_type": "display_data"
    },
    {
     "name": "stdout",
     "output_type": "stream",
     "text": [
      "+-------+\n",
      "|uniques|\n",
      "+-------+\n",
      "|   7179|\n",
      "+-------+"
     ]
    }
   ],
   "source": [
    "# Unique Vessels\n",
    "unique_ships = sql.sql(\"\"\"\n",
    "SELECT count(distinct MMSI) as uniques FROM vessel\n",
    "\"\"\")\n",
    "unique_ships.show()"
   ]
  },
  {
   "cell_type": "markdown",
   "metadata": {},
   "source": [
    "## Missing Names\n",
    "Joined to Sat-Cat dataset on NORAD ID.<br/>\n",
    "https://celestrak.com/satcat/search.php"
   ]
  },
  {
   "cell_type": "code",
   "execution_count": 38,
   "metadata": {},
   "outputs": [
    {
     "data": {
      "application/vnd.jupyter.widget-view+json": {
       "model_id": "",
       "version_major": 2,
       "version_minor": 0
      },
      "text/plain": [
       "FloatProgress(value=0.0, bar_style='info', description='Progress:', layout=Layout(height='25px', width='50%'),…"
      ]
     },
     "metadata": {},
     "output_type": "display_data"
    },
    {
     "name": "stdout",
     "output_type": "stream",
     "text": [
      "+-------+\n",
      "|uniques|\n",
      "+-------+\n",
      "|   5454|\n",
      "+-------+"
     ]
    }
   ],
   "source": [
    "missing_names = sql.sql(\"\"\"\n",
    "SELECT count(distinct MMSI) as uniques FROM vessel WHERE Name IS NULL\n",
    "\"\"\")\n",
    "missing_names.show()"
   ]
  },
  {
   "cell_type": "markdown",
   "metadata": {},
   "source": [
    "## Missing Voyage Data"
   ]
  },
  {
   "cell_type": "code",
   "execution_count": 39,
   "metadata": {},
   "outputs": [
    {
     "data": {
      "application/vnd.jupyter.widget-view+json": {
       "model_id": "",
       "version_major": 2,
       "version_minor": 0
      },
      "text/plain": [
       "FloatProgress(value=0.0, bar_style='info', description='Progress:', layout=Layout(height='25px', width='50%'),…"
      ]
     },
     "metadata": {},
     "output_type": "display_data"
    },
    {
     "name": "stdout",
     "output_type": "stream",
     "text": [
      "+-------+\n",
      "|uniques|\n",
      "+-------+\n",
      "|    977|\n",
      "+-------+"
     ]
    }
   ],
   "source": [
    "missing_voyage_data = sql.sql(\"\"\"\n",
    "SELECT \n",
    "    count(distinct v.MMSI) as uniques\n",
    "FROM\n",
    "    vessel v\n",
    "    LEFT OUTER JOIN voyage vg ON v.MMSI = vg.MMSI\n",
    "WHERE\n",
    "    vg.MMSI IS NULL\n",
    "\"\"\")\n",
    "missing_voyage_data.show()"
   ]
  },
  {
   "cell_type": "markdown",
   "metadata": {},
   "source": [
    "## TLE Satellite Data"
   ]
  },
  {
   "cell_type": "code",
   "execution_count": 40,
   "metadata": {},
   "outputs": [
    {
     "data": {
      "application/vnd.jupyter.widget-view+json": {
       "model_id": "",
       "version_major": 2,
       "version_minor": 0
      },
      "text/plain": [
       "FloatProgress(value=0.0, bar_style='info', description='Progress:', layout=Layout(height='25px', width='50%'),…"
      ]
     },
     "metadata": {},
     "output_type": "display_data"
    }
   ],
   "source": [
    "tle = spark.read.csv('s3://af-vault/Raw/TLE/cleaned/*.txt', sep='|', )"
   ]
  },
  {
   "cell_type": "code",
   "execution_count": 41,
   "metadata": {},
   "outputs": [
    {
     "data": {
      "application/vnd.jupyter.widget-view+json": {
       "model_id": "",
       "version_major": 2,
       "version_minor": 0
      },
      "text/plain": [
       "FloatProgress(value=0.0, bar_style='info', description='Progress:', layout=Layout(height='25px', width='50%'),…"
      ]
     },
     "metadata": {},
     "output_type": "display_data"
    },
    {
     "name": "stdout",
     "output_type": "stream",
     "text": [
      "+-----+--------------------+--------------------+--------------------+\n",
      "|  _c0|                 _c1|                 _c2|                 _c3|\n",
      "+-----+--------------------+--------------------+--------------------+\n",
      "|28082|2018-01-01T23:09:...|1 28082U 03052A  ...|2 28082   3.8908 ...|\n",
      "|39613|2018-01-01T20:42:...|1 39613U 14010B  ...|2 39613   0.0570 ...|\n",
      "|39487|2018-01-01T20:42:...|1 39487U 13077A  ...|2 39487   0.0598 ...|\n",
      "|28909|2018-01-01T21:29:...|1 28909U 05048B  ...|2 28909  82.4696 ...|\n",
      "|31698|2018-01-01T23:36:...|1 31698U 07026A  ...|2 31698  97.4442 ...|\n",
      "+-----+--------------------+--------------------+--------------------+\n",
      "only showing top 5 rows"
     ]
    }
   ],
   "source": [
    "tle.show(5)"
   ]
  },
  {
   "cell_type": "code",
   "execution_count": 42,
   "metadata": {},
   "outputs": [
    {
     "data": {
      "application/vnd.jupyter.widget-view+json": {
       "model_id": "",
       "version_major": 2,
       "version_minor": 0
      },
      "text/plain": [
       "FloatProgress(value=0.0, bar_style='info', description='Progress:', layout=Layout(height='25px', width='50%'),…"
      ]
     },
     "metadata": {},
     "output_type": "display_data"
    }
   ],
   "source": [
    "sql.registerDataFrameAsTable(tle, 'tle')"
   ]
  },
  {
   "cell_type": "markdown",
   "metadata": {},
   "source": [
    "## Distinct Satellite IDs"
   ]
  },
  {
   "cell_type": "code",
   "execution_count": 43,
   "metadata": {},
   "outputs": [
    {
     "data": {
      "application/vnd.jupyter.widget-view+json": {
       "model_id": "",
       "version_major": 2,
       "version_minor": 0
      },
      "text/plain": [
       "FloatProgress(value=0.0, bar_style='info', description='Progress:', layout=Layout(height='25px', width='50%'),…"
      ]
     },
     "metadata": {},
     "output_type": "display_data"
    },
    {
     "name": "stdout",
     "output_type": "stream",
     "text": [
      "+-------+\n",
      "|Uniques|\n",
      "+-------+\n",
      "|  23500|\n",
      "+-------+"
     ]
    }
   ],
   "source": [
    "unique_sats = sql.sql(\"SELECT count(distinct _c0) as Uniques FROM tle\")\n",
    "unique_sats.show()"
   ]
  },
  {
   "cell_type": "markdown",
   "metadata": {},
   "source": [
    "## Import Sat Cat Dataset"
   ]
  },
  {
   "cell_type": "code",
   "execution_count": 44,
   "metadata": {},
   "outputs": [
    {
     "data": {
      "application/vnd.jupyter.widget-view+json": {
       "model_id": "",
       "version_major": 2,
       "version_minor": 0
      },
      "text/plain": [
       "FloatProgress(value=0.0, bar_style='info', description='Progress:', layout=Layout(height='25px', width='50%'),…"
      ]
     },
     "metadata": {},
     "output_type": "display_data"
    },
    {
     "name": "stdout",
     "output_type": "stream",
     "text": [
      "+-----------+---------+------------+-----------+---------------+-----+-----------+-----------+----------+------+-----------+------+-------+-------+----------------+------------+----------+\n",
      "|OBJECT_NAME|OBJECT_ID|NORAD_CAT_ID|OBJECT_TYPE|OPS_STATUS_CODE|OWNER|LAUNCH_DATE|LAUNCH_SITE|DECAY_DATE|PERIOD|INCLINATION|APOGEE|PERIGEE|    RCS|DATA_STATUS_CODE|ORBIT_CENTER|ORBIT_TYPE|\n",
      "+-----------+---------+------------+-----------+---------------+-----+-----------+-----------+----------+------+-----------+------+-------+-------+----------------+------------+----------+\n",
      "|   SL-1 R/B|1957-001A|           1|        R/B|              D|  CIS| 1957-10-04|      TYMSC|1957-12-01| 96.19|      65.10|   938|    214|20.4200|            null|          EA|       IMP|\n",
      "|  SPUTNIK 1|1957-001B|           2|        PAY|              D|  CIS| 1957-10-04|      TYMSC|1958-01-03| 96.10|      65.00|  1080|     64|   null|            null|          EA|       IMP|\n",
      "+-----------+---------+------------+-----------+---------------+-----+-----------+-----------+----------+------+-----------+------+-------+-------+----------------+------------+----------+\n",
      "only showing top 2 rows"
     ]
    }
   ],
   "source": [
    "satcat = spark.read.csv('s3://af-vault/Raw/TLE/lookups/satcat.csv', header=True)\n",
    "satcat.show(2)"
   ]
  },
  {
   "cell_type": "code",
   "execution_count": 45,
   "metadata": {},
   "outputs": [
    {
     "data": {
      "application/vnd.jupyter.widget-view+json": {
       "model_id": "",
       "version_major": 2,
       "version_minor": 0
      },
      "text/plain": [
       "FloatProgress(value=0.0, bar_style='info', description='Progress:', layout=Layout(height='25px', width='50%'),…"
      ]
     },
     "metadata": {},
     "output_type": "display_data"
    }
   ],
   "source": [
    "sql.registerDataFrameAsTable(satcat, 'satcat')"
   ]
  },
  {
   "cell_type": "markdown",
   "metadata": {},
   "source": [
    "## Active Satellites in Sat Cat"
   ]
  },
  {
   "cell_type": "code",
   "execution_count": 46,
   "metadata": {},
   "outputs": [
    {
     "data": {
      "application/vnd.jupyter.widget-view+json": {
       "model_id": "",
       "version_major": 2,
       "version_minor": 0
      },
      "text/plain": [
       "FloatProgress(value=0.0, bar_style='info', description='Progress:', layout=Layout(height='25px', width='50%'),…"
      ]
     },
     "metadata": {},
     "output_type": "display_data"
    },
    {
     "name": "stdout",
     "output_type": "stream",
     "text": [
      "+-----------+\n",
      "|ActiveCount|\n",
      "+-----------+\n",
      "|       3519|\n",
      "+-----------+"
     ]
    }
   ],
   "source": [
    "active = sql.sql(\"\"\"\n",
    "SELECT \n",
    "    count(distinct OBJECT_NAME) as ActiveCount\n",
    "FROM \n",
    "    satcat\n",
    "WHERE \n",
    "    OPS_STATUS_CODE IN ('+', 'P', 'B', 'S', 'X')\n",
    "\"\"\")\n",
    "active.show()"
   ]
  },
  {
   "cell_type": "code",
   "execution_count": 47,
   "metadata": {},
   "outputs": [
    {
     "data": {
      "application/vnd.jupyter.widget-view+json": {
       "model_id": "",
       "version_major": 2,
       "version_minor": 0
      },
      "text/plain": [
       "FloatProgress(value=0.0, bar_style='info', description='Progress:', layout=Layout(height='25px', width='50%'),…"
      ]
     },
     "metadata": {},
     "output_type": "display_data"
    },
    {
     "name": "stdout",
     "output_type": "stream",
     "text": [
      "1"
     ]
    }
   ],
   "source": [
    "active.count()"
   ]
  },
  {
   "cell_type": "markdown",
   "metadata": {},
   "source": [
    "## Get Satellite Names"
   ]
  },
  {
   "cell_type": "code",
   "execution_count": 48,
   "metadata": {},
   "outputs": [
    {
     "data": {
      "application/vnd.jupyter.widget-view+json": {
       "model_id": "",
       "version_major": 2,
       "version_minor": 0
      },
      "text/plain": [
       "FloatProgress(value=0.0, bar_style='info', description='Progress:', layout=Layout(height='25px', width='50%'),…"
      ]
     },
     "metadata": {},
     "output_type": "display_data"
    },
    {
     "name": "stdout",
     "output_type": "stream",
     "text": [
      "+------+-------------------+-----------+\n",
      "|SatNum|            SatName|Operational|\n",
      "+------+-------------------+-----------+\n",
      "| 10840|        DELTA 1 DEB|          0|\n",
      "| 21386|        DELTA 1 DEB|          0|\n",
      "| 06660|               null|          0|\n",
      "| 34204|        CBERS 1 DEB|          0|\n",
      "| 35622|     IRIDIUM 33 DEB|          0|\n",
      "| 12904|           SL-3 R/B|          0|\n",
      "|  1739|      SCOUT X-4 R/B|          0|\n",
      "| 17107|    COSMOS 1375 DEB|          0|\n",
      "| 22375|          SL-16 DEB|          0|\n",
      "| 23482|          SL-19 DEB|          0|\n",
      "| 26654|          CZ-4B DEB|          0|\n",
      "| 26829|        DELTA 1 DEB|          0|\n",
      "| 35227|     FENGYUN 1C DEB|          0|\n",
      "| 27601|           H-2A R/B|          0|\n",
      "| 41581|INTELSAT 31 (IS-31)|          1|\n",
      "| 30716|     FENGYUN 1C DEB|          0|\n",
      "| 38087|              SES-4|          1|\n",
      "| 35102|     FENGYUN 1C DEB|          0|\n",
      "|   608|              ERS 6|          0|\n",
      "| 40081|            O3B FM6|          1|\n",
      "+------+-------------------+-----------+\n",
      "only showing top 20 rows"
     ]
    }
   ],
   "source": [
    "sat_names = sql.sql(\"\"\"\n",
    "SELECT \n",
    "    _c0 as SatNum\n",
    "    , OBJECT_NAME as SatName\n",
    "    , CASE WHEN OPS_STATUS_CODE IN ('+', 'P', 'B', 'S', 'X') THEN 1 \n",
    "    ELSE 0 END as Operational\n",
    "FROM \n",
    "    tle \n",
    "    LEFT OUTER JOIN satcat ON tle._c0 = satcat.NORAD_CAT_ID\n",
    "GROUP BY \n",
    "    _c0, OBJECT_NAME, OPS_STATUS_CODE\n",
    "\"\"\")\n",
    "sat_names.show()"
   ]
  },
  {
   "cell_type": "code",
   "execution_count": 49,
   "metadata": {},
   "outputs": [
    {
     "data": {
      "application/vnd.jupyter.widget-view+json": {
       "model_id": "",
       "version_major": 2,
       "version_minor": 0
      },
      "text/plain": [
       "FloatProgress(value=0.0, bar_style='info', description='Progress:', layout=Layout(height='25px', width='50%'),…"
      ]
     },
     "metadata": {},
     "output_type": "display_data"
    }
   ],
   "source": [
    "sql.registerDataFrameAsTable(sat_names, 'satnames')"
   ]
  },
  {
   "cell_type": "markdown",
   "metadata": {},
   "source": [
    "## Active Satellites in TLE Data - Joined to Sat Cat"
   ]
  },
  {
   "cell_type": "code",
   "execution_count": 50,
   "metadata": {},
   "outputs": [
    {
     "data": {
      "application/vnd.jupyter.widget-view+json": {
       "model_id": "",
       "version_major": 2,
       "version_minor": 0
      },
      "text/plain": [
       "FloatProgress(value=0.0, bar_style='info', description='Progress:', layout=Layout(height='25px', width='50%'),…"
      ]
     },
     "metadata": {},
     "output_type": "display_data"
    },
    {
     "name": "stdout",
     "output_type": "stream",
     "text": [
      "+---------+\n",
      "|NumActive|\n",
      "+---------+\n",
      "|     1776|\n",
      "+---------+"
     ]
    }
   ],
   "source": [
    "active = sql.sql(\"SELECT count(distinct SatNum) NumActive FROM satnames WHERE Operational = 1\")\n",
    "active.show()"
   ]
  },
  {
   "cell_type": "markdown",
   "metadata": {},
   "source": [
    "## Missing Satellite Names - Joined to Sat Cat"
   ]
  },
  {
   "cell_type": "code",
   "execution_count": 58,
   "metadata": {},
   "outputs": [
    {
     "data": {
      "application/vnd.jupyter.widget-view+json": {
       "model_id": "",
       "version_major": 2,
       "version_minor": 0
      },
      "text/plain": [
       "FloatProgress(value=0.0, bar_style='info', description='Progress:', layout=Layout(height='25px', width='50%'),…"
      ]
     },
     "metadata": {},
     "output_type": "display_data"
    },
    {
     "name": "stdout",
     "output_type": "stream",
     "text": [
      "+------------+\n",
      "|MissingNames|\n",
      "+------------+\n",
      "|        2466|\n",
      "+------------+"
     ]
    }
   ],
   "source": [
    "missing_names = sql.sql(\"SELECT count(distinct SatNum) MissingNames FROM satnames WHERE SatName IS NULL\")\n",
    "missing_names.show()"
   ]
  },
  {
   "cell_type": "markdown",
   "metadata": {},
   "source": [
    "## Ships within Bering Sea Area"
   ]
  },
  {
   "cell_type": "code",
   "execution_count": 30,
   "metadata": {},
   "outputs": [
    {
     "data": {
      "application/vnd.jupyter.widget-view+json": {
       "model_id": "",
       "version_major": 2,
       "version_minor": 0
      },
      "text/plain": [
       "FloatProgress(value=0.0, bar_style='info', description='Progress:', layout=Layout(height='25px', width='50%'),…"
      ]
     },
     "metadata": {},
     "output_type": "display_data"
    }
   ],
   "source": [
    "from math import radians, sin, cos, sqrt, asin\n",
    "\n",
    "def get_distance(lat_a, lon_a, lat_b, lon_b): \n",
    "    lon1,  lat1, lon2, lat2 = map(radians, [lat_a, lon_a, lat_b, lon_b])\n",
    "    \n",
    "    a = sin((lat2-lat1)/2.0)**2 + \\\n",
    "        cos(lat1) * cos(lat2) * sin((lon2-lon1)/2.0)**2\n",
    "    \n",
    "    earth_radius = 3798\n",
    "    return earth_radius * 2 * asin(sqrt(a))\n",
    "\n",
    "def bering_sea_dist(lat, lon):\n",
    "    # Approx center of Bering Sea\n",
    "    coords = [59.07926040162669, -178.2428626370946]\n",
    "    return get_distance(lat, lon, coords[0], coords[1])\n",
    "\n",
    "udf_get_distance = F.udf(bering_sea_dist)"
   ]
  },
  {
   "cell_type": "code",
   "execution_count": 6,
   "metadata": {},
   "outputs": [
    {
     "data": {
      "application/vnd.jupyter.widget-view+json": {
       "model_id": "",
       "version_major": 2,
       "version_minor": 0
      },
      "text/plain": [
       "FloatProgress(value=0.0, bar_style='info', description='Progress:', layout=Layout(height='25px', width='50%'),…"
      ]
     },
     "metadata": {},
     "output_type": "display_data"
    },
    {
     "name": "stdout",
     "output_type": "stream",
     "text": [
      "+---------+-------------------+-----------+-----------------+-------------------------+\n",
      "|     MMSI|       BaseDateTime|        lat|              lon|DistanceToBeringSeaCenter|\n",
      "+---------+-------------------+-----------+-----------------+-------------------------+\n",
      "|367047170|2008-12-31T23:58:59|-122.715003|45.63362699999999|                        0|\n",
      "|366763770|2008-12-31T23:58:59|-122.869968|        46.027173|                        0|\n",
      "|368494000|2008-12-31T23:58:59|-122.330622|47.54250200000001|                        0|\n",
      "|366116000|2008-12-31T23:58:59|-122.645723|48.51261199999999|                        0|\n",
      "|316003289|2008-12-31T23:58:59|-123.033517|49.14422500000001|                        0|\n",
      "|431162000|2008-12-31T23:58:59|-123.714967|        34.575867|                        0|\n",
      "|367029760|2008-12-31T23:58:59| -122.49624|48.39882700000001|                        0|\n",
      "|366862680|2008-12-31T23:58:59|-122.214065|37.50421799999999|                        0|\n",
      "|366763440|2008-12-31T23:58:59| -122.31411|        37.819283|                        0|\n",
      "|366998510|2008-12-31T23:58:59|-122.293217|37.79341700000001|                        0|\n",
      "|367347050|2008-12-31T23:58:59|-122.774663|        45.780755|                        0|\n",
      "|316001252|2008-12-31T23:58:59| -123.39275|48.72794999999999|                        0|\n",
      "|366047000|2008-12-31T23:58:59|-122.381058|        47.629288|                        0|\n",
      "|316003656|2008-12-31T23:58:59|-123.312415|48.85809699999999|                        0|\n",
      "|369514000|2008-12-31T23:58:59|-122.351642|47.58868799999999|                        0|\n",
      "|366970020|2008-12-31T23:58:59|-122.449105|         37.90382|                        0|\n",
      "|367336380|2008-12-31T23:58:59| -122.69084|37.72821500000001|                        0|\n",
      "|366834640|2008-12-31T23:58:59|-121.560183|38.19743800000001|                        0|\n",
      "|366985320|2008-12-31T23:58:59|-122.419797|        37.826007|                        0|\n",
      "|356273000|2008-12-31T23:58:59|-124.139555|46.19338300000001|                        0|\n",
      "+---------+-------------------+-----------+-----------------+-------------------------+\n",
      "only showing top 20 rows"
     ]
    }
   ],
   "source": [
    "geom = sql.sql(\"\"\"\n",
    "SELECT \n",
    "    MMSI\n",
    "    , BaseDateTime \n",
    "    , cast(trim(geom[0]) as Double) as lat\n",
    "    , cast(trim(geom[1]) as Double) as lon\n",
    "    , 0 as DistanceToBeringSeaCenter\n",
    "FROM (\n",
    "    SELECT \n",
    "        MMSI\n",
    "        , BaseDateTime\n",
    "        , split(replace(replace(geometry, 'POINT (', ''), ')', ''), ' ') as geom \n",
    "    FROM \n",
    "        broadcast \n",
    ") t\n",
    "\"\"\")\n",
    "geom.show()"
   ]
  },
  {
   "cell_type": "code",
   "execution_count": 23,
   "metadata": {},
   "outputs": [
    {
     "data": {
      "application/vnd.jupyter.widget-view+json": {
       "model_id": "",
       "version_major": 2,
       "version_minor": 0
      },
      "text/plain": [
       "FloatProgress(value=0.0, bar_style='info', description='Progress:', layout=Layout(height='25px', width='50%'),…"
      ]
     },
     "metadata": {},
     "output_type": "display_data"
    }
   ],
   "source": [
    "dist_bering = geom.withColumn('DistanceToBeringSeaCenter'\n",
    "                                , udf_get_distance(geom.lat, geom.lon))"
   ]
  },
  {
   "cell_type": "code",
   "execution_count": 24,
   "metadata": {},
   "outputs": [
    {
     "data": {
      "application/vnd.jupyter.widget-view+json": {
       "model_id": "",
       "version_major": 2,
       "version_minor": 0
      },
      "text/plain": [
       "FloatProgress(value=0.0, bar_style='info', description='Progress:', layout=Layout(height='25px', width='50%'),…"
      ]
     },
     "metadata": {},
     "output_type": "display_data"
    },
    {
     "name": "stdout",
     "output_type": "stream",
     "text": [
      "+---------+-------------------+-----------+-----------------+-------------------------+\n",
      "|     MMSI|       BaseDateTime|        lat|              lon|DistanceToBeringSeaCenter|\n",
      "+---------+-------------------+-----------+-----------------+-------------------------+\n",
      "|367047170|2008-12-31T23:58:59|-122.715003|45.63362699999999|        3143.188248327428|\n",
      "|366763770|2008-12-31T23:58:59|-122.869968|        46.027173|        3169.566290929054|\n",
      "|368494000|2008-12-31T23:58:59|-122.330622|47.54250200000001|        3268.978211213409|\n",
      "|366116000|2008-12-31T23:58:59|-122.645723|48.51261199999999|        3333.742909730551|\n",
      "|316003289|2008-12-31T23:58:59|-123.033517|49.14422500000001|       3376.3041988819086|\n",
      "|431162000|2008-12-31T23:58:59|-123.714967|        34.575867|        2414.693293885854|\n",
      "|367029760|2008-12-31T23:58:59| -122.49624|48.39882700000001|       3325.9595843650795|\n",
      "|366862680|2008-12-31T23:58:59|-122.214065|37.50421799999999|       2603.7532729843124|\n",
      "|366763440|2008-12-31T23:58:59| -122.31411|        37.819283|       2624.8176019440402|\n",
      "|366998510|2008-12-31T23:58:59|-122.293217|37.79341700000001|       2623.0628117137785|\n",
      "|367347050|2008-12-31T23:58:59|-122.774663|        45.780755|        3153.051113184971|\n",
      "|316001252|2008-12-31T23:58:59| -123.39275|48.72794999999999|        3349.555183441491|\n",
      "|366047000|2008-12-31T23:58:59|-122.381058|        47.629288|          3274.8023067253|\n",
      "|316003656|2008-12-31T23:58:59|-123.312415|48.85809699999999|        3357.976748088607|\n",
      "|369514000|2008-12-31T23:58:59|-122.351642|47.58868799999999|       3272.0688445889677|\n",
      "|366970020|2008-12-31T23:58:59|-122.449105|         37.90382|       2630.6990561805515|\n",
      "|367336380|2008-12-31T23:58:59| -122.69084|37.72821500000001|        2619.641803759866|\n",
      "|366834640|2008-12-31T23:58:59|-121.560183|38.19743800000001|       2648.7824151518244|\n",
      "|366985320|2008-12-31T23:58:59|-122.419797|        37.826007|       2625.4819690410036|\n",
      "|356273000|2008-12-31T23:58:59|-124.139555|46.19338300000001|       3184.1044392819254|\n",
      "+---------+-------------------+-----------+-----------------+-------------------------+\n",
      "only showing top 20 rows"
     ]
    }
   ],
   "source": [
    "dist_bering.show()"
   ]
  },
  {
   "cell_type": "code",
   "execution_count": 25,
   "metadata": {},
   "outputs": [
    {
     "data": {
      "application/vnd.jupyter.widget-view+json": {
       "model_id": "",
       "version_major": 2,
       "version_minor": 0
      },
      "text/plain": [
       "FloatProgress(value=0.0, bar_style='info', description='Progress:', layout=Layout(height='25px', width='50%'),…"
      ]
     },
     "metadata": {},
     "output_type": "display_data"
    },
    {
     "name": "stdout",
     "output_type": "stream",
     "text": [
      "+---------+-------------------+-----------+-----------------+-------------------------+\n",
      "|     MMSI|       BaseDateTime|        lat|              lon|DistanceToBeringSeaCenter|\n",
      "+---------+-------------------+-----------+-----------------+-------------------------+\n",
      "|857479069|2014-01-04T07:17:46|-121.854787|13.35459299999999|       1003.6012693882986|\n",
      "|308662000|2009-12-29T17:05:00|-123.939948|        13.631152|       1039.1762913762122|\n",
      "|563745791|2014-01-14T13:53:34|  -124.0257|         13.92913|       1059.6270275475924|\n",
      "|367561462|2014-01-26T23:49:05| -122.72039|        14.178828|       1062.9490258158537|\n",
      "|692873301|2010-01-09T00:11:00|-122.514362|14.26399000000001|       1067.1461452926585|\n",
      "|440002508|2011-01-15T09:24:00|-125.090428|        13.807115|       1067.4798966269007|\n",
      "|533390100|2014-01-03T04:46:40|-120.653983|14.39231700000001|       1070.6519228996901|\n",
      "|533390100|2014-01-03T04:51:40|  -120.6748|         14.39395|       1070.7386703608852|\n",
      "|533390100|2014-01-03T04:53:14|-120.681383|        14.394567|       1070.7731339683348|\n",
      "|533390100|2014-01-03T04:54:34|-120.686783|        14.395183|       1070.8088176699582|\n",
      "+---------+-------------------+-----------+-----------------+-------------------------+\n",
      "only showing top 10 rows"
     ]
    }
   ],
   "source": [
    "dist_bering.orderBy('DistanceToBeringSeaCenter').show(10)"
   ]
  },
  {
   "cell_type": "markdown",
   "metadata": {},
   "source": [
    "## Voyages Outside the Bering Sea\n",
    "Voyages outside a radius of ~ 1100km"
   ]
  },
  {
   "cell_type": "code",
   "execution_count": 29,
   "metadata": {},
   "outputs": [
    {
     "data": {
      "application/vnd.jupyter.widget-view+json": {
       "model_id": "",
       "version_major": 2,
       "version_minor": 0
      },
      "text/plain": [
       "FloatProgress(value=0.0, bar_style='info', description='Progress:', layout=Layout(height='25px', width='50%'),…"
      ]
     },
     "metadata": {},
     "output_type": "display_data"
    },
    {
     "name": "stdout",
     "output_type": "stream",
     "text": [
      "121853046"
     ]
    }
   ],
   "source": [
    "dist_bering.where('DistanceToBeringSeaCenter > 1100').count()"
   ]
  },
  {
   "cell_type": "markdown",
   "metadata": {},
   "source": [
    "## Voyages Inside the Bering Sea\n",
    "Voyages within a radius of ~ 1100km"
   ]
  },
  {
   "cell_type": "code",
   "execution_count": null,
   "metadata": {},
   "outputs": [],
   "source": [
    "dist_bering.where('DistanceToBeringSeaCenter <= 1100').count()"
   ]
  },
  {
   "cell_type": "markdown",
   "metadata": {},
   "source": [
    "Approx center of Bering Sea area: lat:59.07926040162669, lon:-178.2428626370946<br/>\n",
    "Approx distance from center to perimiter: 1100 km"
   ]
  },
  {
   "cell_type": "code",
   "execution_count": 27,
   "metadata": {},
   "outputs": [
    {
     "data": {
      "application/vnd.jupyter.widget-view+json": {
       "model_id": "",
       "version_major": 2,
       "version_minor": 0
      },
      "text/plain": [
       "FloatProgress(value=0.0, bar_style='info', description='Progress:', layout=Layout(height='25px', width='50%'),…"
      ]
     },
     "metadata": {},
     "output_type": "display_data"
    },
    {
     "name": "stdout",
     "output_type": "stream",
     "text": [
      "Distance to center of Bering Sea 1170.703839"
     ]
    }
   ],
   "source": [
    "# test\n",
    "test_dist = bering_sea_dist(57.7227961971243, 164.1471189278966) # 1170.7038386396125\n",
    "print(\"Distance to center of Bering Sea %f\" % (test_dist))"
   ]
  },
  {
   "cell_type": "markdown",
   "metadata": {},
   "source": [
    "## Answers"
   ]
  },
  {
   "cell_type": "markdown",
   "metadata": {},
   "source": [
    "1. Total Number of Satellites: 23,500\n",
    "2. Total Active Satellites: 1,776 per external data (as of 1/5/2021, https://celestrak.com/satcat/search.php)\n",
    "3. Number of unique vessels: 7,179\n",
    "4. Number of estimated fishing boats: 431 where VesselType = 30 (Fishing)\n",
    "5. Number of vessels missing names or voyage info: 5,454 and 977\n",
    "6. Number of satellites missing names: 2,466\n",
    "7. Number of valid voyages within the Bering Sea area, number outside the Bering Sea: 127 and 121,853,046 respectively.\n",
    "8. Number of vessels that \"seam\" to have satellite tracking capability, i.e. voyages away from shore: \n",
    "    - Need data set of lat/lon to define all shorelines\n",
    "    - Use Haversine to calculate distance to shore for each ship for at least each hour of its voyage. \n",
    "    - Data gathering and compute time is a limitation given time frame.\n",
    "9. Number of vessels outside the 48 mile coastline - See #8\n",
    "\n",
    "* Satellite operational status according to ('+', 'P', 'B', 'S', 'X')"
   ]
  }
 ],
 "metadata": {
  "kernelspec": {
   "display_name": "PySpark",
   "language": "",
   "name": "pysparkkernel"
  },
  "language_info": {
   "codemirror_mode": {
    "name": "python",
    "version": 3
   },
   "mimetype": "text/x-python",
   "name": "pyspark",
   "pygments_lexer": "python3"
  }
 },
 "nbformat": 4,
 "nbformat_minor": 4
}
